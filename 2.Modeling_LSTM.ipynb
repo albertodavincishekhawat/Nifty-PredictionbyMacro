{
 "cells": [
  {
   "cell_type": "code",
   "execution_count": 1,
   "id": "c1742d88-a7c3-46e2-a835-a90386024d89",
   "metadata": {},
   "outputs": [],
   "source": [
    "import numpy as np\n",
    "import pandas as pd\n",
    "import matplotlib.pyplot as plt\n",
    "\n",
    "import tensorflow as tf\n",
    "from tensorflow.keras.preprocessing.sequence import TimeseriesGenerator\n",
    "from tensorflow.keras.models import Sequential\n",
    "from tensorflow.keras.layers import LSTM, Dense, Embedding\n",
    "from statsmodels.tsa.seasonal import seasonal_decompose\n",
    "from sklearn.metrics import root_mean_squared_error\n",
    "from sklearn.preprocessing import MinMaxScaler"
   ]
  },
  {
   "cell_type": "code",
   "execution_count": 2,
   "id": "408f7111-dfe0-4116-89bf-3b6186dc445b",
   "metadata": {},
   "outputs": [],
   "source": [
    "df = pd.read_csv(\"finaldata.csv\")"
   ]
  },
  {
   "cell_type": "code",
   "execution_count": 3,
   "id": "6518fd39-7573-4753-b171-3c8773f648e8",
   "metadata": {
    "scrolled": true
   },
   "outputs": [
    {
     "data": {
      "text/html": [
       "<div>\n",
       "<style scoped>\n",
       "    .dataframe tbody tr th:only-of-type {\n",
       "        vertical-align: middle;\n",
       "    }\n",
       "\n",
       "    .dataframe tbody tr th {\n",
       "        vertical-align: top;\n",
       "    }\n",
       "\n",
       "    .dataframe thead th {\n",
       "        text-align: right;\n",
       "    }\n",
       "</style>\n",
       "<table border=\"1\" class=\"dataframe\">\n",
       "  <thead>\n",
       "    <tr style=\"text-align: right;\">\n",
       "      <th></th>\n",
       "      <th>Date</th>\n",
       "      <th>vixPrice</th>\n",
       "      <th>vixChange%</th>\n",
       "      <th>niftyPrice</th>\n",
       "      <th>niftyChange %</th>\n",
       "      <th>n5day</th>\n",
       "      <th>n10day</th>\n",
       "      <th>n20day</th>\n",
       "      <th>n1day</th>\n",
       "      <th>n60day</th>\n",
       "      <th>...</th>\n",
       "      <th>RbiinterestAnticepation</th>\n",
       "      <th>USInflation Rate (%)</th>\n",
       "      <th>USInflationRate%chng</th>\n",
       "      <th>USInflation Rate (%)Anticepation</th>\n",
       "      <th>IndiaInflationRate(%)</th>\n",
       "      <th>IndiaInflationRate(%)chng</th>\n",
       "      <th>IndiaInflationRate(%)Anticepation</th>\n",
       "      <th>IndiaBudgetDatesAnticipation</th>\n",
       "      <th>IndiaElectionDatesAnticipation</th>\n",
       "      <th>UsElectionDatesAnticipation</th>\n",
       "    </tr>\n",
       "  </thead>\n",
       "  <tbody>\n",
       "    <tr>\n",
       "      <th>0</th>\n",
       "      <td>2008-06-05</td>\n",
       "      <td>30.32</td>\n",
       "      <td>1.68</td>\n",
       "      <td>4676.95</td>\n",
       "      <td>1.99</td>\n",
       "      <td>4835.3</td>\n",
       "      <td>5025.45</td>\n",
       "      <td>5135.50</td>\n",
       "      <td>4647.00</td>\n",
       "      <td>4864.25</td>\n",
       "      <td>...</td>\n",
       "      <td>0</td>\n",
       "      <td>9.0</td>\n",
       "      <td>4.651163</td>\n",
       "      <td>0</td>\n",
       "      <td>11.8</td>\n",
       "      <td>26.88172</td>\n",
       "      <td>0</td>\n",
       "      <td>0</td>\n",
       "      <td>0</td>\n",
       "      <td>0</td>\n",
       "    </tr>\n",
       "    <tr>\n",
       "      <th>1</th>\n",
       "      <td>2008-06-06</td>\n",
       "      <td>30.32</td>\n",
       "      <td>0.00</td>\n",
       "      <td>4627.80</td>\n",
       "      <td>-1.05</td>\n",
       "      <td>4870.1</td>\n",
       "      <td>4946.55</td>\n",
       "      <td>5081.70</td>\n",
       "      <td>4761.20</td>\n",
       "      <td>4921.40</td>\n",
       "      <td>...</td>\n",
       "      <td>0</td>\n",
       "      <td>9.0</td>\n",
       "      <td>4.651163</td>\n",
       "      <td>0</td>\n",
       "      <td>11.8</td>\n",
       "      <td>26.88172</td>\n",
       "      <td>0</td>\n",
       "      <td>1</td>\n",
       "      <td>1</td>\n",
       "      <td>1</td>\n",
       "    </tr>\n",
       "    <tr>\n",
       "      <th>2</th>\n",
       "      <td>2008-06-09</td>\n",
       "      <td>32.43</td>\n",
       "      <td>6.96</td>\n",
       "      <td>4500.95</td>\n",
       "      <td>-2.74</td>\n",
       "      <td>4739.6</td>\n",
       "      <td>4875.05</td>\n",
       "      <td>4982.60</td>\n",
       "      <td>4709.65</td>\n",
       "      <td>4771.60</td>\n",
       "      <td>...</td>\n",
       "      <td>0</td>\n",
       "      <td>9.0</td>\n",
       "      <td>4.651163</td>\n",
       "      <td>0</td>\n",
       "      <td>11.8</td>\n",
       "      <td>26.88172</td>\n",
       "      <td>0</td>\n",
       "      <td>2</td>\n",
       "      <td>2</td>\n",
       "      <td>2</td>\n",
       "    </tr>\n",
       "    <tr>\n",
       "      <th>3</th>\n",
       "      <td>2008-06-10</td>\n",
       "      <td>30.23</td>\n",
       "      <td>-6.78</td>\n",
       "      <td>4449.80</td>\n",
       "      <td>-1.14</td>\n",
       "      <td>4715.9</td>\n",
       "      <td>4859.80</td>\n",
       "      <td>5012.65</td>\n",
       "      <td>4747.05</td>\n",
       "      <td>4800.40</td>\n",
       "      <td>...</td>\n",
       "      <td>0</td>\n",
       "      <td>9.0</td>\n",
       "      <td>4.651163</td>\n",
       "      <td>0</td>\n",
       "      <td>11.8</td>\n",
       "      <td>26.88172</td>\n",
       "      <td>0</td>\n",
       "      <td>3</td>\n",
       "      <td>3</td>\n",
       "      <td>3</td>\n",
       "    </tr>\n",
       "    <tr>\n",
       "      <th>4</th>\n",
       "      <td>2008-06-11</td>\n",
       "      <td>29.64</td>\n",
       "      <td>-1.95</td>\n",
       "      <td>4523.60</td>\n",
       "      <td>1.66</td>\n",
       "      <td>4585.6</td>\n",
       "      <td>4918.35</td>\n",
       "      <td>4957.80</td>\n",
       "      <td>4733.00</td>\n",
       "      <td>4865.90</td>\n",
       "      <td>...</td>\n",
       "      <td>0</td>\n",
       "      <td>9.0</td>\n",
       "      <td>4.651163</td>\n",
       "      <td>0</td>\n",
       "      <td>11.8</td>\n",
       "      <td>26.88172</td>\n",
       "      <td>0</td>\n",
       "      <td>4</td>\n",
       "      <td>4</td>\n",
       "      <td>4</td>\n",
       "    </tr>\n",
       "  </tbody>\n",
       "</table>\n",
       "<p>5 rows × 80 columns</p>\n",
       "</div>"
      ],
      "text/plain": [
       "         Date  vixPrice  vixChange%  niftyPrice  niftyChange %   n5day  \\\n",
       "0  2008-06-05     30.32        1.68     4676.95           1.99  4835.3   \n",
       "1  2008-06-06     30.32        0.00     4627.80          -1.05  4870.1   \n",
       "2  2008-06-09     32.43        6.96     4500.95          -2.74  4739.6   \n",
       "3  2008-06-10     30.23       -6.78     4449.80          -1.14  4715.9   \n",
       "4  2008-06-11     29.64       -1.95     4523.60           1.66  4585.6   \n",
       "\n",
       "    n10day   n20day    n1day   n60day  ...  RbiinterestAnticepation  \\\n",
       "0  5025.45  5135.50  4647.00  4864.25  ...                        0   \n",
       "1  4946.55  5081.70  4761.20  4921.40  ...                        0   \n",
       "2  4875.05  4982.60  4709.65  4771.60  ...                        0   \n",
       "3  4859.80  5012.65  4747.05  4800.40  ...                        0   \n",
       "4  4918.35  4957.80  4733.00  4865.90  ...                        0   \n",
       "\n",
       "   USInflation Rate (%)  USInflationRate%chng  \\\n",
       "0                   9.0              4.651163   \n",
       "1                   9.0              4.651163   \n",
       "2                   9.0              4.651163   \n",
       "3                   9.0              4.651163   \n",
       "4                   9.0              4.651163   \n",
       "\n",
       "   USInflation Rate (%)Anticepation  IndiaInflationRate(%)  \\\n",
       "0                                 0                   11.8   \n",
       "1                                 0                   11.8   \n",
       "2                                 0                   11.8   \n",
       "3                                 0                   11.8   \n",
       "4                                 0                   11.8   \n",
       "\n",
       "   IndiaInflationRate(%)chng  IndiaInflationRate(%)Anticepation  \\\n",
       "0                   26.88172                                  0   \n",
       "1                   26.88172                                  0   \n",
       "2                   26.88172                                  0   \n",
       "3                   26.88172                                  0   \n",
       "4                   26.88172                                  0   \n",
       "\n",
       "   IndiaBudgetDatesAnticipation  IndiaElectionDatesAnticipation  \\\n",
       "0                             0                               0   \n",
       "1                             1                               1   \n",
       "2                             2                               2   \n",
       "3                             3                               3   \n",
       "4                             4                               4   \n",
       "\n",
       "   UsElectionDatesAnticipation  \n",
       "0                            0  \n",
       "1                            1  \n",
       "2                            2  \n",
       "3                            3  \n",
       "4                            4  \n",
       "\n",
       "[5 rows x 80 columns]"
      ]
     },
     "execution_count": 3,
     "metadata": {},
     "output_type": "execute_result"
    }
   ],
   "source": [
    "df.head()"
   ]
  },
  {
   "cell_type": "markdown",
   "id": "0b100bad",
   "metadata": {},
   "source": [
    "basicaly around 243 rows will denote a year's data"
   ]
  },
  {
   "cell_type": "code",
   "execution_count": 4,
   "id": "a5cc56ee-efea-4629-bbd2-9868f3688932",
   "metadata": {},
   "outputs": [
    {
     "name": "stdout",
     "output_type": "stream",
     "text": [
      "<class 'pandas.core.frame.DataFrame'>\n",
      "RangeIndex: 4016 entries, 0 to 4015\n",
      "Data columns (total 80 columns):\n",
      " #   Column                             Non-Null Count  Dtype  \n",
      "---  ------                             --------------  -----  \n",
      " 0   Date                               4016 non-null   object \n",
      " 1   vixPrice                           4016 non-null   float64\n",
      " 2   vixChange%                         4016 non-null   float64\n",
      " 3   niftyPrice                         4016 non-null   float64\n",
      " 4   niftyChange %                      4016 non-null   float64\n",
      " 5   n5day                              4016 non-null   float64\n",
      " 6   n10day                             4016 non-null   float64\n",
      " 7   n20day                             4016 non-null   float64\n",
      " 8   n1day                              4016 non-null   float64\n",
      " 9   n60day                             4016 non-null   float64\n",
      " 10  nc5day                             4016 non-null   float64\n",
      " 11  nc10day                            4016 non-null   float64\n",
      " 12  nc20day                            4016 non-null   float64\n",
      " 13  nc1day                             4016 non-null   float64\n",
      " 14  nc60day                            4016 non-null   float64\n",
      " 15  v5day                              4016 non-null   float64\n",
      " 16  v10day                             4016 non-null   float64\n",
      " 17  v20day                             4016 non-null   float64\n",
      " 18  v1day                              4016 non-null   float64\n",
      " 19  v60day                             4016 non-null   float64\n",
      " 20  vc5day                             4016 non-null   float64\n",
      " 21  vc10day                            4016 non-null   float64\n",
      " 22  vc20day                            4016 non-null   float64\n",
      " 23  vc1day                             4016 non-null   float64\n",
      " 24  vc60day                            4016 non-null   float64\n",
      " 25  DayOfWeek                          4016 non-null   object \n",
      " 26  month                              4016 non-null   object \n",
      " 27  Tuesday                            4016 non-null   int64  \n",
      " 28  Wednesday                          4016 non-null   int64  \n",
      " 29  Friday                             4016 non-null   int64  \n",
      " 30  Monday                             4016 non-null   int64  \n",
      " 31  Thursday                           4016 non-null   int64  \n",
      " 32  Saturday                           4016 non-null   int64  \n",
      " 33  Sunday                             4016 non-null   int64  \n",
      " 34  March                              4016 non-null   int64  \n",
      " 35  April                              4016 non-null   int64  \n",
      " 36  May                                4016 non-null   int64  \n",
      " 37  June                               4016 non-null   int64  \n",
      " 38  July                               4016 non-null   int64  \n",
      " 39  August                             4016 non-null   int64  \n",
      " 40  September                          4016 non-null   int64  \n",
      " 41  October                            4016 non-null   int64  \n",
      " 42  November                           4016 non-null   int64  \n",
      " 43  December                           4016 non-null   int64  \n",
      " 44  January                            4016 non-null   int64  \n",
      " 45  February                           4016 non-null   int64  \n",
      " 46  n1day%                             4016 non-null   float64\n",
      " 47  n5day%                             4016 non-null   float64\n",
      " 48  n10day%                            4016 non-null   float64\n",
      " 49  n20day%                            4016 non-null   float64\n",
      " 50  n60day%                            4016 non-null   float64\n",
      " 51  cluster                            4016 non-null   int64  \n",
      " 52  Month                              4016 non-null   int64  \n",
      " 53  GoldPrice                          4016 non-null   float64\n",
      " 54  GoldChange %                       4016 non-null   float64\n",
      " 55  CrudePrice                         4016 non-null   float64\n",
      " 56  CrudeChange %                      4016 non-null   float64\n",
      " 57  inrPrice                           4016 non-null   float64\n",
      " 58  inrChange %                        4016 non-null   float64\n",
      " 59  diPrice                            4016 non-null   float64\n",
      " 60  diChange %                         4016 non-null   float64\n",
      " 61  T10Y2Y                             4016 non-null   float64\n",
      " 62  T10Y2Y%chng                        4016 non-null   float64\n",
      " 63  SnP500Price                        4016 non-null   float64\n",
      " 64  SnP500Change %                     4016 non-null   float64\n",
      " 65  Fedinterest                        4016 non-null   float64\n",
      " 66  Fed%change                         4016 non-null   float64\n",
      " 67  FedinterestAnticepation            4016 non-null   int64  \n",
      " 68  Rbiinterest                        4016 non-null   float64\n",
      " 69  Rbi%change                         4016 non-null   float64\n",
      " 70  RbiinterestAnticepation            4016 non-null   int64  \n",
      " 71  USInflation Rate (%)               4016 non-null   float64\n",
      " 72  USInflationRate%chng               4016 non-null   float64\n",
      " 73  USInflation Rate (%)Anticepation   4016 non-null   int64  \n",
      " 74  IndiaInflationRate(%)              4016 non-null   float64\n",
      " 75  IndiaInflationRate(%)chng          4016 non-null   float64\n",
      " 76  IndiaInflationRate(%)Anticepation  4016 non-null   int64  \n",
      " 77  IndiaBudgetDatesAnticipation       4016 non-null   int64  \n",
      " 78  IndiaElectionDatesAnticipation     4016 non-null   int64  \n",
      " 79  UsElectionDatesAnticipation        4016 non-null   int64  \n",
      "dtypes: float64(49), int64(28), object(3)\n",
      "memory usage: 2.5+ MB\n"
     ]
    }
   ],
   "source": [
    "df.info()"
   ]
  },
  {
   "cell_type": "code",
   "execution_count": 5,
   "id": "46a65dde",
   "metadata": {},
   "outputs": [
    {
     "data": {
      "text/html": [
       "<div>\n",
       "<style scoped>\n",
       "    .dataframe tbody tr th:only-of-type {\n",
       "        vertical-align: middle;\n",
       "    }\n",
       "\n",
       "    .dataframe tbody tr th {\n",
       "        vertical-align: top;\n",
       "    }\n",
       "\n",
       "    .dataframe thead th {\n",
       "        text-align: right;\n",
       "    }\n",
       "</style>\n",
       "<table border=\"1\" class=\"dataframe\">\n",
       "  <thead>\n",
       "    <tr style=\"text-align: right;\">\n",
       "      <th></th>\n",
       "      <th>Date</th>\n",
       "      <th>vixPrice</th>\n",
       "      <th>vixChange%</th>\n",
       "      <th>niftyPrice</th>\n",
       "      <th>niftyChange %</th>\n",
       "      <th>n5day</th>\n",
       "      <th>n10day</th>\n",
       "      <th>n20day</th>\n",
       "      <th>n1day</th>\n",
       "      <th>n60day</th>\n",
       "      <th>...</th>\n",
       "      <th>RbiinterestAnticepation</th>\n",
       "      <th>USInflation Rate (%)</th>\n",
       "      <th>USInflationRate%chng</th>\n",
       "      <th>USInflation Rate (%)Anticepation</th>\n",
       "      <th>IndiaInflationRate(%)</th>\n",
       "      <th>IndiaInflationRate(%)chng</th>\n",
       "      <th>IndiaInflationRate(%)Anticepation</th>\n",
       "      <th>IndiaBudgetDatesAnticipation</th>\n",
       "      <th>IndiaElectionDatesAnticipation</th>\n",
       "      <th>UsElectionDatesAnticipation</th>\n",
       "    </tr>\n",
       "  </thead>\n",
       "  <tbody>\n",
       "    <tr>\n",
       "      <th>141</th>\n",
       "      <td>2009-01-01</td>\n",
       "      <td>41.34</td>\n",
       "      <td>-4.06</td>\n",
       "      <td>3033.45</td>\n",
       "      <td>2.51</td>\n",
       "      <td>2916.85</td>\n",
       "      <td>2954.35</td>\n",
       "      <td>2657.80</td>\n",
       "      <td>2885.60</td>\n",
       "      <td>3921.20</td>\n",
       "      <td>...</td>\n",
       "      <td>16</td>\n",
       "      <td>4.7</td>\n",
       "      <td>-28.787879</td>\n",
       "      <td>0</td>\n",
       "      <td>9.7</td>\n",
       "      <td>0.000000</td>\n",
       "      <td>21</td>\n",
       "      <td>141</td>\n",
       "      <td>141</td>\n",
       "      <td>38</td>\n",
       "    </tr>\n",
       "    <tr>\n",
       "      <th>142</th>\n",
       "      <td>2009-01-02</td>\n",
       "      <td>40.67</td>\n",
       "      <td>-1.62</td>\n",
       "      <td>3046.75</td>\n",
       "      <td>0.44</td>\n",
       "      <td>2857.25</td>\n",
       "      <td>3060.75</td>\n",
       "      <td>2656.45</td>\n",
       "      <td>3043.85</td>\n",
       "      <td>3950.75</td>\n",
       "      <td>...</td>\n",
       "      <td>17</td>\n",
       "      <td>4.7</td>\n",
       "      <td>-28.787879</td>\n",
       "      <td>1</td>\n",
       "      <td>9.7</td>\n",
       "      <td>0.000000</td>\n",
       "      <td>22</td>\n",
       "      <td>142</td>\n",
       "      <td>142</td>\n",
       "      <td>39</td>\n",
       "    </tr>\n",
       "    <tr>\n",
       "      <th>143</th>\n",
       "      <td>2009-01-05</td>\n",
       "      <td>38.60</td>\n",
       "      <td>-5.09</td>\n",
       "      <td>3121.45</td>\n",
       "      <td>2.45</td>\n",
       "      <td>2922.20</td>\n",
       "      <td>3077.50</td>\n",
       "      <td>2788.00</td>\n",
       "      <td>3142.10</td>\n",
       "      <td>3818.30</td>\n",
       "      <td>...</td>\n",
       "      <td>0</td>\n",
       "      <td>4.7</td>\n",
       "      <td>-28.787879</td>\n",
       "      <td>2</td>\n",
       "      <td>9.7</td>\n",
       "      <td>0.000000</td>\n",
       "      <td>23</td>\n",
       "      <td>143</td>\n",
       "      <td>143</td>\n",
       "      <td>40</td>\n",
       "    </tr>\n",
       "    <tr>\n",
       "      <th>144</th>\n",
       "      <td>2009-01-06</td>\n",
       "      <td>38.73</td>\n",
       "      <td>0.34</td>\n",
       "      <td>3112.80</td>\n",
       "      <td>-0.28</td>\n",
       "      <td>2979.50</td>\n",
       "      <td>3039.30</td>\n",
       "      <td>2714.40</td>\n",
       "      <td>2994.95</td>\n",
       "      <td>3602.35</td>\n",
       "      <td>...</td>\n",
       "      <td>1</td>\n",
       "      <td>4.7</td>\n",
       "      <td>-28.787879</td>\n",
       "      <td>3</td>\n",
       "      <td>9.7</td>\n",
       "      <td>0.000000</td>\n",
       "      <td>24</td>\n",
       "      <td>144</td>\n",
       "      <td>144</td>\n",
       "      <td>41</td>\n",
       "    </tr>\n",
       "    <tr>\n",
       "      <th>145</th>\n",
       "      <td>2009-01-07</td>\n",
       "      <td>44.36</td>\n",
       "      <td>14.54</td>\n",
       "      <td>2920.40</td>\n",
       "      <td>-6.18</td>\n",
       "      <td>2959.15</td>\n",
       "      <td>2968.65</td>\n",
       "      <td>2784.00</td>\n",
       "      <td>2892.65</td>\n",
       "      <td>3606.60</td>\n",
       "      <td>...</td>\n",
       "      <td>2</td>\n",
       "      <td>4.7</td>\n",
       "      <td>-28.787879</td>\n",
       "      <td>4</td>\n",
       "      <td>9.7</td>\n",
       "      <td>0.000000</td>\n",
       "      <td>25</td>\n",
       "      <td>145</td>\n",
       "      <td>145</td>\n",
       "      <td>42</td>\n",
       "    </tr>\n",
       "    <tr>\n",
       "      <th>...</th>\n",
       "      <td>...</td>\n",
       "      <td>...</td>\n",
       "      <td>...</td>\n",
       "      <td>...</td>\n",
       "      <td>...</td>\n",
       "      <td>...</td>\n",
       "      <td>...</td>\n",
       "      <td>...</td>\n",
       "      <td>...</td>\n",
       "      <td>...</td>\n",
       "      <td>...</td>\n",
       "      <td>...</td>\n",
       "      <td>...</td>\n",
       "      <td>...</td>\n",
       "      <td>...</td>\n",
       "      <td>...</td>\n",
       "      <td>...</td>\n",
       "      <td>...</td>\n",
       "      <td>...</td>\n",
       "      <td>...</td>\n",
       "      <td>...</td>\n",
       "    </tr>\n",
       "    <tr>\n",
       "      <th>380</th>\n",
       "      <td>2009-12-24</td>\n",
       "      <td>22.69</td>\n",
       "      <td>-4.82</td>\n",
       "      <td>5178.40</td>\n",
       "      <td>0.66</td>\n",
       "      <td>5041.75</td>\n",
       "      <td>5134.65</td>\n",
       "      <td>5005.55</td>\n",
       "      <td>4826.15</td>\n",
       "      <td>4958.95</td>\n",
       "      <td>...</td>\n",
       "      <td>170</td>\n",
       "      <td>2.4</td>\n",
       "      <td>71.428571</td>\n",
       "      <td>17</td>\n",
       "      <td>13.6</td>\n",
       "      <td>20.353982</td>\n",
       "      <td>17</td>\n",
       "      <td>380</td>\n",
       "      <td>173</td>\n",
       "      <td>277</td>\n",
       "    </tr>\n",
       "    <tr>\n",
       "      <th>381</th>\n",
       "      <td>2009-12-29</td>\n",
       "      <td>24.41</td>\n",
       "      <td>7.58</td>\n",
       "      <td>5187.95</td>\n",
       "      <td>0.18</td>\n",
       "      <td>4987.70</td>\n",
       "      <td>5117.30</td>\n",
       "      <td>4941.75</td>\n",
       "      <td>4750.55</td>\n",
       "      <td>5006.85</td>\n",
       "      <td>...</td>\n",
       "      <td>171</td>\n",
       "      <td>2.4</td>\n",
       "      <td>71.428571</td>\n",
       "      <td>18</td>\n",
       "      <td>13.6</td>\n",
       "      <td>20.353982</td>\n",
       "      <td>18</td>\n",
       "      <td>381</td>\n",
       "      <td>174</td>\n",
       "      <td>278</td>\n",
       "    </tr>\n",
       "    <tr>\n",
       "      <th>382</th>\n",
       "      <td>2009-12-30</td>\n",
       "      <td>24.62</td>\n",
       "      <td>0.86</td>\n",
       "      <td>5169.45</td>\n",
       "      <td>-0.36</td>\n",
       "      <td>4952.60</td>\n",
       "      <td>5105.70</td>\n",
       "      <td>5032.70</td>\n",
       "      <td>4711.70</td>\n",
       "      <td>5083.95</td>\n",
       "      <td>...</td>\n",
       "      <td>172</td>\n",
       "      <td>2.4</td>\n",
       "      <td>71.428571</td>\n",
       "      <td>19</td>\n",
       "      <td>13.6</td>\n",
       "      <td>20.353982</td>\n",
       "      <td>19</td>\n",
       "      <td>382</td>\n",
       "      <td>175</td>\n",
       "      <td>279</td>\n",
       "    </tr>\n",
       "    <tr>\n",
       "      <th>383</th>\n",
       "      <td>2009-12-31</td>\n",
       "      <td>23.34</td>\n",
       "      <td>-5.20</td>\n",
       "      <td>5201.05</td>\n",
       "      <td>0.61</td>\n",
       "      <td>4985.85</td>\n",
       "      <td>5033.05</td>\n",
       "      <td>5122.00</td>\n",
       "      <td>4563.90</td>\n",
       "      <td>5083.40</td>\n",
       "      <td>...</td>\n",
       "      <td>173</td>\n",
       "      <td>2.4</td>\n",
       "      <td>71.428571</td>\n",
       "      <td>20</td>\n",
       "      <td>13.6</td>\n",
       "      <td>20.353982</td>\n",
       "      <td>20</td>\n",
       "      <td>383</td>\n",
       "      <td>176</td>\n",
       "      <td>280</td>\n",
       "    </tr>\n",
       "    <tr>\n",
       "      <th>384</th>\n",
       "      <td>2010-01-04</td>\n",
       "      <td>23.64</td>\n",
       "      <td>1.29</td>\n",
       "      <td>5232.20</td>\n",
       "      <td>0.60</td>\n",
       "      <td>5144.60</td>\n",
       "      <td>5042.05</td>\n",
       "      <td>5123.25</td>\n",
       "      <td>4710.80</td>\n",
       "      <td>5003.20</td>\n",
       "      <td>...</td>\n",
       "      <td>174</td>\n",
       "      <td>2.4</td>\n",
       "      <td>71.428571</td>\n",
       "      <td>21</td>\n",
       "      <td>13.6</td>\n",
       "      <td>20.353982</td>\n",
       "      <td>21</td>\n",
       "      <td>384</td>\n",
       "      <td>177</td>\n",
       "      <td>281</td>\n",
       "    </tr>\n",
       "  </tbody>\n",
       "</table>\n",
       "<p>244 rows × 80 columns</p>\n",
       "</div>"
      ],
      "text/plain": [
       "           Date  vixPrice  vixChange%  niftyPrice  niftyChange %    n5day  \\\n",
       "141  2009-01-01     41.34       -4.06     3033.45           2.51  2916.85   \n",
       "142  2009-01-02     40.67       -1.62     3046.75           0.44  2857.25   \n",
       "143  2009-01-05     38.60       -5.09     3121.45           2.45  2922.20   \n",
       "144  2009-01-06     38.73        0.34     3112.80          -0.28  2979.50   \n",
       "145  2009-01-07     44.36       14.54     2920.40          -6.18  2959.15   \n",
       "..          ...       ...         ...         ...            ...      ...   \n",
       "380  2009-12-24     22.69       -4.82     5178.40           0.66  5041.75   \n",
       "381  2009-12-29     24.41        7.58     5187.95           0.18  4987.70   \n",
       "382  2009-12-30     24.62        0.86     5169.45          -0.36  4952.60   \n",
       "383  2009-12-31     23.34       -5.20     5201.05           0.61  4985.85   \n",
       "384  2010-01-04     23.64        1.29     5232.20           0.60  5144.60   \n",
       "\n",
       "      n10day   n20day    n1day   n60day  ...  RbiinterestAnticepation  \\\n",
       "141  2954.35  2657.80  2885.60  3921.20  ...                       16   \n",
       "142  3060.75  2656.45  3043.85  3950.75  ...                       17   \n",
       "143  3077.50  2788.00  3142.10  3818.30  ...                        0   \n",
       "144  3039.30  2714.40  2994.95  3602.35  ...                        1   \n",
       "145  2968.65  2784.00  2892.65  3606.60  ...                        2   \n",
       "..       ...      ...      ...      ...  ...                      ...   \n",
       "380  5134.65  5005.55  4826.15  4958.95  ...                      170   \n",
       "381  5117.30  4941.75  4750.55  5006.85  ...                      171   \n",
       "382  5105.70  5032.70  4711.70  5083.95  ...                      172   \n",
       "383  5033.05  5122.00  4563.90  5083.40  ...                      173   \n",
       "384  5042.05  5123.25  4710.80  5003.20  ...                      174   \n",
       "\n",
       "     USInflation Rate (%)  USInflationRate%chng  \\\n",
       "141                   4.7            -28.787879   \n",
       "142                   4.7            -28.787879   \n",
       "143                   4.7            -28.787879   \n",
       "144                   4.7            -28.787879   \n",
       "145                   4.7            -28.787879   \n",
       "..                    ...                   ...   \n",
       "380                   2.4             71.428571   \n",
       "381                   2.4             71.428571   \n",
       "382                   2.4             71.428571   \n",
       "383                   2.4             71.428571   \n",
       "384                   2.4             71.428571   \n",
       "\n",
       "     USInflation Rate (%)Anticepation  IndiaInflationRate(%)  \\\n",
       "141                                 0                    9.7   \n",
       "142                                 1                    9.7   \n",
       "143                                 2                    9.7   \n",
       "144                                 3                    9.7   \n",
       "145                                 4                    9.7   \n",
       "..                                ...                    ...   \n",
       "380                                17                   13.6   \n",
       "381                                18                   13.6   \n",
       "382                                19                   13.6   \n",
       "383                                20                   13.6   \n",
       "384                                21                   13.6   \n",
       "\n",
       "     IndiaInflationRate(%)chng  IndiaInflationRate(%)Anticepation  \\\n",
       "141                   0.000000                                 21   \n",
       "142                   0.000000                                 22   \n",
       "143                   0.000000                                 23   \n",
       "144                   0.000000                                 24   \n",
       "145                   0.000000                                 25   \n",
       "..                         ...                                ...   \n",
       "380                  20.353982                                 17   \n",
       "381                  20.353982                                 18   \n",
       "382                  20.353982                                 19   \n",
       "383                  20.353982                                 20   \n",
       "384                  20.353982                                 21   \n",
       "\n",
       "     IndiaBudgetDatesAnticipation  IndiaElectionDatesAnticipation  \\\n",
       "141                           141                             141   \n",
       "142                           142                             142   \n",
       "143                           143                             143   \n",
       "144                           144                             144   \n",
       "145                           145                             145   \n",
       "..                            ...                             ...   \n",
       "380                           380                             173   \n",
       "381                           381                             174   \n",
       "382                           382                             175   \n",
       "383                           383                             176   \n",
       "384                           384                             177   \n",
       "\n",
       "     UsElectionDatesAnticipation  \n",
       "141                           38  \n",
       "142                           39  \n",
       "143                           40  \n",
       "144                           41  \n",
       "145                           42  \n",
       "..                           ...  \n",
       "380                          277  \n",
       "381                          278  \n",
       "382                          279  \n",
       "383                          280  \n",
       "384                          281  \n",
       "\n",
       "[244 rows x 80 columns]"
      ]
     },
     "execution_count": 5,
     "metadata": {},
     "output_type": "execute_result"
    }
   ],
   "source": [
    "df.iloc[141:385]"
   ]
  },
  {
   "cell_type": "code",
   "execution_count": 6,
   "id": "36e4693c",
   "metadata": {},
   "outputs": [],
   "source": [
    "df = df['niftyPrice']"
   ]
  },
  {
   "cell_type": "code",
   "execution_count": 7,
   "id": "daa25b3d",
   "metadata": {},
   "outputs": [],
   "source": [
    "year = 243\n",
    "quarter = (year/3).__int__()\n",
    "month = (year/12).__int__()\n",
    "week = (year/52).__int__()"
   ]
  },
  {
   "cell_type": "code",
   "execution_count": 8,
   "id": "8c685f88-fe54-4077-8f11-782f62a6b30d",
   "metadata": {
    "scrolled": true
   },
   "outputs": [
    {
     "data": {
      "image/png": "[encoded data removed]",
      "text/plain": [
       "<Figure size 1400x400 with 1 Axes>"
      ]
     },
     "metadata": {},
     "output_type": "display_data"
    }
   ],
   "source": [
    "df.plot(figsize=(14, 4), title=\"Nifty50 by Day\", ylabel=\"Price\")\n",
    "plt.grid(axis=\"x\", ls=\":\")"
   ]
  },
  {
   "cell_type": "code",
   "execution_count": 9,
   "id": "217467e4-d121-4252-a711-884b3e997aaa",
   "metadata": {},
   "outputs": [],
   "source": [
    "result = seasonal_decompose(df, model='additive', period=quarter)"
   ]
  },
  {
   "cell_type": "code",
   "execution_count": 10,
   "id": "de75f720-c869-4967-9f2d-66eea9887854",
   "metadata": {
    "scrolled": true
   },
   "outputs": [
    {
     "data": {
      "image/png": "[encoded data removed]",
      "text/plain": [
       "<Figure size 640x480 with 4 Axes>"
      ]
     },
     "execution_count": 10,
     "metadata": {},
     "output_type": "execute_result"
    },
    {
     "data": {
      "image/png": "[encoded data removed]",
      "text/plain": [
       "<Figure size 640x480 with 4 Axes>"
      ]
     },
     "metadata": {},
     "output_type": "display_data"
    }
   ],
   "source": [
    "result.plot()"
   ]
  },
  {
   "cell_type": "code",
   "execution_count": 11,
   "id": "186ecd89",
   "metadata": {},
   "outputs": [],
   "source": [
    "inputval = 20\n",
    "epoch = 30"
   ]
  },
  {
   "cell_type": "code",
   "execution_count": 12,
   "id": "9d7306e1-0719-4ef0-8ade-a2c4b5919a70",
   "metadata": {},
   "outputs": [],
   "source": [
    "train = df.iloc[:len(df)-inputval]\n",
    "test = df.iloc[len(df)-inputval:]"
   ]
  },
  {
   "cell_type": "code",
   "execution_count": 13,
   "id": "b5561f06-6e06-4a9a-81d2-9e2e623fcf8d",
   "metadata": {
    "scrolled": true
   },
   "outputs": [
    {
     "data": {
      "text/plain": [
       "0        4676.95\n",
       "1        4627.80\n",
       "2        4500.95\n",
       "3        4449.80\n",
       "4        4523.60\n",
       "          ...   \n",
       "3991    24479.05\n",
       "3992    24413.50\n",
       "3993    24406.10\n",
       "3994    24834.85\n",
       "3995    24836.10\n",
       "Name: niftyPrice, Length: 3996, dtype: float64"
      ]
     },
     "execution_count": 13,
     "metadata": {},
     "output_type": "execute_result"
    }
   ],
   "source": [
    "train"
   ]
  },
  {
   "cell_type": "code",
   "execution_count": 14,
   "id": "bb56bf41-72db-4d48-9e1b-a8bee05d25ef",
   "metadata": {
    "scrolled": true
   },
   "outputs": [
    {
     "data": {
      "text/plain": [
       "3996    24857.30\n",
       "3997    24951.15\n",
       "3998    25010.90\n",
       "3999    24717.70\n",
       "4000    24055.60\n",
       "4001    23992.55\n",
       "4002    24297.50\n",
       "4003    24117.00\n",
       "4004    24367.50\n",
       "4005    24347.00\n",
       "4006    24139.00\n",
       "4007    24143.75\n",
       "4008    24541.15\n",
       "4009    24572.65\n",
       "4010    24698.85\n",
       "4011    24770.20\n",
       "4012    24811.50\n",
       "4013    24823.15\n",
       "4014    25010.60\n",
       "4015    25017.75\n",
       "Name: niftyPrice, dtype: float64"
      ]
     },
     "execution_count": 14,
     "metadata": {},
     "output_type": "execute_result"
    }
   ],
   "source": [
    "test"
   ]
  },
  {
   "cell_type": "code",
   "execution_count": 15,
   "id": "1e8ba2f2-49e2-4295-b62d-fb414b72113d",
   "metadata": {},
   "outputs": [
    {
     "data": {
      "text/plain": [
       "(2524.2, 24836.1)"
      ]
     },
     "execution_count": 15,
     "metadata": {},
     "output_type": "execute_result"
    }
   ],
   "source": [
    "train.min(), train.max()"
   ]
  },
  {
   "cell_type": "code",
   "execution_count": 16,
   "id": "6ecd66eb-43f3-4279-ba9c-14345470f46c",
   "metadata": {},
   "outputs": [],
   "source": [
    "scaler = MinMaxScaler()"
   ]
  },
  {
   "cell_type": "code",
   "execution_count": 17,
   "id": "4d55ba48",
   "metadata": {},
   "outputs": [],
   "source": [
    "train = train.values.reshape(-1, 1)\n",
    "test = test.values.reshape(-1, 1)"
   ]
  },
  {
   "cell_type": "code",
   "execution_count": 18,
   "id": "884c9ed1-ec6a-41f5-8e83-2a7b968385a0",
   "metadata": {},
   "outputs": [
    {
     "data": {
      "text/html": [
       "<style>#sk-container-id-1 {\n",
       "  /* Definition of color scheme common for light and dark mode */\n",
       "  --sklearn-color-text: black;\n",
       "  --sklearn-color-line: gray;\n",
       "  /* Definition of color scheme for unfitted estimators */\n",
       "  --sklearn-color-unfitted-level-0: #fff5e6;\n",
       "  --sklearn-color-unfitted-level-1: #f6e4d2;\n",
       "  --sklearn-color-unfitted-level-2: #ffe0b3;\n",
       "  --sklearn-color-unfitted-level-3: chocolate;\n",
       "  /* Definition of color scheme for fitted estimators */\n",
       "  --sklearn-color-fitted-level-0: #f0f8ff;\n",
       "  --sklearn-color-fitted-level-1: #d4ebff;\n",
       "  --sklearn-color-fitted-level-2: #b3dbfd;\n",
       "  --sklearn-color-fitted-level-3: cornflowerblue;\n",
       "\n",
       "  /* Specific color for light theme */\n",
       "  --sklearn-color-text-on-default-background: var(--sg-text-color, var(--theme-code-foreground, var(--jp-content-font-color1, black)));\n",
       "  --sklearn-color-background: var(--sg-background-color, var(--theme-background, var(--jp-layout-color0, white)));\n",
       "  --sklearn-color-border-box: var(--sg-text-color, var(--theme-code-foreground, var(--jp-content-font-color1, black)));\n",
       "  --sklearn-color-icon: #696969;\n",
       "\n",
       "  @media (prefers-color-scheme: dark) {\n",
       "    /* Redefinition of color scheme for dark theme */\n",
       "    --sklearn-color-text-on-default-background: var(--sg-text-color, var(--theme-code-foreground, var(--jp-content-font-color1, white)));\n",
       "    --sklearn-color-background: var(--sg-background-color, var(--theme-background, var(--jp-layout-color0, #111)));\n",
       "    --sklearn-color-border-box: var(--sg-text-color, var(--theme-code-foreground, var(--jp-content-font-color1, white)));\n",
       "    --sklearn-color-icon: #878787;\n",
       "  }\n",
       "}\n",
       "\n",
       "#sk-container-id-1 {\n",
       "  color: var(--sklearn-color-text);\n",
       "}\n",
       "\n",
       "#sk-container-id-1 pre {\n",
       "  padding: 0;\n",
       "}\n",
       "\n",
       "#sk-container-id-1 input.sk-hidden--visually {\n",
       "  border: 0;\n",
       "  clip: rect(1px 1px 1px 1px);\n",
       "  clip: rect(1px, 1px, 1px, 1px);\n",
       "  height: 1px;\n",
       "  margin: -1px;\n",
       "  overflow: hidden;\n",
       "  padding: 0;\n",
       "  position: absolute;\n",
       "  width: 1px;\n",
       "}\n",
       "\n",
       "#sk-container-id-1 div.sk-dashed-wrapped {\n",
       "  border: 1px dashed var(--sklearn-color-line);\n",
       "  margin: 0 0.4em 0.5em 0.4em;\n",
       "  box-sizing: border-box;\n",
       "  padding-bottom: 0.4em;\n",
       "  background-color: var(--sklearn-color-background);\n",
       "}\n",
       "\n",
       "#sk-container-id-1 div.sk-container {\n",
       "  /* jupyter's `normalize.less` sets `[hidden] { display: none; }`\n",
       "     but bootstrap.min.css set `[hidden] { display: none !important; }`\n",
       "     so we also need the `!important` here to be able to override the\n",
       "     default hidden behavior on the sphinx rendered scikit-learn.org.\n",
       "     See: https://github.com/scikit-learn/scikit-learn/issues/21755 */\n",
       "  display: inline-block !important;\n",
       "  position: relative;\n",
       "}\n",
       "\n",
       "#sk-container-id-1 div.sk-text-repr-fallback {\n",
       "  display: none;\n",
       "}\n",
       "\n",
       "div.sk-parallel-item,\n",
       "div.sk-serial,\n",
       "div.sk-item {\n",
       "  /* draw centered vertical line to link estimators */\n",
       "  background-image: linear-gradient(var(--sklearn-color-text-on-default-background), var(--sklearn-color-text-on-default-background));\n",
       "  background-size: 2px 100%;\n",
       "  background-repeat: no-repeat;\n",
       "  background-position: center center;\n",
       "}\n",
       "\n",
       "/* Parallel-specific style estimator block */\n",
       "\n",
       "#sk-container-id-1 div.sk-parallel-item::after {\n",
       "  content: \"\";\n",
       "  width: 100%;\n",
       "  border-bottom: 2px solid var(--sklearn-color-text-on-default-background);\n",
       "  flex-grow: 1;\n",
       "}\n",
       "\n",
       "#sk-container-id-1 div.sk-parallel {\n",
       "  display: flex;\n",
       "  align-items: stretch;\n",
       "  justify-content: center;\n",
       "  background-color: var(--sklearn-color-background);\n",
       "  position: relative;\n",
       "}\n",
       "\n",
       "#sk-container-id-1 div.sk-parallel-item {\n",
       "  display: flex;\n",
       "  flex-direction: column;\n",
       "}\n",
       "\n",
       "#sk-container-id-1 div.sk-parallel-item:first-child::after {\n",
       "  align-self: flex-end;\n",
       "  width: 50%;\n",
       "}\n",
       "\n",
       "#sk-container-id-1 div.sk-parallel-item:last-child::after {\n",
       "  align-self: flex-start;\n",
       "  width: 50%;\n",
       "}\n",
       "\n",
       "#sk-container-id-1 div.sk-parallel-item:only-child::after {\n",
       "  width: 0;\n",
       "}\n",
       "\n",
       "/* Serial-specific style estimator block */\n",
       "\n",
       "#sk-container-id-1 div.sk-serial {\n",
       "  display: flex;\n",
       "  flex-direction: column;\n",
       "  align-items: center;\n",
       "  background-color: var(--sklearn-color-background);\n",
       "  padding-right: 1em;\n",
       "  padding-left: 1em;\n",
       "}\n",
       "\n",
       "\n",
       "/* Toggleable style: style used for estimator/Pipeline/ColumnTransformer box that is\n",
       "clickable and can be expanded/collapsed.\n",
       "- Pipeline and ColumnTransformer use this feature and define the default style\n",
       "- Estimators will overwrite some part of the style using the `sk-estimator` class\n",
       "*/\n",
       "\n",
       "/* Pipeline and ColumnTransformer style (default) */\n",
       "\n",
       "#sk-container-id-1 div.sk-toggleable {\n",
       "  /* Default theme specific background. It is overwritten whether we have a\n",
       "  specific estimator or a Pipeline/ColumnTransformer */\n",
       "  background-color: var(--sklearn-color-background);\n",
       "}\n",
       "\n",
       "/* Toggleable label */\n",
       "#sk-container-id-1 label.sk-toggleable__label {\n",
       "  cursor: pointer;\n",
       "  display: block;\n",
       "  width: 100%;\n",
       "  margin-bottom: 0;\n",
       "  padding: 0.5em;\n",
       "  box-sizing: border-box;\n",
       "  text-align: center;\n",
       "}\n",
       "\n",
       "#sk-container-id-1 label.sk-toggleable__label-arrow:before {\n",
       "  /* Arrow on the left of the label */\n",
       "  content: \"▸\";\n",
       "  float: left;\n",
       "  margin-right: 0.25em;\n",
       "  color: var(--sklearn-color-icon);\n",
       "}\n",
       "\n",
       "#sk-container-id-1 label.sk-toggleable__label-arrow:hover:before {\n",
       "  color: var(--sklearn-color-text);\n",
       "}\n",
       "\n",
       "/* Toggleable content - dropdown */\n",
       "\n",
       "#sk-container-id-1 div.sk-toggleable__content {\n",
       "  max-height: 0;\n",
       "  max-width: 0;\n",
       "  overflow: hidden;\n",
       "  text-align: left;\n",
       "  /* unfitted */\n",
       "  background-color: var(--sklearn-color-unfitted-level-0);\n",
       "}\n",
       "\n",
       "#sk-container-id-1 div.sk-toggleable__content.fitted {\n",
       "  /* fitted */\n",
       "  background-color: var(--sklearn-color-fitted-level-0);\n",
       "}\n",
       "\n",
       "#sk-container-id-1 div.sk-toggleable__content pre {\n",
       "  margin: 0.2em;\n",
       "  border-radius: 0.25em;\n",
       "  color: var(--sklearn-color-text);\n",
       "  /* unfitted */\n",
       "  background-color: var(--sklearn-color-unfitted-level-0);\n",
       "}\n",
       "\n",
       "#sk-container-id-1 div.sk-toggleable__content.fitted pre {\n",
       "  /* unfitted */\n",
       "  background-color: var(--sklearn-color-fitted-level-0);\n",
       "}\n",
       "\n",
       "#sk-container-id-1 input.sk-toggleable__control:checked~div.sk-toggleable__content {\n",
       "  /* Expand drop-down */\n",
       "  max-height: 200px;\n",
       "  max-width: 100%;\n",
       "  overflow: auto;\n",
       "}\n",
       "\n",
       "#sk-container-id-1 input.sk-toggleable__control:checked~label.sk-toggleable__label-arrow:before {\n",
       "  content: \"▾\";\n",
       "}\n",
       "\n",
       "/* Pipeline/ColumnTransformer-specific style */\n",
       "\n",
       "#sk-container-id-1 div.sk-label input.sk-toggleable__control:checked~label.sk-toggleable__label {\n",
       "  color: var(--sklearn-color-text);\n",
       "  background-color: var(--sklearn-color-unfitted-level-2);\n",
       "}\n",
       "\n",
       "#sk-container-id-1 div.sk-label.fitted input.sk-toggleable__control:checked~label.sk-toggleable__label {\n",
       "  background-color: var(--sklearn-color-fitted-level-2);\n",
       "}\n",
       "\n",
       "/* Estimator-specific style */\n",
       "\n",
       "/* Colorize estimator box */\n",
       "#sk-container-id-1 div.sk-estimator input.sk-toggleable__control:checked~label.sk-toggleable__label {\n",
       "  /* unfitted */\n",
       "  background-color: var(--sklearn-color-unfitted-level-2);\n",
       "}\n",
       "\n",
       "#sk-container-id-1 div.sk-estimator.fitted input.sk-toggleable__control:checked~label.sk-toggleable__label {\n",
       "  /* fitted */\n",
       "  background-color: var(--sklearn-color-fitted-level-2);\n",
       "}\n",
       "\n",
       "#sk-container-id-1 div.sk-label label.sk-toggleable__label,\n",
       "#sk-container-id-1 div.sk-label label {\n",
       "  /* The background is the default theme color */\n",
       "  color: var(--sklearn-color-text-on-default-background);\n",
       "}\n",
       "\n",
       "/* On hover, darken the color of the background */\n",
       "#sk-container-id-1 div.sk-label:hover label.sk-toggleable__label {\n",
       "  color: var(--sklearn-color-text);\n",
       "  background-color: var(--sklearn-color-unfitted-level-2);\n",
       "}\n",
       "\n",
       "/* Label box, darken color on hover, fitted */\n",
       "#sk-container-id-1 div.sk-label.fitted:hover label.sk-toggleable__label.fitted {\n",
       "  color: var(--sklearn-color-text);\n",
       "  background-color: var(--sklearn-color-fitted-level-2);\n",
       "}\n",
       "\n",
       "/* Estimator label */\n",
       "\n",
       "#sk-container-id-1 div.sk-label label {\n",
       "  font-family: monospace;\n",
       "  font-weight: bold;\n",
       "  display: inline-block;\n",
       "  line-height: 1.2em;\n",
       "}\n",
       "\n",
       "#sk-container-id-1 div.sk-label-container {\n",
       "  text-align: center;\n",
       "}\n",
       "\n",
       "/* Estimator-specific */\n",
       "#sk-container-id-1 div.sk-estimator {\n",
       "  font-family: monospace;\n",
       "  border: 1px dotted var(--sklearn-color-border-box);\n",
       "  border-radius: 0.25em;\n",
       "  box-sizing: border-box;\n",
       "  margin-bottom: 0.5em;\n",
       "  /* unfitted */\n",
       "  background-color: var(--sklearn-color-unfitted-level-0);\n",
       "}\n",
       "\n",
       "#sk-container-id-1 div.sk-estimator.fitted {\n",
       "  /* fitted */\n",
       "  background-color: var(--sklearn-color-fitted-level-0);\n",
       "}\n",
       "\n",
       "/* on hover */\n",
       "#sk-container-id-1 div.sk-estimator:hover {\n",
       "  /* unfitted */\n",
       "  background-color: var(--sklearn-color-unfitted-level-2);\n",
       "}\n",
       "\n",
       "#sk-container-id-1 div.sk-estimator.fitted:hover {\n",
       "  /* fitted */\n",
       "  background-color: var(--sklearn-color-fitted-level-2);\n",
       "}\n",
       "\n",
       "/* Specification for estimator info (e.g. \"i\" and \"?\") */\n",
       "\n",
       "/* Common style for \"i\" and \"?\" */\n",
       "\n",
       ".sk-estimator-doc-link,\n",
       "a:link.sk-estimator-doc-link,\n",
       "a:visited.sk-estimator-doc-link {\n",
       "  float: right;\n",
       "  font-size: smaller;\n",
       "  line-height: 1em;\n",
       "  font-family: monospace;\n",
       "  background-color: var(--sklearn-color-background);\n",
       "  border-radius: 1em;\n",
       "  height: 1em;\n",
       "  width: 1em;\n",
       "  text-decoration: none !important;\n",
       "  margin-left: 1ex;\n",
       "  /* unfitted */\n",
       "  border: var(--sklearn-color-unfitted-level-1) 1pt solid;\n",
       "  color: var(--sklearn-color-unfitted-level-1);\n",
       "}\n",
       "\n",
       ".sk-estimator-doc-link.fitted,\n",
       "a:link.sk-estimator-doc-link.fitted,\n",
       "a:visited.sk-estimator-doc-link.fitted {\n",
       "  /* fitted */\n",
       "  border: var(--sklearn-color-fitted-level-1) 1pt solid;\n",
       "  color: var(--sklearn-color-fitted-level-1);\n",
       "}\n",
       "\n",
       "/* On hover */\n",
       "div.sk-estimator:hover .sk-estimator-doc-link:hover,\n",
       ".sk-estimator-doc-link:hover,\n",
       "div.sk-label-container:hover .sk-estimator-doc-link:hover,\n",
       ".sk-estimator-doc-link:hover {\n",
       "  /* unfitted */\n",
       "  background-color: var(--sklearn-color-unfitted-level-3);\n",
       "  color: var(--sklearn-color-background);\n",
       "  text-decoration: none;\n",
       "}\n",
       "\n",
       "div.sk-estimator.fitted:hover .sk-estimator-doc-link.fitted:hover,\n",
       ".sk-estimator-doc-link.fitted:hover,\n",
       "div.sk-label-container:hover .sk-estimator-doc-link.fitted:hover,\n",
       ".sk-estimator-doc-link.fitted:hover {\n",
       "  /* fitted */\n",
       "  background-color: var(--sklearn-color-fitted-level-3);\n",
       "  color: var(--sklearn-color-background);\n",
       "  text-decoration: none;\n",
       "}\n",
       "\n",
       "/* Span, style for the box shown on hovering the info icon */\n",
       ".sk-estimator-doc-link span {\n",
       "  display: none;\n",
       "  z-index: 9999;\n",
       "  position: relative;\n",
       "  font-weight: normal;\n",
       "  right: .2ex;\n",
       "  padding: .5ex;\n",
       "  margin: .5ex;\n",
       "  width: min-content;\n",
       "  min-width: 20ex;\n",
       "  max-width: 50ex;\n",
       "  color: var(--sklearn-color-text);\n",
       "  box-shadow: 2pt 2pt 4pt #999;\n",
       "  /* unfitted */\n",
       "  background: var(--sklearn-color-unfitted-level-0);\n",
       "  border: .5pt solid var(--sklearn-color-unfitted-level-3);\n",
       "}\n",
       "\n",
       ".sk-estimator-doc-link.fitted span {\n",
       "  /* fitted */\n",
       "  background: var(--sklearn-color-fitted-level-0);\n",
       "  border: var(--sklearn-color-fitted-level-3);\n",
       "}\n",
       "\n",
       ".sk-estimator-doc-link:hover span {\n",
       "  display: block;\n",
       "}\n",
       "\n",
       "/* \"?\"-specific style due to the `<a>` HTML tag */\n",
       "\n",
       "#sk-container-id-1 a.estimator_doc_link {\n",
       "  float: right;\n",
       "  font-size: 1rem;\n",
       "  line-height: 1em;\n",
       "  font-family: monospace;\n",
       "  background-color: var(--sklearn-color-background);\n",
       "  border-radius: 1rem;\n",
       "  height: 1rem;\n",
       "  width: 1rem;\n",
       "  text-decoration: none;\n",
       "  /* unfitted */\n",
       "  color: var(--sklearn-color-unfitted-level-1);\n",
       "  border: var(--sklearn-color-unfitted-level-1) 1pt solid;\n",
       "}\n",
       "\n",
       "#sk-container-id-1 a.estimator_doc_link.fitted {\n",
       "  /* fitted */\n",
       "  border: var(--sklearn-color-fitted-level-1) 1pt solid;\n",
       "  color: var(--sklearn-color-fitted-level-1);\n",
       "}\n",
       "\n",
       "/* On hover */\n",
       "#sk-container-id-1 a.estimator_doc_link:hover {\n",
       "  /* unfitted */\n",
       "  background-color: var(--sklearn-color-unfitted-level-3);\n",
       "  color: var(--sklearn-color-background);\n",
       "  text-decoration: none;\n",
       "}\n",
       "\n",
       "#sk-container-id-1 a.estimator_doc_link.fitted:hover {\n",
       "  /* fitted */\n",
       "  background-color: var(--sklearn-color-fitted-level-3);\n",
       "}\n",
       "</style><div id=\"sk-container-id-1\" class=\"sk-top-container\"><div class=\"sk-text-repr-fallback\"><pre>MinMaxScaler()</pre><b>In a Jupyter environment, please rerun this cell to show the HTML representation or trust the notebook. <br />On GitHub, the HTML representation is unable to render, please try loading this page with nbviewer.org.</b></div><div class=\"sk-container\" hidden><div class=\"sk-item\"><div class=\"sk-estimator fitted sk-toggleable\"><input class=\"sk-toggleable__control sk-hidden--visually\" id=\"sk-estimator-id-1\" type=\"checkbox\" checked><label for=\"sk-estimator-id-1\" class=\"sk-toggleable__label fitted sk-toggleable__label-arrow fitted\">&nbsp;&nbsp;MinMaxScaler<a class=\"sk-estimator-doc-link fitted\" rel=\"noreferrer\" target=\"_blank\" href=\"https://scikit-learn.org/1.5/modules/generated/sklearn.preprocessing.MinMaxScaler.html\">?<span>Documentation for MinMaxScaler</span></a><span class=\"sk-estimator-doc-link fitted\">i<span>Fitted</span></span></label><div class=\"sk-toggleable__content fitted\"><pre>MinMaxScaler()</pre></div> </div></div></div></div>"
      ],
      "text/plain": [
       "MinMaxScaler()"
      ]
     },
     "execution_count": 18,
     "metadata": {},
     "output_type": "execute_result"
    }
   ],
   "source": [
    "scaler.fit(train)"
   ]
  },
  {
   "cell_type": "code",
   "execution_count": 19,
   "id": "90180c2f-6065-4661-9a86-d5a195c71b0e",
   "metadata": {},
   "outputs": [],
   "source": [
    "scaled_train = scaler.transform(train)\n",
    "scaled_test = scaler.transform(test)"
   ]
  },
  {
   "cell_type": "code",
   "execution_count": 20,
   "id": "e94291d1-1221-4df5-a3b7-53e2057ebd3c",
   "metadata": {},
   "outputs": [
    {
     "data": {
      "text/plain": [
       "array([[0.09648439],\n",
       "       [0.09428153],\n",
       "       [0.08859622],\n",
       "       ...,\n",
       "       [0.98072777],\n",
       "       [0.99994398],\n",
       "       [1.        ]])"
      ]
     },
     "execution_count": 20,
     "metadata": {},
     "output_type": "execute_result"
    }
   ],
   "source": [
    "scaled_train"
   ]
  },
  {
   "cell_type": "code",
   "execution_count": 21,
   "id": "2757b164-9aec-45cd-82fa-b603fee049be",
   "metadata": {
    "scrolled": true
   },
   "outputs": [
    {
     "data": {
      "text/plain": [
       "array([[1.00095017],\n",
       "       [1.00515644],\n",
       "       [1.00783438],\n",
       "       [0.99469341],\n",
       "       [0.96501867],\n",
       "       [0.96219282],\n",
       "       [0.97586042],\n",
       "       [0.96777056],\n",
       "       [0.97899775],\n",
       "       [0.97807896],\n",
       "       [0.96875658],\n",
       "       [0.96896947],\n",
       "       [0.9867806 ],\n",
       "       [0.9881924 ],\n",
       "       [0.99384857],\n",
       "       [0.99704642],\n",
       "       [0.99889745],\n",
       "       [0.99941959],\n",
       "       [1.00782094],\n",
       "       [1.0081414 ]])"
      ]
     },
     "execution_count": 21,
     "metadata": {},
     "output_type": "execute_result"
    }
   ],
   "source": [
    "scaled_test"
   ]
  },
  {
   "cell_type": "code",
   "execution_count": 22,
   "id": "52fa9811-f4b7-4f8e-b192-d9b977b63f3a",
   "metadata": {},
   "outputs": [],
   "source": [
    "generator = TimeseriesGenerator(scaled_train, scaled_train, length=inputval, batch_size=5)"
   ]
  },
  {
   "cell_type": "code",
   "execution_count": 23,
   "id": "cf26f126-72b9-4318-aa65-2c5e97ebf153",
   "metadata": {},
   "outputs": [],
   "source": [
    "inp, out = generator[0]"
   ]
  },
  {
   "cell_type": "code",
   "execution_count": 24,
   "id": "36d452c6-49d0-49f6-bbf1-96b9f46173f9",
   "metadata": {
    "scrolled": true
   },
   "outputs": [
    {
     "data": {
      "text/plain": [
       "array([[[0.09648439],\n",
       "        [0.09428153],\n",
       "        [0.08859622],\n",
       "        [0.08630372],\n",
       "        [0.08961137],\n",
       "        [0.09031727],\n",
       "        [0.08932005],\n",
       "        [0.09180303],\n",
       "        [0.09541097],\n",
       "        [0.09224674],\n",
       "        [0.08874412],\n",
       "        [0.08172097],\n",
       "        [0.07808389],\n",
       "        [0.07470901],\n",
       "        [0.07746763],\n",
       "        [0.0803002 ],\n",
       "        [0.07226861],\n",
       "        [0.06796149],\n",
       "        [0.0615165 ],\n",
       "        [0.07032794]],\n",
       "\n",
       "       [[0.09428153],\n",
       "        [0.08859622],\n",
       "        [0.08630372],\n",
       "        [0.08961137],\n",
       "        [0.09031727],\n",
       "        [0.08932005],\n",
       "        [0.09180303],\n",
       "        [0.09541097],\n",
       "        [0.09224674],\n",
       "        [0.08874412],\n",
       "        [0.08172097],\n",
       "        [0.07808389],\n",
       "        [0.07470901],\n",
       "        [0.07746763],\n",
       "        [0.0803002 ],\n",
       "        [0.07226861],\n",
       "        [0.06796149],\n",
       "        [0.0615165 ],\n",
       "        [0.07032794],\n",
       "        [0.06281626]],\n",
       "\n",
       "       [[0.08859622],\n",
       "        [0.08630372],\n",
       "        [0.08961137],\n",
       "        [0.09031727],\n",
       "        [0.08932005],\n",
       "        [0.09180303],\n",
       "        [0.09541097],\n",
       "        [0.09224674],\n",
       "        [0.08874412],\n",
       "        [0.08172097],\n",
       "        [0.07808389],\n",
       "        [0.07470901],\n",
       "        [0.07746763],\n",
       "        [0.0803002 ],\n",
       "        [0.07226861],\n",
       "        [0.06796149],\n",
       "        [0.0615165 ],\n",
       "        [0.07032794],\n",
       "        [0.06281626],\n",
       "        [0.06686118]],\n",
       "\n",
       "       [[0.08630372],\n",
       "        [0.08961137],\n",
       "        [0.09031727],\n",
       "        [0.08932005],\n",
       "        [0.09180303],\n",
       "        [0.09541097],\n",
       "        [0.09224674],\n",
       "        [0.08874412],\n",
       "        [0.08172097],\n",
       "        [0.07808389],\n",
       "        [0.07470901],\n",
       "        [0.07746763],\n",
       "        [0.0803002 ],\n",
       "        [0.07226861],\n",
       "        [0.06796149],\n",
       "        [0.0615165 ],\n",
       "        [0.07032794],\n",
       "        [0.06281626],\n",
       "        [0.06686118],\n",
       "        [0.06748865]],\n",
       "\n",
       "       [[0.08961137],\n",
       "        [0.09031727],\n",
       "        [0.08932005],\n",
       "        [0.09180303],\n",
       "        [0.09541097],\n",
       "        [0.09224674],\n",
       "        [0.08874412],\n",
       "        [0.08172097],\n",
       "        [0.07808389],\n",
       "        [0.07470901],\n",
       "        [0.07746763],\n",
       "        [0.0803002 ],\n",
       "        [0.07226861],\n",
       "        [0.06796149],\n",
       "        [0.0615165 ],\n",
       "        [0.07032794],\n",
       "        [0.06281626],\n",
       "        [0.06686118],\n",
       "        [0.06748865],\n",
       "        [0.0656309 ]]])"
      ]
     },
     "execution_count": 24,
     "metadata": {},
     "output_type": "execute_result"
    }
   ],
   "source": [
    "inp"
   ]
  },
  {
   "cell_type": "code",
   "execution_count": 25,
   "id": "e5113da8-8ded-4363-a4cf-2b23fbac0c63",
   "metadata": {},
   "outputs": [
    {
     "data": {
      "text/plain": [
       "array([[0.06281626],\n",
       "       [0.06686118],\n",
       "       [0.06748865],\n",
       "       [0.0656309 ],\n",
       "       [0.07318516]])"
      ]
     },
     "execution_count": 25,
     "metadata": {},
     "output_type": "execute_result"
    }
   ],
   "source": [
    "out"
   ]
  },
  {
   "cell_type": "code",
   "execution_count": 26,
   "id": "ce4dc073-7561-44cb-825c-8ff8aeef07da",
   "metadata": {},
   "outputs": [],
   "source": [
    "inp2, out2 = generator[1]"
   ]
  },
  {
   "cell_type": "code",
   "execution_count": 27,
   "id": "a535372c-35d1-468f-bb1e-e0e373a78824",
   "metadata": {
    "scrolled": true
   },
   "outputs": [
    {
     "data": {
      "text/plain": [
       "array([[[0.09031727],\n",
       "        [0.08932005],\n",
       "        [0.09180303],\n",
       "        [0.09541097],\n",
       "        [0.09224674],\n",
       "        [0.08874412],\n",
       "        [0.08172097],\n",
       "        [0.07808389],\n",
       "        [0.07470901],\n",
       "        [0.07746763],\n",
       "        [0.0803002 ],\n",
       "        [0.07226861],\n",
       "        [0.06796149],\n",
       "        [0.0615165 ],\n",
       "        [0.07032794],\n",
       "        [0.06281626],\n",
       "        [0.06686118],\n",
       "        [0.06748865],\n",
       "        [0.0656309 ],\n",
       "        [0.07318516]],\n",
       "\n",
       "       [[0.08932005],\n",
       "        [0.09180303],\n",
       "        [0.09541097],\n",
       "        [0.09224674],\n",
       "        [0.08874412],\n",
       "        [0.08172097],\n",
       "        [0.07808389],\n",
       "        [0.07470901],\n",
       "        [0.07746763],\n",
       "        [0.0803002 ],\n",
       "        [0.07226861],\n",
       "        [0.06796149],\n",
       "        [0.0615165 ],\n",
       "        [0.07032794],\n",
       "        [0.06281626],\n",
       "        [0.06686118],\n",
       "        [0.06748865],\n",
       "        [0.0656309 ],\n",
       "        [0.07318516],\n",
       "        [0.07341374]],\n",
       "\n",
       "       [[0.09180303],\n",
       "        [0.09541097],\n",
       "        [0.09224674],\n",
       "        [0.08874412],\n",
       "        [0.08172097],\n",
       "        [0.07808389],\n",
       "        [0.07470901],\n",
       "        [0.07746763],\n",
       "        [0.0803002 ],\n",
       "        [0.07226861],\n",
       "        [0.06796149],\n",
       "        [0.0615165 ],\n",
       "        [0.07032794],\n",
       "        [0.06281626],\n",
       "        [0.06686118],\n",
       "        [0.06748865],\n",
       "        [0.0656309 ],\n",
       "        [0.07318516],\n",
       "        [0.07341374],\n",
       "        [0.06834021]],\n",
       "\n",
       "       [[0.09541097],\n",
       "        [0.09224674],\n",
       "        [0.08874412],\n",
       "        [0.08172097],\n",
       "        [0.07808389],\n",
       "        [0.07470901],\n",
       "        [0.07746763],\n",
       "        [0.0803002 ],\n",
       "        [0.07226861],\n",
       "        [0.06796149],\n",
       "        [0.0615165 ],\n",
       "        [0.07032794],\n",
       "        [0.06281626],\n",
       "        [0.06686118],\n",
       "        [0.06748865],\n",
       "        [0.0656309 ],\n",
       "        [0.07318516],\n",
       "        [0.07341374],\n",
       "        [0.06834021],\n",
       "        [0.0679234 ]],\n",
       "\n",
       "       [[0.09224674],\n",
       "        [0.08874412],\n",
       "        [0.08172097],\n",
       "        [0.07808389],\n",
       "        [0.07470901],\n",
       "        [0.07746763],\n",
       "        [0.0803002 ],\n",
       "        [0.07226861],\n",
       "        [0.06796149],\n",
       "        [0.0615165 ],\n",
       "        [0.07032794],\n",
       "        [0.06281626],\n",
       "        [0.06686118],\n",
       "        [0.06748865],\n",
       "        [0.0656309 ],\n",
       "        [0.07318516],\n",
       "        [0.07341374],\n",
       "        [0.06834021],\n",
       "        [0.0679234 ],\n",
       "        [0.0599187 ]]])"
      ]
     },
     "execution_count": 27,
     "metadata": {},
     "output_type": "execute_result"
    }
   ],
   "source": [
    "inp2"
   ]
  },
  {
   "cell_type": "code",
   "execution_count": 28,
   "id": "f2c7e58b-98e9-4702-b823-0b731a55aadc",
   "metadata": {},
   "outputs": [
    {
     "data": {
      "text/plain": [
       "array([[0.07341374],\n",
       "       [0.06834021],\n",
       "       [0.0679234 ],\n",
       "       [0.0599187 ],\n",
       "       [0.05792873]])"
      ]
     },
     "execution_count": 28,
     "metadata": {},
     "output_type": "execute_result"
    }
   ],
   "source": [
    "out2"
   ]
  },
  {
   "cell_type": "code",
   "execution_count": 29,
   "id": "270bbed7-ac18-4236-8193-d3d4e604a47e",
   "metadata": {},
   "outputs": [
    {
     "data": {
      "text/plain": [
       "(5, 20, 1)"
      ]
     },
     "execution_count": 29,
     "metadata": {},
     "output_type": "execute_result"
    }
   ],
   "source": [
    "inp.shape"
   ]
  },
  {
   "cell_type": "code",
   "execution_count": 30,
   "id": "6118132d-1c4a-4029-bcf2-77212b7585eb",
   "metadata": {},
   "outputs": [
    {
     "data": {
      "text/plain": [
       "(5, 1)"
      ]
     },
     "execution_count": 30,
     "metadata": {},
     "output_type": "execute_result"
    }
   ],
   "source": [
    "out.shape"
   ]
  },
  {
   "cell_type": "code",
   "execution_count": 31,
   "id": "80c68af3-3aae-448c-beaa-71dffc5b6ac2",
   "metadata": {},
   "outputs": [
    {
     "name": "stderr",
     "output_type": "stream",
     "text": [
      "c:\\Users\\Asus\\AppData\\Local\\Programs\\Python\\Python311\\Lib\\site-packages\\keras\\src\\layers\\rnn\\rnn.py:204: UserWarning: Do not pass an `input_shape`/`input_dim` argument to a layer. When using Sequential models, prefer using an `Input(shape)` object as the first layer in the model instead.\n",
      "  super().__init__(**kwargs)\n"
     ]
    }
   ],
   "source": [
    "model = Sequential([\n",
    "    LSTM(1000, activation=\"relu\", input_shape=((inputval, 1))),\n",
    "    Dense(1)\n",
    "])"
   ]
  },
  {
   "cell_type": "code",
   "execution_count": 32,
   "id": "3e30d061-a74e-4c27-80e0-ad75332fb080",
   "metadata": {},
   "outputs": [],
   "source": [
    "model.compile(optimizer=\"adam\", loss=\"mse\")"
   ]
  },
  {
   "cell_type": "code",
   "execution_count": 33,
   "id": "80378c5c-15cc-417f-83f7-2d6fd4ed91db",
   "metadata": {},
   "outputs": [
    {
     "name": "stdout",
     "output_type": "stream",
     "text": [
      "Epoch 1/30\n"
     ]
    },
    {
     "name": "stderr",
     "output_type": "stream",
     "text": [
      "c:\\Users\\Asus\\AppData\\Local\\Programs\\Python\\Python311\\Lib\\site-packages\\keras\\src\\trainers\\data_adapters\\py_dataset_adapter.py:121: UserWarning: Your `PyDataset` class should call `super().__init__(**kwargs)` in its constructor. `**kwargs` can include `workers`, `use_multiprocessing`, `max_queue_size`. Do not pass these arguments to `fit()`, as they will be ignored.\n",
      "  self._warn_if_super_not_called()\n"
     ]
    },
    {
     "name": "stdout",
     "output_type": "stream",
     "text": [
      "\u001b[1m796/796\u001b[0m \u001b[32m━━━━━━━━━━━━━━━━━━━━\u001b[0m\u001b[37m\u001b[0m \u001b[1m124s\u001b[0m 155ms/step - loss: 0.0062\n",
      "Epoch 2/30\n",
      "\u001b[1m796/796\u001b[0m \u001b[32m━━━━━━━━━━━━━━━━━━━━\u001b[0m\u001b[37m\u001b[0m \u001b[1m121s\u001b[0m 152ms/step - loss: 0.0020\n",
      "Epoch 3/30\n",
      "\u001b[1m796/796\u001b[0m \u001b[32m━━━━━━━━━━━━━━━━━━━━\u001b[0m\u001b[37m\u001b[0m \u001b[1m122s\u001b[0m 153ms/step - loss: 4.6515e-04\n",
      "Epoch 4/30\n",
      "\u001b[1m796/796\u001b[0m \u001b[32m━━━━━━━━━━━━━━━━━━━━\u001b[0m\u001b[37m\u001b[0m \u001b[1m116s\u001b[0m 145ms/step - loss: 2.9728e-04\n",
      "Epoch 5/30\n",
      "\u001b[1m796/796\u001b[0m \u001b[32m━━━━━━━━━━━━━━━━━━━━\u001b[0m\u001b[37m\u001b[0m \u001b[1m113s\u001b[0m 142ms/step - loss: 3.4948e-04\n",
      "Epoch 6/30\n",
      "\u001b[1m796/796\u001b[0m \u001b[32m━━━━━━━━━━━━━━━━━━━━\u001b[0m\u001b[37m\u001b[0m \u001b[1m114s\u001b[0m 144ms/step - loss: 3.4014e-04\n",
      "Epoch 7/30\n",
      "\u001b[1m796/796\u001b[0m \u001b[32m━━━━━━━━━━━━━━━━━━━━\u001b[0m\u001b[37m\u001b[0m \u001b[1m120s\u001b[0m 150ms/step - loss: 1.1447e-04\n",
      "Epoch 8/30\n",
      "\u001b[1m796/796\u001b[0m \u001b[32m━━━━━━━━━━━━━━━━━━━━\u001b[0m\u001b[37m\u001b[0m \u001b[1m117s\u001b[0m 147ms/step - loss: 2.3195e-04\n",
      "Epoch 9/30\n",
      "\u001b[1m796/796\u001b[0m \u001b[32m━━━━━━━━━━━━━━━━━━━━\u001b[0m\u001b[37m\u001b[0m \u001b[1m117s\u001b[0m 147ms/step - loss: 1.0812e-04\n",
      "Epoch 10/30\n",
      "\u001b[1m796/796\u001b[0m \u001b[32m━━━━━━━━━━━━━━━━━━━━\u001b[0m\u001b[37m\u001b[0m \u001b[1m123s\u001b[0m 154ms/step - loss: 6.4607e-05\n",
      "Epoch 11/30\n",
      "\u001b[1m796/796\u001b[0m \u001b[32m━━━━━━━━━━━━━━━━━━━━\u001b[0m\u001b[37m\u001b[0m \u001b[1m120s\u001b[0m 151ms/step - loss: 1.0116e-04\n",
      "Epoch 12/30\n",
      "\u001b[1m796/796\u001b[0m \u001b[32m━━━━━━━━━━━━━━━━━━━━\u001b[0m\u001b[37m\u001b[0m \u001b[1m122s\u001b[0m 153ms/step - loss: 7.5332e-05\n",
      "Epoch 13/30\n",
      "\u001b[1m796/796\u001b[0m \u001b[32m━━━━━━━━━━━━━━━━━━━━\u001b[0m\u001b[37m\u001b[0m \u001b[1m119s\u001b[0m 150ms/step - loss: 8.7005e-05\n",
      "Epoch 14/30\n",
      "\u001b[1m796/796\u001b[0m \u001b[32m━━━━━━━━━━━━━━━━━━━━\u001b[0m\u001b[37m\u001b[0m \u001b[1m117s\u001b[0m 147ms/step - loss: 6.9470e-05\n",
      "Epoch 15/30\n",
      "\u001b[1m796/796\u001b[0m \u001b[32m━━━━━━━━━━━━━━━━━━━━\u001b[0m\u001b[37m\u001b[0m \u001b[1m114s\u001b[0m 143ms/step - loss: 8.6816e-05\n",
      "Epoch 16/30\n",
      "\u001b[1m796/796\u001b[0m \u001b[32m━━━━━━━━━━━━━━━━━━━━\u001b[0m\u001b[37m\u001b[0m \u001b[1m117s\u001b[0m 148ms/step - loss: 1.5754e-04\n",
      "Epoch 17/30\n",
      "\u001b[1m796/796\u001b[0m \u001b[32m━━━━━━━━━━━━━━━━━━━━\u001b[0m\u001b[37m\u001b[0m \u001b[1m120s\u001b[0m 151ms/step - loss: 4.3287e-05\n",
      "Epoch 18/30\n",
      "\u001b[1m796/796\u001b[0m \u001b[32m━━━━━━━━━━━━━━━━━━━━\u001b[0m\u001b[37m\u001b[0m \u001b[1m116s\u001b[0m 146ms/step - loss: 9.0671e-05\n",
      "Epoch 19/30\n",
      "\u001b[1m796/796\u001b[0m \u001b[32m━━━━━━━━━━━━━━━━━━━━\u001b[0m\u001b[37m\u001b[0m \u001b[1m119s\u001b[0m 150ms/step - loss: 4.1068e-05\n",
      "Epoch 20/30\n",
      "\u001b[1m796/796\u001b[0m \u001b[32m━━━━━━━━━━━━━━━━━━━━\u001b[0m\u001b[37m\u001b[0m \u001b[1m119s\u001b[0m 149ms/step - loss: 6.2977e-05\n",
      "Epoch 21/30\n",
      "\u001b[1m796/796\u001b[0m \u001b[32m━━━━━━━━━━━━━━━━━━━━\u001b[0m\u001b[37m\u001b[0m \u001b[1m120s\u001b[0m 151ms/step - loss: 3.5663e-05\n",
      "Epoch 22/30\n",
      "\u001b[1m796/796\u001b[0m \u001b[32m━━━━━━━━━━━━━━━━━━━━\u001b[0m\u001b[37m\u001b[0m \u001b[1m115s\u001b[0m 145ms/step - loss: 1.3038e-04\n",
      "Epoch 23/30\n",
      "\u001b[1m796/796\u001b[0m \u001b[32m━━━━━━━━━━━━━━━━━━━━\u001b[0m\u001b[37m\u001b[0m \u001b[1m115s\u001b[0m 145ms/step - loss: 8.2028e-05\n",
      "Epoch 24/30\n",
      "\u001b[1m796/796\u001b[0m \u001b[32m━━━━━━━━━━━━━━━━━━━━\u001b[0m\u001b[37m\u001b[0m \u001b[1m117s\u001b[0m 147ms/step - loss: 6.0635e-05\n",
      "Epoch 25/30\n",
      "\u001b[1m796/796\u001b[0m \u001b[32m━━━━━━━━━━━━━━━━━━━━\u001b[0m\u001b[37m\u001b[0m \u001b[1m116s\u001b[0m 146ms/step - loss: 3.9380e-05\n",
      "Epoch 26/30\n",
      "\u001b[1m796/796\u001b[0m \u001b[32m━━━━━━━━━━━━━━━━━━━━\u001b[0m\u001b[37m\u001b[0m \u001b[1m115s\u001b[0m 145ms/step - loss: 4.9851e-05\n",
      "Epoch 27/30\n",
      "\u001b[1m796/796\u001b[0m \u001b[32m━━━━━━━━━━━━━━━━━━━━\u001b[0m\u001b[37m\u001b[0m \u001b[1m115s\u001b[0m 145ms/step - loss: 5.6859e-05\n",
      "Epoch 28/30\n",
      "\u001b[1m796/796\u001b[0m \u001b[32m━━━━━━━━━━━━━━━━━━━━\u001b[0m\u001b[37m\u001b[0m \u001b[1m116s\u001b[0m 145ms/step - loss: 5.9896e-05\n",
      "Epoch 29/30\n",
      "\u001b[1m796/796\u001b[0m \u001b[32m━━━━━━━━━━━━━━━━━━━━\u001b[0m\u001b[37m\u001b[0m \u001b[1m115s\u001b[0m 145ms/step - loss: 5.9047e-05\n",
      "Epoch 30/30\n",
      "\u001b[1m796/796\u001b[0m \u001b[32m━━━━━━━━━━━━━━━━━━━━\u001b[0m\u001b[37m\u001b[0m \u001b[1m116s\u001b[0m 145ms/step - loss: 6.9572e-05\n"
     ]
    },
    {
     "data": {
      "text/plain": [
       "<keras.src.callbacks.history.History at 0x23b9cadb150>"
      ]
     },
     "execution_count": 33,
     "metadata": {},
     "output_type": "execute_result"
    }
   ],
   "source": [
    "model.fit(generator, epochs=epoch)"
   ]
  },
  {
   "cell_type": "code",
   "execution_count": 34,
   "id": "941c29f2-e57e-4312-b3ca-d52799afd947",
   "metadata": {
    "scrolled": true
   },
   "outputs": [
    {
     "data": {
      "text/plain": [
       "array([[0.9688888 ],\n",
       "       [0.96807757],\n",
       "       [0.9753674 ],\n",
       "       [0.97606882],\n",
       "       [0.9770414 ],\n",
       "       [0.9768935 ],\n",
       "       [0.98194237],\n",
       "       [0.97706829],\n",
       "       [0.97668733],\n",
       "       [0.98503265],\n",
       "       [0.98882211],\n",
       "       [0.99000085],\n",
       "       [0.99842013],\n",
       "       [0.9863212 ],\n",
       "       [0.98535087],\n",
       "       [0.98399733],\n",
       "       [0.98105943],\n",
       "       [0.98072777],\n",
       "       [0.99994398],\n",
       "       [1.        ]])"
      ]
     },
     "execution_count": 34,
     "metadata": {},
     "output_type": "execute_result"
    }
   ],
   "source": [
    "last_train_batch = scaled_train[-inputval:]\n",
    "last_train_batch"
   ]
  },
  {
   "cell_type": "code",
   "execution_count": 35,
   "id": "e535c97a-992e-416a-a084-7e84765c0abd",
   "metadata": {},
   "outputs": [],
   "source": [
    "last_train_batch = last_train_batch.reshape((1, inputval, 1))"
   ]
  },
  {
   "cell_type": "code",
   "execution_count": 36,
   "id": "61346391-dfa1-424c-89f4-207adf098827",
   "metadata": {
    "scrolled": true
   },
   "outputs": [
    {
     "data": {
      "text/plain": [
       "array([[[0.9688888 ],\n",
       "        [0.96807757],\n",
       "        [0.9753674 ],\n",
       "        [0.97606882],\n",
       "        [0.9770414 ],\n",
       "        [0.9768935 ],\n",
       "        [0.98194237],\n",
       "        [0.97706829],\n",
       "        [0.97668733],\n",
       "        [0.98503265],\n",
       "        [0.98882211],\n",
       "        [0.99000085],\n",
       "        [0.99842013],\n",
       "        [0.9863212 ],\n",
       "        [0.98535087],\n",
       "        [0.98399733],\n",
       "        [0.98105943],\n",
       "        [0.98072777],\n",
       "        [0.99994398],\n",
       "        [1.        ]]])"
      ]
     },
     "execution_count": 36,
     "metadata": {},
     "output_type": "execute_result"
    }
   ],
   "source": [
    "last_train_batch"
   ]
  },
  {
   "cell_type": "code",
   "execution_count": 37,
   "id": "e5b6b005-bb3c-414d-beed-4b4a88018a80",
   "metadata": {},
   "outputs": [
    {
     "name": "stdout",
     "output_type": "stream",
     "text": [
      "\u001b[1m1/1\u001b[0m \u001b[32m━━━━━━━━━━━━━━━━━━━━\u001b[0m\u001b[37m\u001b[0m \u001b[1m0s\u001b[0m 140ms/step\n"
     ]
    },
    {
     "data": {
      "text/plain": [
       "array([1.0039164], dtype=float32)"
      ]
     },
     "execution_count": 37,
     "metadata": {},
     "output_type": "execute_result"
    }
   ],
   "source": [
    "model.predict(last_train_batch)[0]"
   ]
  },
  {
   "cell_type": "code",
   "execution_count": 38,
   "id": "6d621e3f-0503-4714-ad51-7862466b1f66",
   "metadata": {},
   "outputs": [
    {
     "data": {
      "text/plain": [
       "array([1.00095017])"
      ]
     },
     "execution_count": 38,
     "metadata": {},
     "output_type": "execute_result"
    }
   ],
   "source": [
    "scaled_test[0]"
   ]
  },
  {
   "cell_type": "code",
   "execution_count": 39,
   "id": "90bb7ed8-0756-4d3e-8328-8762569f7d49",
   "metadata": {},
   "outputs": [],
   "source": [
    "test_pred = []"
   ]
  },
  {
   "cell_type": "code",
   "execution_count": 40,
   "id": "c6f03edb-4ff0-483b-87fd-60f1c4aac971",
   "metadata": {},
   "outputs": [],
   "source": [
    "first_eval_batch = scaled_train[-inputval:]\n",
    "current_batch = first_eval_batch.reshape((1, inputval, 1))"
   ]
  },
  {
   "cell_type": "code",
   "execution_count": 41,
   "id": "ab50142a-fc35-4214-8eb2-d459f2c47ede",
   "metadata": {},
   "outputs": [
    {
     "name": "stdout",
     "output_type": "stream",
     "text": [
      "\u001b[1m1/1\u001b[0m \u001b[32m━━━━━━━━━━━━━━━━━━━━\u001b[0m\u001b[37m\u001b[0m \u001b[1m0s\u001b[0m 26ms/step\n",
      "\u001b[1m1/1\u001b[0m \u001b[32m━━━━━━━━━━━━━━━━━━━━\u001b[0m\u001b[37m\u001b[0m \u001b[1m0s\u001b[0m 22ms/step\n",
      "\u001b[1m1/1\u001b[0m \u001b[32m━━━━━━━━━━━━━━━━━━━━\u001b[0m\u001b[37m\u001b[0m \u001b[1m0s\u001b[0m 22ms/step\n",
      "\u001b[1m1/1\u001b[0m \u001b[32m━━━━━━━━━━━━━━━━━━━━\u001b[0m\u001b[37m\u001b[0m \u001b[1m0s\u001b[0m 22ms/step\n",
      "\u001b[1m1/1\u001b[0m \u001b[32m━━━━━━━━━━━━━━━━━━━━\u001b[0m\u001b[37m\u001b[0m \u001b[1m0s\u001b[0m 21ms/step\n",
      "\u001b[1m1/1\u001b[0m \u001b[32m━━━━━━━━━━━━━━━━━━━━\u001b[0m\u001b[37m\u001b[0m \u001b[1m0s\u001b[0m 24ms/step\n",
      "\u001b[1m1/1\u001b[0m \u001b[32m━━━━━━━━━━━━━━━━━━━━\u001b[0m\u001b[37m\u001b[0m \u001b[1m0s\u001b[0m 29ms/step\n",
      "\u001b[1m1/1\u001b[0m \u001b[32m━━━━━━━━━━━━━━━━━━━━\u001b[0m\u001b[37m\u001b[0m \u001b[1m0s\u001b[0m 21ms/step\n",
      "\u001b[1m1/1\u001b[0m \u001b[32m━━━━━━━━━━━━━━━━━━━━\u001b[0m\u001b[37m\u001b[0m \u001b[1m0s\u001b[0m 23ms/step\n",
      "\u001b[1m1/1\u001b[0m \u001b[32m━━━━━━━━━━━━━━━━━━━━\u001b[0m\u001b[37m\u001b[0m \u001b[1m0s\u001b[0m 31ms/step\n",
      "\u001b[1m1/1\u001b[0m \u001b[32m━━━━━━━━━━━━━━━━━━━━\u001b[0m\u001b[37m\u001b[0m \u001b[1m0s\u001b[0m 30ms/step\n",
      "\u001b[1m1/1\u001b[0m \u001b[32m━━━━━━━━━━━━━━━━━━━━\u001b[0m\u001b[37m\u001b[0m \u001b[1m0s\u001b[0m 24ms/step\n",
      "\u001b[1m1/1\u001b[0m \u001b[32m━━━━━━━━━━━━━━━━━━━━\u001b[0m\u001b[37m\u001b[0m \u001b[1m0s\u001b[0m 27ms/step\n",
      "\u001b[1m1/1\u001b[0m \u001b[32m━━━━━━━━━━━━━━━━━━━━\u001b[0m\u001b[37m\u001b[0m \u001b[1m0s\u001b[0m 28ms/step\n",
      "\u001b[1m1/1\u001b[0m \u001b[32m━━━━━━━━━━━━━━━━━━━━\u001b[0m\u001b[37m\u001b[0m \u001b[1m0s\u001b[0m 22ms/step\n",
      "\u001b[1m1/1\u001b[0m \u001b[32m━━━━━━━━━━━━━━━━━━━━\u001b[0m\u001b[37m\u001b[0m \u001b[1m0s\u001b[0m 36ms/step\n",
      "\u001b[1m1/1\u001b[0m \u001b[32m━━━━━━━━━━━━━━━━━━━━\u001b[0m\u001b[37m\u001b[0m \u001b[1m0s\u001b[0m 21ms/step\n",
      "\u001b[1m1/1\u001b[0m \u001b[32m━━━━━━━━━━━━━━━━━━━━\u001b[0m\u001b[37m\u001b[0m \u001b[1m0s\u001b[0m 24ms/step\n",
      "\u001b[1m1/1\u001b[0m \u001b[32m━━━━━━━━━━━━━━━━━━━━\u001b[0m\u001b[37m\u001b[0m \u001b[1m0s\u001b[0m 24ms/step\n",
      "\u001b[1m1/1\u001b[0m \u001b[32m━━━━━━━━━━━━━━━━━━━━\u001b[0m\u001b[37m\u001b[0m \u001b[1m0s\u001b[0m 21ms/step\n"
     ]
    }
   ],
   "source": [
    "for i in range(len(test)):\n",
    "    current_pred = model.predict(current_batch)[0]\n",
    "\n",
    "    test_pred.append(current_pred)\n",
    "\n",
    "    current_batch = np.append(current_batch[:, 1:, :,], [[current_pred]], axis=1)"
   ]
  },
  {
   "cell_type": "code",
   "execution_count": 42,
   "id": "96a15a60-ef8a-463a-8ea5-2a640d70a13a",
   "metadata": {
    "scrolled": true
   },
   "outputs": [
    {
     "data": {
      "text/plain": [
       "[array([1.0039164], dtype=float32),\n",
       " array([1.0088456], dtype=float32),\n",
       " array([1.0136362], dtype=float32),\n",
       " array([1.0184687], dtype=float32),\n",
       " array([1.0233469], dtype=float32),\n",
       " array([1.0282738], dtype=float32),\n",
       " array([1.0332543], dtype=float32),\n",
       " array([1.0382959], dtype=float32),\n",
       " array([1.0434078], dtype=float32),\n",
       " array([1.0485985], dtype=float32),\n",
       " array([1.0538698], dtype=float32),\n",
       " array([1.0592253], dtype=float32),\n",
       " array([1.0646695], dtype=float32),\n",
       " array([1.0702022], dtype=float32),\n",
       " array([1.0758332], dtype=float32),\n",
       " array([1.0815648], dtype=float32),\n",
       " array([1.0873983], dtype=float32),\n",
       " array([1.0933392], dtype=float32),\n",
       " array([1.0994036], dtype=float32),\n",
       " array([1.1055903], dtype=float32)]"
      ]
     },
     "execution_count": 42,
     "metadata": {},
     "output_type": "execute_result"
    }
   ],
   "source": [
    "test_pred"
   ]
  },
  {
   "cell_type": "code",
   "execution_count": 43,
   "id": "3bfac9a3-e1ff-4413-8f34-e52b4acda5dd",
   "metadata": {
    "scrolled": true
   },
   "outputs": [
    {
     "data": {
      "text/plain": [
       "array([[24857.3 ],\n",
       "       [24951.15],\n",
       "       [25010.9 ],\n",
       "       [24717.7 ],\n",
       "       [24055.6 ],\n",
       "       [23992.55],\n",
       "       [24297.5 ],\n",
       "       [24117.  ],\n",
       "       [24367.5 ],\n",
       "       [24347.  ],\n",
       "       [24139.  ],\n",
       "       [24143.75],\n",
       "       [24541.15],\n",
       "       [24572.65],\n",
       "       [24698.85],\n",
       "       [24770.2 ],\n",
       "       [24811.5 ],\n",
       "       [24823.15],\n",
       "       [25010.6 ],\n",
       "       [25017.75]])"
      ]
     },
     "execution_count": 43,
     "metadata": {},
     "output_type": "execute_result"
    }
   ],
   "source": [
    "test"
   ]
  },
  {
   "cell_type": "code",
   "execution_count": 44,
   "id": "35b053e2-2bc3-417b-9611-8100af5f06de",
   "metadata": {},
   "outputs": [],
   "source": [
    "true_pred = scaler.inverse_transform(test_pred)"
   ]
  },
  {
   "cell_type": "code",
   "execution_count": 45,
   "id": "870c4014-a70d-40e1-aaf2-efb6ebb929ef",
   "metadata": {},
   "outputs": [
    {
     "data": {
      "text/plain": [
       "array([[24923.48194116],\n",
       "       [25033.46142204],\n",
       "       [25140.35023187],\n",
       "       [25248.17262651],\n",
       "       [25357.01371908],\n",
       "       [25466.94266403],\n",
       "       [25578.06585277],\n",
       "       [25690.55351161],\n",
       "       [25804.61044403],\n",
       "       [25920.42549484],\n",
       "       [26038.03856081],\n",
       "       [26157.52943552],\n",
       "       [26278.99919082],\n",
       "       [26402.44516693],\n",
       "       [26528.0828065 ],\n",
       "       [26655.96530524],\n",
       "       [26786.1219208 ],\n",
       "       [26918.67500331],\n",
       "       [27053.98362386],\n",
       "       [27192.02118459]])"
      ]
     },
     "execution_count": 45,
     "metadata": {},
     "output_type": "execute_result"
    }
   ],
   "source": [
    "true_pred"
   ]
  },
  {
   "cell_type": "code",
   "execution_count": 46,
   "id": "475c022e",
   "metadata": {},
   "outputs": [
    {
     "data": {
      "text/plain": [
       "array([[24923.48194116],\n",
       "       [25033.46142204],\n",
       "       [25140.35023187],\n",
       "       [25248.17262651],\n",
       "       [25357.01371908],\n",
       "       [25466.94266403],\n",
       "       [25578.06585277],\n",
       "       [25690.55351161],\n",
       "       [25804.61044403],\n",
       "       [25920.42549484],\n",
       "       [26038.03856081],\n",
       "       [26157.52943552],\n",
       "       [26278.99919082],\n",
       "       [26402.44516693],\n",
       "       [26528.0828065 ],\n",
       "       [26655.96530524],\n",
       "       [26786.1219208 ],\n",
       "       [26918.67500331],\n",
       "       [27053.98362386],\n",
       "       [27192.02118459]])"
      ]
     },
     "execution_count": 46,
     "metadata": {},
     "output_type": "execute_result"
    }
   ],
   "source": [
    "true_pred"
   ]
  },
  {
   "cell_type": "code",
   "execution_count": 47,
   "id": "4c28cafa-895e-4f8a-a6ae-a73428f22e37",
   "metadata": {},
   "outputs": [],
   "source": [
    "test = pd.DataFrame(test)  # Convert test Series to DataFrame\n",
    "test[\"Prediction\"] = true_pred"
   ]
  },
  {
   "cell_type": "code",
   "execution_count": 48,
   "id": "a9cb5486-ab19-4c37-8cc3-b05a3927a484",
   "metadata": {},
   "outputs": [
    {
     "data": {
      "image/png": "[encoded data removed]",
      "text/plain": [
       "<Figure size 640x480 with 1 Axes>"
      ]
     },
     "metadata": {},
     "output_type": "display_data"
    }
   ],
   "source": [
    "test.plot(title=\"Nifty vs Prediction\")\n",
    "plt.show()"
   ]
  },
  {
   "cell_type": "code",
   "execution_count": 49,
   "id": "838397a8-86d4-40b0-a7ef-a8415d249842",
   "metadata": {},
   "outputs": [
    {
     "data": {
      "text/plain": [
       "1596.2308139332706"
      ]
     },
     "execution_count": 49,
     "metadata": {},
     "output_type": "execute_result"
    }
   ],
   "source": [
    "rmse = root_mean_squared_error(test[0], test[\"Prediction\"]) # Changed test[\"Production\"] to test[0]\n",
    "rmse"
   ]
  },
  {
   "cell_type": "code",
   "execution_count": 50,
   "id": "cf819f62-1296-4b97-ae16-502af50db30d",
   "metadata": {},
   "outputs": [],
   "source": [
    "lower = test[0].mean() - rmse\n",
    "upper = test[\"Prediction\"].mean() + rmse"
   ]
  },
  {
   "cell_type": "code",
   "execution_count": 51,
   "id": "854f9abd-8f80-46d4-8745-4fb9df37a561",
   "metadata": {},
   "outputs": [
    {
     "data": {
      "text/plain": [
       "(22965.909186066732, 27604.977819249885)"
      ]
     },
     "execution_count": 51,
     "metadata": {},
     "output_type": "execute_result"
    }
   ],
   "source": [
    "lower, upper"
   ]
  },
  {
   "cell_type": "code",
   "execution_count": null,
   "id": "f0aaf806",
   "metadata": {},
   "outputs": [],
   "source": []
  }
 ],
 "metadata": {
  "kernelspec": {
   "display_name": "Python 3",
   "language": "python",
   "name": "python3"
  },
  "language_info": {
   "codemirror_mode": {
    "name": "ipython",
    "version": 3
   },
   "file_extension": ".py",
   "mimetype": "text/x-python",
   "name": "python",
   "nbconvert_exporter": "python",
   "pygments_lexer": "ipython3",
   "version": "3.11.5"
  },
  "widgets": {
   "application/vnd.jupyter.widget-state+json": {
    "state": {},
    "version_major": 2,
    "version_minor": 0
   }
  }
 },
 "nbformat": 4,
 "nbformat_minor": 5
}
