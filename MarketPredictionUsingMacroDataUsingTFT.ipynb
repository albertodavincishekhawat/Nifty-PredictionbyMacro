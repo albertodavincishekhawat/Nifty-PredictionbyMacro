{
 "cells": [
  {
   "cell_type": "markdown",
   "metadata": {},
   "source": [
    "# **Market Prediction Using Macro Economic Data**\n",
    "using LSTM and TFT"
   ]
  },
  {
   "cell_type": "code",
   "execution_count": 1,
   "metadata": {},
   "outputs": [],
   "source": [
    "import numpy as np \n",
    "import pandas as pd\n",
    "import matplotlib.pyplot as plt"
   ]
  },
  {
   "cell_type": "markdown",
   "metadata": {},
   "source": [
    "---\n",
    "---\n",
    "---"
   ]
  },
  {
   "cell_type": "markdown",
   "metadata": {},
   "source": [
    "# Importing and cleaning  data"
   ]
  },
  {
   "cell_type": "markdown",
   "metadata": {},
   "source": [
    "## **\"niftyvix\"** "
   ]
  },
  {
   "cell_type": "code",
   "execution_count": 2,
   "metadata": {},
   "outputs": [],
   "source": [
    "df0 = pd.read_csv(\"MacroData/fniftyvix_data.csv\")\n",
    "niftyvix = df0.copy()\n"
   ]
  },
  {
   "cell_type": "code",
   "execution_count": 3,
   "metadata": {},
   "outputs": [
    {
     "name": "stdout",
     "output_type": "stream",
     "text": [
      "<class 'pandas.core.frame.DataFrame'>\n",
      "RangeIndex: 4016 entries, 0 to 4015\n",
      "Data columns (total 53 columns):\n",
      " #   Column         Non-Null Count  Dtype         \n",
      "---  ------         --------------  -----         \n",
      " 0   Date           4016 non-null   datetime64[ns]\n",
      " 1   vixPrice       4016 non-null   float64       \n",
      " 2   vixChange%     4016 non-null   float64       \n",
      " 3   niftyPrice     4016 non-null   float64       \n",
      " 4   niftyChange %  4016 non-null   float64       \n",
      " 5   n5day          4016 non-null   float64       \n",
      " 6   n10day         4016 non-null   float64       \n",
      " 7   n20day         4016 non-null   float64       \n",
      " 8   n1day          4016 non-null   float64       \n",
      " 9   n60day         4016 non-null   float64       \n",
      " 10  nc5day         4016 non-null   float64       \n",
      " 11  nc10day        4016 non-null   float64       \n",
      " 12  nc20day        4016 non-null   float64       \n",
      " 13  nc1day         4016 non-null   float64       \n",
      " 14  nc60day        4016 non-null   float64       \n",
      " 15  v5day          4016 non-null   float64       \n",
      " 16  v10day         4016 non-null   float64       \n",
      " 17  v20day         4016 non-null   float64       \n",
      " 18  v1day          4016 non-null   float64       \n",
      " 19  v60day         4016 non-null   float64       \n",
      " 20  vc5day         4016 non-null   float64       \n",
      " 21  vc10day        4016 non-null   float64       \n",
      " 22  vc20day        4016 non-null   float64       \n",
      " 23  vc1day         4016 non-null   float64       \n",
      " 24  vc60day        4016 non-null   float64       \n",
      " 25  DayOfWeek      4016 non-null   object        \n",
      " 26  month          4016 non-null   object        \n",
      " 27  Tuesday        4016 non-null   int64         \n",
      " 28  Wednesday      4016 non-null   int64         \n",
      " 29  Friday         4016 non-null   int64         \n",
      " 30  Monday         4016 non-null   int64         \n",
      " 31  Thursday       4016 non-null   int64         \n",
      " 32  Saturday       4016 non-null   int64         \n",
      " 33  Sunday         4016 non-null   int64         \n",
      " 34  March          4016 non-null   int64         \n",
      " 35  April          4016 non-null   int64         \n",
      " 36  May            4016 non-null   int64         \n",
      " 37  June           4016 non-null   int64         \n",
      " 38  July           4016 non-null   int64         \n",
      " 39  August         4016 non-null   int64         \n",
      " 40  September      4016 non-null   int64         \n",
      " 41  October        4016 non-null   int64         \n",
      " 42  November       4016 non-null   int64         \n",
      " 43  December       4016 non-null   int64         \n",
      " 44  January        4016 non-null   int64         \n",
      " 45  February       4016 non-null   int64         \n",
      " 46  n1day%         4016 non-null   float64       \n",
      " 47  n5day%         4016 non-null   float64       \n",
      " 48  n10day%        4016 non-null   float64       \n",
      " 49  n20day%        4016 non-null   float64       \n",
      " 50  n60day%        4016 non-null   float64       \n",
      " 51  cluster        4016 non-null   int64         \n",
      " 52  Month          4016 non-null   int64         \n",
      "dtypes: datetime64[ns](1), float64(29), int64(21), object(2)\n",
      "memory usage: 1.6+ MB\n"
     ]
    }
   ],
   "source": [
    "# niftyvix = niftyvix.rename(columns={'Date.1': 'Date'})\n",
    "# niftyvix = niftyvix.drop(\"Date.1\", axis=1)\n",
    "niftyvix = niftyvix.drop(\"Date.1\", axis=1)\n",
    "niftyvix['Date'] =  pd.to_datetime(niftyvix['Date'])\n",
    "niftyvix.head(1)\n",
    "niftyvix.info()"
   ]
  },
  {
   "cell_type": "code",
   "execution_count": 4,
   "metadata": {},
   "outputs": [],
   "source": [
    "niftyvix = niftyvix.drop(niftyvix.columns[[5,6,7,8,9,10,11,12,13,14,15,16,17,18,19,20,21,22,23,24,46,47,48,49,50]], axis=1)"
   ]
  },
  {
   "cell_type": "code",
   "execution_count": 5,
   "metadata": {},
   "outputs": [
    {
     "name": "stdout",
     "output_type": "stream",
     "text": [
      "<class 'pandas.core.frame.DataFrame'>\n",
      "RangeIndex: 4016 entries, 0 to 4015\n",
      "Data columns (total 28 columns):\n",
      " #   Column         Non-Null Count  Dtype         \n",
      "---  ------         --------------  -----         \n",
      " 0   Date           4016 non-null   datetime64[ns]\n",
      " 1   vixPrice       4016 non-null   float64       \n",
      " 2   vixChange%     4016 non-null   float64       \n",
      " 3   niftyPrice     4016 non-null   float64       \n",
      " 4   niftyChange %  4016 non-null   float64       \n",
      " 5   DayOfWeek      4016 non-null   object        \n",
      " 6   month          4016 non-null   object        \n",
      " 7   Tuesday        4016 non-null   int64         \n",
      " 8   Wednesday      4016 non-null   int64         \n",
      " 9   Friday         4016 non-null   int64         \n",
      " 10  Monday         4016 non-null   int64         \n",
      " 11  Thursday       4016 non-null   int64         \n",
      " 12  Saturday       4016 non-null   int64         \n",
      " 13  Sunday         4016 non-null   int64         \n",
      " 14  March          4016 non-null   int64         \n",
      " 15  April          4016 non-null   int64         \n",
      " 16  May            4016 non-null   int64         \n",
      " 17  June           4016 non-null   int64         \n",
      " 18  July           4016 non-null   int64         \n",
      " 19  August         4016 non-null   int64         \n",
      " 20  September      4016 non-null   int64         \n",
      " 21  October        4016 non-null   int64         \n",
      " 22  November       4016 non-null   int64         \n",
      " 23  December       4016 non-null   int64         \n",
      " 24  January        4016 non-null   int64         \n",
      " 25  February       4016 non-null   int64         \n",
      " 26  cluster        4016 non-null   int64         \n",
      " 27  Month          4016 non-null   int64         \n",
      "dtypes: datetime64[ns](1), float64(4), int64(21), object(2)\n",
      "memory usage: 878.6+ KB\n"
     ]
    }
   ],
   "source": [
    "niftyvix.info()"
   ]
  },
  {
   "cell_type": "markdown",
   "metadata": {},
   "source": [
    "## Above dataframe will be used as a template to clean and process data"
   ]
  },
  {
   "cell_type": "markdown",
   "metadata": {},
   "source": [
    "> Dates must be in ascending order, hence DFs are being reciprocaled as necessary\n",
    "\n",
    "> All date formats are being matched with \"niftyvix\" DF\n",
    "\n",
    "> Copy of each orignal df is being made so that it stays safe\n",
    "\n",
    "> All dates are changed from object to datetime format"
   ]
  },
  {
   "cell_type": "markdown",
   "metadata": {},
   "source": [
    "---"
   ]
  },
  {
   "cell_type": "markdown",
   "metadata": {},
   "source": [
    "## **\"Gold\"** "
   ]
  },
  {
   "cell_type": "code",
   "execution_count": 6,
   "metadata": {},
   "outputs": [
    {
     "data": {
      "text/html": [
       "<div>\n",
       "<style scoped>\n",
       "    .dataframe tbody tr th:only-of-type {\n",
       "        vertical-align: middle;\n",
       "    }\n",
       "\n",
       "    .dataframe tbody tr th {\n",
       "        vertical-align: top;\n",
       "    }\n",
       "\n",
       "    .dataframe thead th {\n",
       "        text-align: right;\n",
       "    }\n",
       "</style>\n",
       "<table border=\"1\" class=\"dataframe\">\n",
       "  <thead>\n",
       "    <tr style=\"text-align: right;\">\n",
       "      <th></th>\n",
       "      <th>Date</th>\n",
       "      <th>GoldPrice</th>\n",
       "      <th>GoldOpen</th>\n",
       "      <th>GoldHigh</th>\n",
       "      <th>GoldLow</th>\n",
       "      <th>Vol.</th>\n",
       "      <th>GoldChange %</th>\n",
       "    </tr>\n",
       "  </thead>\n",
       "  <tbody>\n",
       "    <tr>\n",
       "      <th>0</th>\n",
       "      <td>27-08-2024</td>\n",
       "      <td>2,529.30</td>\n",
       "      <td>2,530.50</td>\n",
       "      <td>2,537.70</td>\n",
       "      <td>2,515.40</td>\n",
       "      <td>7.27K</td>\n",
       "      <td>-0.08%</td>\n",
       "    </tr>\n",
       "    <tr>\n",
       "      <th>1</th>\n",
       "      <td>26-08-2024</td>\n",
       "      <td>2,531.40</td>\n",
       "      <td>2,522.10</td>\n",
       "      <td>2,538.90</td>\n",
       "      <td>2,520.70</td>\n",
       "      <td>6.08K</td>\n",
       "      <td>0.35%</td>\n",
       "    </tr>\n",
       "    <tr>\n",
       "      <th>2</th>\n",
       "      <td>23-08-2024</td>\n",
       "      <td>2,522.60</td>\n",
       "      <td>2,497.20</td>\n",
       "      <td>2,530.40</td>\n",
       "      <td>2,497.00</td>\n",
       "      <td>6.90K</td>\n",
       "      <td>1.17%</td>\n",
       "    </tr>\n",
       "    <tr>\n",
       "      <th>3</th>\n",
       "      <td>22-08-2024</td>\n",
       "      <td>2,493.50</td>\n",
       "      <td>2,525.30</td>\n",
       "      <td>2,528.00</td>\n",
       "      <td>2,483.20</td>\n",
       "      <td>7.69K</td>\n",
       "      <td>-1.21%</td>\n",
       "    </tr>\n",
       "    <tr>\n",
       "      <th>4</th>\n",
       "      <td>21-08-2024</td>\n",
       "      <td>2,524.10</td>\n",
       "      <td>2,528.90</td>\n",
       "      <td>2,534.00</td>\n",
       "      <td>2,505.60</td>\n",
       "      <td>5.72K</td>\n",
       "      <td>-0.13%</td>\n",
       "    </tr>\n",
       "  </tbody>\n",
       "</table>\n",
       "</div>"
      ],
      "text/plain": [
       "         Date GoldPrice  GoldOpen  GoldHigh   GoldLow   Vol. GoldChange %\n",
       "0  27-08-2024  2,529.30  2,530.50  2,537.70  2,515.40  7.27K       -0.08%\n",
       "1  26-08-2024  2,531.40  2,522.10  2,538.90  2,520.70  6.08K        0.35%\n",
       "2  23-08-2024  2,522.60  2,497.20  2,530.40  2,497.00  6.90K        1.17%\n",
       "3  22-08-2024  2,493.50  2,525.30  2,528.00  2,483.20  7.69K       -1.21%\n",
       "4  21-08-2024  2,524.10  2,528.90  2,534.00  2,505.60  5.72K       -0.13%"
      ]
     },
     "execution_count": 6,
     "metadata": {},
     "output_type": "execute_result"
    }
   ],
   "source": [
    "df1 = pd.read_csv(\"MacroData/Gold.csv\")\n",
    "gold = df1.copy()\n",
    "gold.head()"
   ]
  },
  {
   "cell_type": "markdown",
   "metadata": {},
   "source": [
    "Dropping unecesssary columns"
   ]
  },
  {
   "cell_type": "code",
   "execution_count": 7,
   "metadata": {},
   "outputs": [
    {
     "data": {
      "text/html": [
       "<div>\n",
       "<style scoped>\n",
       "    .dataframe tbody tr th:only-of-type {\n",
       "        vertical-align: middle;\n",
       "    }\n",
       "\n",
       "    .dataframe tbody tr th {\n",
       "        vertical-align: top;\n",
       "    }\n",
       "\n",
       "    .dataframe thead th {\n",
       "        text-align: right;\n",
       "    }\n",
       "</style>\n",
       "<table border=\"1\" class=\"dataframe\">\n",
       "  <thead>\n",
       "    <tr style=\"text-align: right;\">\n",
       "      <th></th>\n",
       "      <th>Date</th>\n",
       "      <th>GoldPrice</th>\n",
       "      <th>GoldChange %</th>\n",
       "    </tr>\n",
       "  </thead>\n",
       "  <tbody>\n",
       "    <tr>\n",
       "      <th>0</th>\n",
       "      <td>27-08-2024</td>\n",
       "      <td>2,529.30</td>\n",
       "      <td>-0.08%</td>\n",
       "    </tr>\n",
       "    <tr>\n",
       "      <th>1</th>\n",
       "      <td>26-08-2024</td>\n",
       "      <td>2,531.40</td>\n",
       "      <td>0.35%</td>\n",
       "    </tr>\n",
       "    <tr>\n",
       "      <th>2</th>\n",
       "      <td>23-08-2024</td>\n",
       "      <td>2,522.60</td>\n",
       "      <td>1.17%</td>\n",
       "    </tr>\n",
       "    <tr>\n",
       "      <th>3</th>\n",
       "      <td>22-08-2024</td>\n",
       "      <td>2,493.50</td>\n",
       "      <td>-1.21%</td>\n",
       "    </tr>\n",
       "    <tr>\n",
       "      <th>4</th>\n",
       "      <td>21-08-2024</td>\n",
       "      <td>2,524.10</td>\n",
       "      <td>-0.13%</td>\n",
       "    </tr>\n",
       "  </tbody>\n",
       "</table>\n",
       "</div>"
      ],
      "text/plain": [
       "         Date GoldPrice GoldChange %\n",
       "0  27-08-2024  2,529.30       -0.08%\n",
       "1  26-08-2024  2,531.40        0.35%\n",
       "2  23-08-2024  2,522.60        1.17%\n",
       "3  22-08-2024  2,493.50       -1.21%\n",
       "4  21-08-2024  2,524.10       -0.13%"
      ]
     },
     "execution_count": 7,
     "metadata": {},
     "output_type": "execute_result"
    }
   ],
   "source": [
    "gold = gold[['Date','GoldPrice','GoldChange %']]\n",
    "gold.head()"
   ]
  },
  {
   "cell_type": "markdown",
   "metadata": {},
   "source": [
    "change columns to right data type"
   ]
  },
  {
   "cell_type": "code",
   "execution_count": 8,
   "metadata": {},
   "outputs": [
    {
     "name": "stdout",
     "output_type": "stream",
     "text": [
      "<class 'pandas.core.frame.DataFrame'>\n",
      "RangeIndex: 4202 entries, 0 to 4201\n",
      "Data columns (total 3 columns):\n",
      " #   Column        Non-Null Count  Dtype         \n",
      "---  ------        --------------  -----         \n",
      " 0   Date          4202 non-null   datetime64[ns]\n",
      " 1   GoldPrice     4202 non-null   float64       \n",
      " 2   GoldChange %  4202 non-null   float64       \n",
      "dtypes: datetime64[ns](1), float64(2)\n",
      "memory usage: 98.6 KB\n"
     ]
    },
    {
     "name": "stderr",
     "output_type": "stream",
     "text": [
      "C:\\Users\\Asus\\AppData\\Local\\Temp\\ipykernel_26920\\2921843524.py:1: UserWarning: Parsing dates in %d-%m-%Y format when dayfirst=False (the default) was specified. Pass `dayfirst=True` or specify a format to silence this warning.\n",
      "  gold['Date']=pd.to_datetime(gold['Date'])\n"
     ]
    },
    {
     "data": {
      "text/html": [
       "<div>\n",
       "<style scoped>\n",
       "    .dataframe tbody tr th:only-of-type {\n",
       "        vertical-align: middle;\n",
       "    }\n",
       "\n",
       "    .dataframe tbody tr th {\n",
       "        vertical-align: top;\n",
       "    }\n",
       "\n",
       "    .dataframe thead th {\n",
       "        text-align: right;\n",
       "    }\n",
       "</style>\n",
       "<table border=\"1\" class=\"dataframe\">\n",
       "  <thead>\n",
       "    <tr style=\"text-align: right;\">\n",
       "      <th></th>\n",
       "      <th>Date</th>\n",
       "      <th>GoldPrice</th>\n",
       "      <th>GoldChange %</th>\n",
       "    </tr>\n",
       "  </thead>\n",
       "  <tbody>\n",
       "    <tr>\n",
       "      <th>0</th>\n",
       "      <td>2024-08-27</td>\n",
       "      <td>2529.3</td>\n",
       "      <td>-0.08</td>\n",
       "    </tr>\n",
       "    <tr>\n",
       "      <th>1</th>\n",
       "      <td>2024-08-26</td>\n",
       "      <td>2531.4</td>\n",
       "      <td>0.35</td>\n",
       "    </tr>\n",
       "    <tr>\n",
       "      <th>2</th>\n",
       "      <td>2024-08-23</td>\n",
       "      <td>2522.6</td>\n",
       "      <td>1.17</td>\n",
       "    </tr>\n",
       "    <tr>\n",
       "      <th>3</th>\n",
       "      <td>2024-08-22</td>\n",
       "      <td>2493.5</td>\n",
       "      <td>-1.21</td>\n",
       "    </tr>\n",
       "    <tr>\n",
       "      <th>4</th>\n",
       "      <td>2024-08-21</td>\n",
       "      <td>2524.1</td>\n",
       "      <td>-0.13</td>\n",
       "    </tr>\n",
       "    <tr>\n",
       "      <th>...</th>\n",
       "      <td>...</td>\n",
       "      <td>...</td>\n",
       "      <td>...</td>\n",
       "    </tr>\n",
       "    <tr>\n",
       "      <th>4197</th>\n",
       "      <td>2008-03-10</td>\n",
       "      <td>971.8</td>\n",
       "      <td>-0.25</td>\n",
       "    </tr>\n",
       "    <tr>\n",
       "      <th>4198</th>\n",
       "      <td>2008-03-07</td>\n",
       "      <td>974.2</td>\n",
       "      <td>-0.30</td>\n",
       "    </tr>\n",
       "    <tr>\n",
       "      <th>4199</th>\n",
       "      <td>2008-03-06</td>\n",
       "      <td>977.1</td>\n",
       "      <td>-1.15</td>\n",
       "    </tr>\n",
       "    <tr>\n",
       "      <th>4200</th>\n",
       "      <td>2008-03-05</td>\n",
       "      <td>988.5</td>\n",
       "      <td>2.30</td>\n",
       "    </tr>\n",
       "    <tr>\n",
       "      <th>4201</th>\n",
       "      <td>2008-03-04</td>\n",
       "      <td>966.3</td>\n",
       "      <td>-1.82</td>\n",
       "    </tr>\n",
       "  </tbody>\n",
       "</table>\n",
       "<p>4202 rows × 3 columns</p>\n",
       "</div>"
      ],
      "text/plain": [
       "           Date  GoldPrice  GoldChange %\n",
       "0    2024-08-27     2529.3         -0.08\n",
       "1    2024-08-26     2531.4          0.35\n",
       "2    2024-08-23     2522.6          1.17\n",
       "3    2024-08-22     2493.5         -1.21\n",
       "4    2024-08-21     2524.1         -0.13\n",
       "...         ...        ...           ...\n",
       "4197 2008-03-10      971.8         -0.25\n",
       "4198 2008-03-07      974.2         -0.30\n",
       "4199 2008-03-06      977.1         -1.15\n",
       "4200 2008-03-05      988.5          2.30\n",
       "4201 2008-03-04      966.3         -1.82\n",
       "\n",
       "[4202 rows x 3 columns]"
      ]
     },
     "execution_count": 8,
     "metadata": {},
     "output_type": "execute_result"
    }
   ],
   "source": [
    "gold['Date']=pd.to_datetime(gold['Date'])\n",
    "\n",
    "gold['GoldPrice']=gold['GoldPrice'].astype(str).str.replace(',','')\n",
    "gold['GoldPrice']=gold['GoldPrice'].astype(float)\n",
    "\n",
    "gold['GoldChange %']=gold['GoldChange %'].astype(str).str.replace(\"%\",\"\")\n",
    "gold['GoldChange %']=gold['GoldChange %'].astype(float)\n",
    "\n",
    "gold['Date'] =  pd.to_datetime(gold['Date'])\n",
    "\n",
    "gold.info()\n",
    "gold"
   ]
  },
  {
   "cell_type": "markdown",
   "metadata": {},
   "source": [
    "Date i.e, index is not in accending order so we will correct it "
   ]
  },
  {
   "cell_type": "code",
   "execution_count": 9,
   "metadata": {},
   "outputs": [
    {
     "data": {
      "text/html": [
       "<div>\n",
       "<style scoped>\n",
       "    .dataframe tbody tr th:only-of-type {\n",
       "        vertical-align: middle;\n",
       "    }\n",
       "\n",
       "    .dataframe tbody tr th {\n",
       "        vertical-align: top;\n",
       "    }\n",
       "\n",
       "    .dataframe thead th {\n",
       "        text-align: right;\n",
       "    }\n",
       "</style>\n",
       "<table border=\"1\" class=\"dataframe\">\n",
       "  <thead>\n",
       "    <tr style=\"text-align: right;\">\n",
       "      <th></th>\n",
       "      <th>Date</th>\n",
       "      <th>GoldPrice</th>\n",
       "      <th>GoldChange %</th>\n",
       "    </tr>\n",
       "  </thead>\n",
       "  <tbody>\n",
       "    <tr>\n",
       "      <th>0</th>\n",
       "      <td>2008-03-04</td>\n",
       "      <td>966.3</td>\n",
       "      <td>-1.82</td>\n",
       "    </tr>\n",
       "    <tr>\n",
       "      <th>1</th>\n",
       "      <td>2008-03-05</td>\n",
       "      <td>988.5</td>\n",
       "      <td>2.30</td>\n",
       "    </tr>\n",
       "    <tr>\n",
       "      <th>2</th>\n",
       "      <td>2008-03-06</td>\n",
       "      <td>977.1</td>\n",
       "      <td>-1.15</td>\n",
       "    </tr>\n",
       "    <tr>\n",
       "      <th>3</th>\n",
       "      <td>2008-03-07</td>\n",
       "      <td>974.2</td>\n",
       "      <td>-0.30</td>\n",
       "    </tr>\n",
       "    <tr>\n",
       "      <th>4</th>\n",
       "      <td>2008-03-10</td>\n",
       "      <td>971.8</td>\n",
       "      <td>-0.25</td>\n",
       "    </tr>\n",
       "  </tbody>\n",
       "</table>\n",
       "</div>"
      ],
      "text/plain": [
       "        Date  GoldPrice  GoldChange %\n",
       "0 2008-03-04      966.3         -1.82\n",
       "1 2008-03-05      988.5          2.30\n",
       "2 2008-03-06      977.1         -1.15\n",
       "3 2008-03-07      974.2         -0.30\n",
       "4 2008-03-10      971.8         -0.25"
      ]
     },
     "execution_count": 9,
     "metadata": {},
     "output_type": "execute_result"
    }
   ],
   "source": [
    "gold = gold.iloc[::-1].reset_index(drop=True)\n",
    "gold.head()"
   ]
  },
  {
   "cell_type": "markdown",
   "metadata": {},
   "source": [
    "---"
   ]
  },
  {
   "cell_type": "markdown",
   "metadata": {},
   "source": [
    "## **Crude Oil**"
   ]
  },
  {
   "cell_type": "code",
   "execution_count": 10,
   "metadata": {},
   "outputs": [
    {
     "data": {
      "text/html": [
       "<div>\n",
       "<style scoped>\n",
       "    .dataframe tbody tr th:only-of-type {\n",
       "        vertical-align: middle;\n",
       "    }\n",
       "\n",
       "    .dataframe tbody tr th {\n",
       "        vertical-align: top;\n",
       "    }\n",
       "\n",
       "    .dataframe thead th {\n",
       "        text-align: right;\n",
       "    }\n",
       "</style>\n",
       "<table border=\"1\" class=\"dataframe\">\n",
       "  <thead>\n",
       "    <tr style=\"text-align: right;\">\n",
       "      <th></th>\n",
       "      <th>Date</th>\n",
       "      <th>CrudePrice</th>\n",
       "      <th>CrudeOpen</th>\n",
       "      <th>CrudeHigh</th>\n",
       "      <th>CrudeLow</th>\n",
       "      <th>Vol.</th>\n",
       "      <th>CrudeChange %</th>\n",
       "    </tr>\n",
       "  </thead>\n",
       "  <tbody>\n",
       "    <tr>\n",
       "      <th>0</th>\n",
       "      <td>03/04/2008</td>\n",
       "      <td>99.52</td>\n",
       "      <td>102.35</td>\n",
       "      <td>103.33</td>\n",
       "      <td>98.87</td>\n",
       "      <td>366.72K</td>\n",
       "      <td>-2.86%</td>\n",
       "    </tr>\n",
       "    <tr>\n",
       "      <th>1</th>\n",
       "      <td>03/05/2008</td>\n",
       "      <td>104.52</td>\n",
       "      <td>99.88</td>\n",
       "      <td>104.95</td>\n",
       "      <td>99.55</td>\n",
       "      <td>414.31K</td>\n",
       "      <td>5.02%</td>\n",
       "    </tr>\n",
       "    <tr>\n",
       "      <th>2</th>\n",
       "      <td>03/06/2008</td>\n",
       "      <td>105.47</td>\n",
       "      <td>104.64</td>\n",
       "      <td>105.97</td>\n",
       "      <td>102.85</td>\n",
       "      <td>337.77K</td>\n",
       "      <td>0.91%</td>\n",
       "    </tr>\n",
       "    <tr>\n",
       "      <th>3</th>\n",
       "      <td>03/07/2008</td>\n",
       "      <td>105.15</td>\n",
       "      <td>105.58</td>\n",
       "      <td>106.54</td>\n",
       "      <td>103.91</td>\n",
       "      <td>292.40K</td>\n",
       "      <td>-0.30%</td>\n",
       "    </tr>\n",
       "    <tr>\n",
       "      <th>4</th>\n",
       "      <td>03/10/2008</td>\n",
       "      <td>107.90</td>\n",
       "      <td>105.25</td>\n",
       "      <td>108.21</td>\n",
       "      <td>104.08</td>\n",
       "      <td>340.55K</td>\n",
       "      <td>2.62%</td>\n",
       "    </tr>\n",
       "  </tbody>\n",
       "</table>\n",
       "</div>"
      ],
      "text/plain": [
       "         Date  CrudePrice  CrudeOpen  CrudeHigh  CrudeLow     Vol.  \\\n",
       "0  03/04/2008       99.52     102.35     103.33     98.87  366.72K   \n",
       "1  03/05/2008      104.52      99.88     104.95     99.55  414.31K   \n",
       "2  03/06/2008      105.47     104.64     105.97    102.85  337.77K   \n",
       "3  03/07/2008      105.15     105.58     106.54    103.91  292.40K   \n",
       "4  03/10/2008      107.90     105.25     108.21    104.08  340.55K   \n",
       "\n",
       "  CrudeChange %  \n",
       "0        -2.86%  \n",
       "1         5.02%  \n",
       "2         0.91%  \n",
       "3        -0.30%  \n",
       "4         2.62%  "
      ]
     },
     "execution_count": 10,
     "metadata": {},
     "output_type": "execute_result"
    }
   ],
   "source": [
    "df2 = pd.read_csv(\"MacroData/Crudeoil.csv\")\n",
    "crude = df2.copy()\n",
    "crude.head()"
   ]
  },
  {
   "cell_type": "markdown",
   "metadata": {},
   "source": [
    "Dropping uncessecary columns"
   ]
  },
  {
   "cell_type": "code",
   "execution_count": 11,
   "metadata": {},
   "outputs": [],
   "source": [
    "crude = crude[[\"Date\",\"CrudePrice\",\"CrudeChange %\"]]"
   ]
  },
  {
   "cell_type": "markdown",
   "metadata": {},
   "source": [
    "Changing columns to right datatype"
   ]
  },
  {
   "cell_type": "code",
   "execution_count": 12,
   "metadata": {},
   "outputs": [
    {
     "name": "stdout",
     "output_type": "stream",
     "text": [
      "<class 'pandas.core.frame.DataFrame'>\n",
      "RangeIndex: 4281 entries, 0 to 4280\n",
      "Data columns (total 3 columns):\n",
      " #   Column         Non-Null Count  Dtype         \n",
      "---  ------         --------------  -----         \n",
      " 0   Date           4281 non-null   datetime64[ns]\n",
      " 1   CrudePrice     4281 non-null   float64       \n",
      " 2   CrudeChange %  4281 non-null   float64       \n",
      "dtypes: datetime64[ns](1), float64(2)\n",
      "memory usage: 100.5 KB\n"
     ]
    },
    {
     "data": {
      "text/html": [
       "<div>\n",
       "<style scoped>\n",
       "    .dataframe tbody tr th:only-of-type {\n",
       "        vertical-align: middle;\n",
       "    }\n",
       "\n",
       "    .dataframe tbody tr th {\n",
       "        vertical-align: top;\n",
       "    }\n",
       "\n",
       "    .dataframe thead th {\n",
       "        text-align: right;\n",
       "    }\n",
       "</style>\n",
       "<table border=\"1\" class=\"dataframe\">\n",
       "  <thead>\n",
       "    <tr style=\"text-align: right;\">\n",
       "      <th></th>\n",
       "      <th>Date</th>\n",
       "      <th>CrudePrice</th>\n",
       "      <th>CrudeChange %</th>\n",
       "    </tr>\n",
       "  </thead>\n",
       "  <tbody>\n",
       "    <tr>\n",
       "      <th>0</th>\n",
       "      <td>2008-03-04</td>\n",
       "      <td>99.52</td>\n",
       "      <td>-2.86</td>\n",
       "    </tr>\n",
       "    <tr>\n",
       "      <th>1</th>\n",
       "      <td>2008-03-05</td>\n",
       "      <td>104.52</td>\n",
       "      <td>5.02</td>\n",
       "    </tr>\n",
       "    <tr>\n",
       "      <th>2</th>\n",
       "      <td>2008-03-06</td>\n",
       "      <td>105.47</td>\n",
       "      <td>0.91</td>\n",
       "    </tr>\n",
       "    <tr>\n",
       "      <th>3</th>\n",
       "      <td>2008-03-07</td>\n",
       "      <td>105.15</td>\n",
       "      <td>-0.30</td>\n",
       "    </tr>\n",
       "    <tr>\n",
       "      <th>4</th>\n",
       "      <td>2008-03-10</td>\n",
       "      <td>107.90</td>\n",
       "      <td>2.62</td>\n",
       "    </tr>\n",
       "    <tr>\n",
       "      <th>...</th>\n",
       "      <td>...</td>\n",
       "      <td>...</td>\n",
       "      <td>...</td>\n",
       "    </tr>\n",
       "    <tr>\n",
       "      <th>4276</th>\n",
       "      <td>2024-08-21</td>\n",
       "      <td>71.30</td>\n",
       "      <td>-2.56</td>\n",
       "    </tr>\n",
       "    <tr>\n",
       "      <th>4277</th>\n",
       "      <td>2024-08-22</td>\n",
       "      <td>72.28</td>\n",
       "      <td>1.37</td>\n",
       "    </tr>\n",
       "    <tr>\n",
       "      <th>4278</th>\n",
       "      <td>2024-08-23</td>\n",
       "      <td>73.93</td>\n",
       "      <td>2.28</td>\n",
       "    </tr>\n",
       "    <tr>\n",
       "      <th>4279</th>\n",
       "      <td>2024-08-26</td>\n",
       "      <td>76.17</td>\n",
       "      <td>3.03</td>\n",
       "    </tr>\n",
       "    <tr>\n",
       "      <th>4280</th>\n",
       "      <td>2024-08-27</td>\n",
       "      <td>74.46</td>\n",
       "      <td>-2.24</td>\n",
       "    </tr>\n",
       "  </tbody>\n",
       "</table>\n",
       "<p>4281 rows × 3 columns</p>\n",
       "</div>"
      ],
      "text/plain": [
       "           Date  CrudePrice  CrudeChange %\n",
       "0    2008-03-04       99.52          -2.86\n",
       "1    2008-03-05      104.52           5.02\n",
       "2    2008-03-06      105.47           0.91\n",
       "3    2008-03-07      105.15          -0.30\n",
       "4    2008-03-10      107.90           2.62\n",
       "...         ...         ...            ...\n",
       "4276 2024-08-21       71.30          -2.56\n",
       "4277 2024-08-22       72.28           1.37\n",
       "4278 2024-08-23       73.93           2.28\n",
       "4279 2024-08-26       76.17           3.03\n",
       "4280 2024-08-27       74.46          -2.24\n",
       "\n",
       "[4281 rows x 3 columns]"
      ]
     },
     "execution_count": 12,
     "metadata": {},
     "output_type": "execute_result"
    }
   ],
   "source": [
    "crude['Date']=pd.to_datetime(crude['Date'])\n",
    "\n",
    "crude['CrudePrice']=crude['CrudePrice'].astype(str).str.replace(',','')\n",
    "crude['CrudePrice']=crude['CrudePrice'].astype(float)\n",
    "\n",
    "crude['CrudeChange %']=crude['CrudeChange %'].astype(str).str.replace(\"%\",\"\")\n",
    "crude['CrudeChange %']=crude['CrudeChange %'].astype(float)\n",
    "\n",
    "crude.info()\n",
    "crude"
   ]
  },
  {
   "cell_type": "markdown",
   "metadata": {},
   "source": [
    "---"
   ]
  },
  {
   "cell_type": "markdown",
   "metadata": {},
   "source": [
    "## **USDINR**"
   ]
  },
  {
   "cell_type": "code",
   "execution_count": 13,
   "metadata": {},
   "outputs": [
    {
     "data": {
      "text/html": [
       "<div>\n",
       "<style scoped>\n",
       "    .dataframe tbody tr th:only-of-type {\n",
       "        vertical-align: middle;\n",
       "    }\n",
       "\n",
       "    .dataframe tbody tr th {\n",
       "        vertical-align: top;\n",
       "    }\n",
       "\n",
       "    .dataframe thead th {\n",
       "        text-align: right;\n",
       "    }\n",
       "</style>\n",
       "<table border=\"1\" class=\"dataframe\">\n",
       "  <thead>\n",
       "    <tr style=\"text-align: right;\">\n",
       "      <th></th>\n",
       "      <th>Date</th>\n",
       "      <th>inrPrice</th>\n",
       "      <th>inrOpen</th>\n",
       "      <th>inrHigh</th>\n",
       "      <th>inrLow</th>\n",
       "      <th>Vol.</th>\n",
       "      <th>inrChange %</th>\n",
       "    </tr>\n",
       "  </thead>\n",
       "  <tbody>\n",
       "    <tr>\n",
       "      <th>0</th>\n",
       "      <td>08/27/2024</td>\n",
       "      <td>83.910</td>\n",
       "      <td>83.865</td>\n",
       "      <td>83.950</td>\n",
       "      <td>83.865</td>\n",
       "      <td>NaN</td>\n",
       "      <td>0.08%</td>\n",
       "    </tr>\n",
       "    <tr>\n",
       "      <th>1</th>\n",
       "      <td>08/26/2024</td>\n",
       "      <td>83.840</td>\n",
       "      <td>83.801</td>\n",
       "      <td>83.910</td>\n",
       "      <td>83.776</td>\n",
       "      <td>NaN</td>\n",
       "      <td>0.04%</td>\n",
       "    </tr>\n",
       "    <tr>\n",
       "      <th>2</th>\n",
       "      <td>08/23/2024</td>\n",
       "      <td>83.809</td>\n",
       "      <td>83.913</td>\n",
       "      <td>83.933</td>\n",
       "      <td>83.778</td>\n",
       "      <td>NaN</td>\n",
       "      <td>-0.14%</td>\n",
       "    </tr>\n",
       "    <tr>\n",
       "      <th>3</th>\n",
       "      <td>08/22/2024</td>\n",
       "      <td>83.930</td>\n",
       "      <td>83.895</td>\n",
       "      <td>83.965</td>\n",
       "      <td>83.876</td>\n",
       "      <td>NaN</td>\n",
       "      <td>0.07%</td>\n",
       "    </tr>\n",
       "    <tr>\n",
       "      <th>4</th>\n",
       "      <td>08/21/2024</td>\n",
       "      <td>83.870</td>\n",
       "      <td>83.791</td>\n",
       "      <td>83.935</td>\n",
       "      <td>83.726</td>\n",
       "      <td>NaN</td>\n",
       "      <td>0.14%</td>\n",
       "    </tr>\n",
       "  </tbody>\n",
       "</table>\n",
       "</div>"
      ],
      "text/plain": [
       "         Date  inrPrice  inrOpen  inrHigh  inrLow  Vol. inrChange %\n",
       "0  08/27/2024    83.910   83.865   83.950  83.865   NaN       0.08%\n",
       "1  08/26/2024    83.840   83.801   83.910  83.776   NaN       0.04%\n",
       "2  08/23/2024    83.809   83.913   83.933  83.778   NaN      -0.14%\n",
       "3  08/22/2024    83.930   83.895   83.965  83.876   NaN       0.07%\n",
       "4  08/21/2024    83.870   83.791   83.935  83.726   NaN       0.14%"
      ]
     },
     "execution_count": 13,
     "metadata": {},
     "output_type": "execute_result"
    }
   ],
   "source": [
    "df3 = pd.read_csv(\"MacroData/usdinr.csv\")\n",
    "usdinr = df3.copy()\n",
    "usdinr.head()"
   ]
  },
  {
   "cell_type": "markdown",
   "metadata": {},
   "source": [
    "Dropping uncessecary columns"
   ]
  },
  {
   "cell_type": "code",
   "execution_count": 14,
   "metadata": {},
   "outputs": [],
   "source": [
    "usdinr = usdinr[[\"Date\",\"inrPrice\",\"inrChange %\"]]"
   ]
  },
  {
   "cell_type": "markdown",
   "metadata": {},
   "source": [
    "Changing columns to right datatype"
   ]
  },
  {
   "cell_type": "code",
   "execution_count": 15,
   "metadata": {},
   "outputs": [
    {
     "name": "stdout",
     "output_type": "stream",
     "text": [
      "<class 'pandas.core.frame.DataFrame'>\n",
      "RangeIndex: 4301 entries, 0 to 4300\n",
      "Data columns (total 3 columns):\n",
      " #   Column       Non-Null Count  Dtype         \n",
      "---  ------       --------------  -----         \n",
      " 0   Date         4301 non-null   datetime64[ns]\n",
      " 1   inrPrice     4301 non-null   float64       \n",
      " 2   inrChange %  4301 non-null   float64       \n",
      "dtypes: datetime64[ns](1), float64(2)\n",
      "memory usage: 100.9 KB\n"
     ]
    },
    {
     "data": {
      "text/html": [
       "<div>\n",
       "<style scoped>\n",
       "    .dataframe tbody tr th:only-of-type {\n",
       "        vertical-align: middle;\n",
       "    }\n",
       "\n",
       "    .dataframe tbody tr th {\n",
       "        vertical-align: top;\n",
       "    }\n",
       "\n",
       "    .dataframe thead th {\n",
       "        text-align: right;\n",
       "    }\n",
       "</style>\n",
       "<table border=\"1\" class=\"dataframe\">\n",
       "  <thead>\n",
       "    <tr style=\"text-align: right;\">\n",
       "      <th></th>\n",
       "      <th>Date</th>\n",
       "      <th>inrPrice</th>\n",
       "      <th>inrChange %</th>\n",
       "    </tr>\n",
       "  </thead>\n",
       "  <tbody>\n",
       "    <tr>\n",
       "      <th>0</th>\n",
       "      <td>2024-08-27</td>\n",
       "      <td>83.910</td>\n",
       "      <td>0.08</td>\n",
       "    </tr>\n",
       "    <tr>\n",
       "      <th>1</th>\n",
       "      <td>2024-08-26</td>\n",
       "      <td>83.840</td>\n",
       "      <td>0.04</td>\n",
       "    </tr>\n",
       "    <tr>\n",
       "      <th>2</th>\n",
       "      <td>2024-08-23</td>\n",
       "      <td>83.809</td>\n",
       "      <td>-0.14</td>\n",
       "    </tr>\n",
       "    <tr>\n",
       "      <th>3</th>\n",
       "      <td>2024-08-22</td>\n",
       "      <td>83.930</td>\n",
       "      <td>0.07</td>\n",
       "    </tr>\n",
       "    <tr>\n",
       "      <th>4</th>\n",
       "      <td>2024-08-21</td>\n",
       "      <td>83.870</td>\n",
       "      <td>0.14</td>\n",
       "    </tr>\n",
       "    <tr>\n",
       "      <th>...</th>\n",
       "      <td>...</td>\n",
       "      <td>...</td>\n",
       "      <td>...</td>\n",
       "    </tr>\n",
       "    <tr>\n",
       "      <th>4296</th>\n",
       "      <td>2008-03-10</td>\n",
       "      <td>40.400</td>\n",
       "      <td>-0.07</td>\n",
       "    </tr>\n",
       "    <tr>\n",
       "      <th>4297</th>\n",
       "      <td>2008-03-07</td>\n",
       "      <td>40.430</td>\n",
       "      <td>0.72</td>\n",
       "    </tr>\n",
       "    <tr>\n",
       "      <th>4298</th>\n",
       "      <td>2008-03-06</td>\n",
       "      <td>40.140</td>\n",
       "      <td>-0.15</td>\n",
       "    </tr>\n",
       "    <tr>\n",
       "      <th>4299</th>\n",
       "      <td>2008-03-05</td>\n",
       "      <td>40.200</td>\n",
       "      <td>-0.05</td>\n",
       "    </tr>\n",
       "    <tr>\n",
       "      <th>4300</th>\n",
       "      <td>2008-03-04</td>\n",
       "      <td>40.220</td>\n",
       "      <td>-0.16</td>\n",
       "    </tr>\n",
       "  </tbody>\n",
       "</table>\n",
       "<p>4301 rows × 3 columns</p>\n",
       "</div>"
      ],
      "text/plain": [
       "           Date  inrPrice  inrChange %\n",
       "0    2024-08-27    83.910         0.08\n",
       "1    2024-08-26    83.840         0.04\n",
       "2    2024-08-23    83.809        -0.14\n",
       "3    2024-08-22    83.930         0.07\n",
       "4    2024-08-21    83.870         0.14\n",
       "...         ...       ...          ...\n",
       "4296 2008-03-10    40.400        -0.07\n",
       "4297 2008-03-07    40.430         0.72\n",
       "4298 2008-03-06    40.140        -0.15\n",
       "4299 2008-03-05    40.200        -0.05\n",
       "4300 2008-03-04    40.220        -0.16\n",
       "\n",
       "[4301 rows x 3 columns]"
      ]
     },
     "execution_count": 15,
     "metadata": {},
     "output_type": "execute_result"
    }
   ],
   "source": [
    "usdinr['Date']=pd.to_datetime(usdinr['Date'])\n",
    "\n",
    "usdinr['inrPrice']=usdinr['inrPrice'].astype(str).str.replace(',','')\n",
    "usdinr['inrPrice']=usdinr['inrPrice'].astype(float)\n",
    "\n",
    "usdinr['inrChange %']=usdinr['inrChange %'].astype(str).str.replace(\"%\",\"\")\n",
    "usdinr['inrChange %']=usdinr['inrChange %'].astype(float)\n",
    "\n",
    "usdinr.info()\n",
    "usdinr"
   ]
  },
  {
   "cell_type": "markdown",
   "metadata": {},
   "source": [
    "Date is not accending"
   ]
  },
  {
   "cell_type": "code",
   "execution_count": 16,
   "metadata": {},
   "outputs": [
    {
     "data": {
      "text/html": [
       "<div>\n",
       "<style scoped>\n",
       "    .dataframe tbody tr th:only-of-type {\n",
       "        vertical-align: middle;\n",
       "    }\n",
       "\n",
       "    .dataframe tbody tr th {\n",
       "        vertical-align: top;\n",
       "    }\n",
       "\n",
       "    .dataframe thead th {\n",
       "        text-align: right;\n",
       "    }\n",
       "</style>\n",
       "<table border=\"1\" class=\"dataframe\">\n",
       "  <thead>\n",
       "    <tr style=\"text-align: right;\">\n",
       "      <th></th>\n",
       "      <th>Date</th>\n",
       "      <th>inrPrice</th>\n",
       "      <th>inrChange %</th>\n",
       "    </tr>\n",
       "  </thead>\n",
       "  <tbody>\n",
       "    <tr>\n",
       "      <th>0</th>\n",
       "      <td>2008-03-04</td>\n",
       "      <td>40.22</td>\n",
       "      <td>-0.16</td>\n",
       "    </tr>\n",
       "    <tr>\n",
       "      <th>1</th>\n",
       "      <td>2008-03-05</td>\n",
       "      <td>40.20</td>\n",
       "      <td>-0.05</td>\n",
       "    </tr>\n",
       "    <tr>\n",
       "      <th>2</th>\n",
       "      <td>2008-03-06</td>\n",
       "      <td>40.14</td>\n",
       "      <td>-0.15</td>\n",
       "    </tr>\n",
       "    <tr>\n",
       "      <th>3</th>\n",
       "      <td>2008-03-07</td>\n",
       "      <td>40.43</td>\n",
       "      <td>0.72</td>\n",
       "    </tr>\n",
       "    <tr>\n",
       "      <th>4</th>\n",
       "      <td>2008-03-10</td>\n",
       "      <td>40.40</td>\n",
       "      <td>-0.07</td>\n",
       "    </tr>\n",
       "  </tbody>\n",
       "</table>\n",
       "</div>"
      ],
      "text/plain": [
       "        Date  inrPrice  inrChange %\n",
       "0 2008-03-04     40.22        -0.16\n",
       "1 2008-03-05     40.20        -0.05\n",
       "2 2008-03-06     40.14        -0.15\n",
       "3 2008-03-07     40.43         0.72\n",
       "4 2008-03-10     40.40        -0.07"
      ]
     },
     "execution_count": 16,
     "metadata": {},
     "output_type": "execute_result"
    }
   ],
   "source": [
    "usdinr = usdinr.iloc[::-1].reset_index(drop=True)\n",
    "usdinr.head()"
   ]
  },
  {
   "cell_type": "markdown",
   "metadata": {},
   "source": [
    "---"
   ]
  },
  {
   "cell_type": "markdown",
   "metadata": {},
   "source": [
    "## **\"US Dollar Index\"**"
   ]
  },
  {
   "cell_type": "code",
   "execution_count": 17,
   "metadata": {},
   "outputs": [
    {
     "data": {
      "text/html": [
       "<div>\n",
       "<style scoped>\n",
       "    .dataframe tbody tr th:only-of-type {\n",
       "        vertical-align: middle;\n",
       "    }\n",
       "\n",
       "    .dataframe tbody tr th {\n",
       "        vertical-align: top;\n",
       "    }\n",
       "\n",
       "    .dataframe thead th {\n",
       "        text-align: right;\n",
       "    }\n",
       "</style>\n",
       "<table border=\"1\" class=\"dataframe\">\n",
       "  <thead>\n",
       "    <tr style=\"text-align: right;\">\n",
       "      <th></th>\n",
       "      <th>Date</th>\n",
       "      <th>diPrice</th>\n",
       "      <th>diOpen</th>\n",
       "      <th>diHigh</th>\n",
       "      <th>diLow</th>\n",
       "      <th>Vol.</th>\n",
       "      <th>diChange %</th>\n",
       "    </tr>\n",
       "  </thead>\n",
       "  <tbody>\n",
       "    <tr>\n",
       "      <th>0</th>\n",
       "      <td>27-08-2024</td>\n",
       "      <td>100.55</td>\n",
       "      <td>100.82</td>\n",
       "      <td>100.93</td>\n",
       "      <td>100.51</td>\n",
       "      <td>NaN</td>\n",
       "      <td>-0.30%</td>\n",
       "    </tr>\n",
       "    <tr>\n",
       "      <th>1</th>\n",
       "      <td>26-08-2024</td>\n",
       "      <td>100.85</td>\n",
       "      <td>100.68</td>\n",
       "      <td>100.92</td>\n",
       "      <td>100.53</td>\n",
       "      <td>NaN</td>\n",
       "      <td>0.13%</td>\n",
       "    </tr>\n",
       "    <tr>\n",
       "      <th>2</th>\n",
       "      <td>23-08-2024</td>\n",
       "      <td>100.72</td>\n",
       "      <td>101.46</td>\n",
       "      <td>101.55</td>\n",
       "      <td>100.60</td>\n",
       "      <td>NaN</td>\n",
       "      <td>-0.78%</td>\n",
       "    </tr>\n",
       "    <tr>\n",
       "      <th>3</th>\n",
       "      <td>22-08-2024</td>\n",
       "      <td>101.51</td>\n",
       "      <td>101.13</td>\n",
       "      <td>101.63</td>\n",
       "      <td>101.09</td>\n",
       "      <td>NaN</td>\n",
       "      <td>0.46%</td>\n",
       "    </tr>\n",
       "    <tr>\n",
       "      <th>4</th>\n",
       "      <td>21-08-2024</td>\n",
       "      <td>101.04</td>\n",
       "      <td>101.35</td>\n",
       "      <td>101.63</td>\n",
       "      <td>100.92</td>\n",
       "      <td>NaN</td>\n",
       "      <td>-0.40%</td>\n",
       "    </tr>\n",
       "  </tbody>\n",
       "</table>\n",
       "</div>"
      ],
      "text/plain": [
       "         Date  diPrice  diOpen  diHigh   diLow  Vol. diChange %\n",
       "0  27-08-2024   100.55  100.82  100.93  100.51   NaN     -0.30%\n",
       "1  26-08-2024   100.85  100.68  100.92  100.53   NaN      0.13%\n",
       "2  23-08-2024   100.72  101.46  101.55  100.60   NaN     -0.78%\n",
       "3  22-08-2024   101.51  101.13  101.63  101.09   NaN      0.46%\n",
       "4  21-08-2024   101.04  101.35  101.63  100.92   NaN     -0.40%"
      ]
     },
     "execution_count": 17,
     "metadata": {},
     "output_type": "execute_result"
    }
   ],
   "source": [
    "df4 = pd.read_csv(\"MacroData/USdollarindex.csv\")\n",
    "usdindex = df4.copy()\n",
    "usdindex.head()"
   ]
  },
  {
   "cell_type": "markdown",
   "metadata": {},
   "source": [
    "Dropping uncessecary columns"
   ]
  },
  {
   "cell_type": "code",
   "execution_count": 18,
   "metadata": {},
   "outputs": [],
   "source": [
    "usdindex = usdindex[[\"Date\",\"diPrice\",\"diChange %\"]]"
   ]
  },
  {
   "cell_type": "markdown",
   "metadata": {},
   "source": [
    "Changing columns to right datatype"
   ]
  },
  {
   "cell_type": "code",
   "execution_count": 19,
   "metadata": {},
   "outputs": [
    {
     "name": "stdout",
     "output_type": "stream",
     "text": [
      "<class 'pandas.core.frame.DataFrame'>\n",
      "RangeIndex: 4298 entries, 0 to 4297\n",
      "Data columns (total 3 columns):\n",
      " #   Column      Non-Null Count  Dtype         \n",
      "---  ------      --------------  -----         \n",
      " 0   Date        4298 non-null   datetime64[ns]\n",
      " 1   diPrice     4298 non-null   float64       \n",
      " 2   diChange %  4298 non-null   float64       \n",
      "dtypes: datetime64[ns](1), float64(2)\n",
      "memory usage: 100.9 KB\n"
     ]
    },
    {
     "name": "stderr",
     "output_type": "stream",
     "text": [
      "C:\\Users\\Asus\\AppData\\Local\\Temp\\ipykernel_26920\\2305087138.py:1: UserWarning: Parsing dates in %d-%m-%Y format when dayfirst=False (the default) was specified. Pass `dayfirst=True` or specify a format to silence this warning.\n",
      "  usdindex['Date']=pd.to_datetime(usdindex['Date'])\n"
     ]
    },
    {
     "data": {
      "text/html": [
       "<div>\n",
       "<style scoped>\n",
       "    .dataframe tbody tr th:only-of-type {\n",
       "        vertical-align: middle;\n",
       "    }\n",
       "\n",
       "    .dataframe tbody tr th {\n",
       "        vertical-align: top;\n",
       "    }\n",
       "\n",
       "    .dataframe thead th {\n",
       "        text-align: right;\n",
       "    }\n",
       "</style>\n",
       "<table border=\"1\" class=\"dataframe\">\n",
       "  <thead>\n",
       "    <tr style=\"text-align: right;\">\n",
       "      <th></th>\n",
       "      <th>Date</th>\n",
       "      <th>diPrice</th>\n",
       "      <th>diChange %</th>\n",
       "    </tr>\n",
       "  </thead>\n",
       "  <tbody>\n",
       "    <tr>\n",
       "      <th>0</th>\n",
       "      <td>2024-08-27</td>\n",
       "      <td>100.55</td>\n",
       "      <td>-0.30</td>\n",
       "    </tr>\n",
       "    <tr>\n",
       "      <th>1</th>\n",
       "      <td>2024-08-26</td>\n",
       "      <td>100.85</td>\n",
       "      <td>0.13</td>\n",
       "    </tr>\n",
       "    <tr>\n",
       "      <th>2</th>\n",
       "      <td>2024-08-23</td>\n",
       "      <td>100.72</td>\n",
       "      <td>-0.78</td>\n",
       "    </tr>\n",
       "    <tr>\n",
       "      <th>3</th>\n",
       "      <td>2024-08-22</td>\n",
       "      <td>101.51</td>\n",
       "      <td>0.46</td>\n",
       "    </tr>\n",
       "    <tr>\n",
       "      <th>4</th>\n",
       "      <td>2024-08-21</td>\n",
       "      <td>101.04</td>\n",
       "      <td>-0.40</td>\n",
       "    </tr>\n",
       "    <tr>\n",
       "      <th>...</th>\n",
       "      <td>...</td>\n",
       "      <td>...</td>\n",
       "      <td>...</td>\n",
       "    </tr>\n",
       "    <tr>\n",
       "      <th>4293</th>\n",
       "      <td>2008-03-10</td>\n",
       "      <td>72.99</td>\n",
       "      <td>-0.05</td>\n",
       "    </tr>\n",
       "    <tr>\n",
       "      <th>4294</th>\n",
       "      <td>2008-03-07</td>\n",
       "      <td>73.03</td>\n",
       "      <td>0.04</td>\n",
       "    </tr>\n",
       "    <tr>\n",
       "      <th>4295</th>\n",
       "      <td>2008-03-06</td>\n",
       "      <td>73.00</td>\n",
       "      <td>-0.65</td>\n",
       "    </tr>\n",
       "    <tr>\n",
       "      <th>4296</th>\n",
       "      <td>2008-03-05</td>\n",
       "      <td>73.48</td>\n",
       "      <td>-0.24</td>\n",
       "    </tr>\n",
       "    <tr>\n",
       "      <th>4297</th>\n",
       "      <td>2008-03-04</td>\n",
       "      <td>73.66</td>\n",
       "      <td>-0.05</td>\n",
       "    </tr>\n",
       "  </tbody>\n",
       "</table>\n",
       "<p>4298 rows × 3 columns</p>\n",
       "</div>"
      ],
      "text/plain": [
       "           Date  diPrice  diChange %\n",
       "0    2024-08-27   100.55       -0.30\n",
       "1    2024-08-26   100.85        0.13\n",
       "2    2024-08-23   100.72       -0.78\n",
       "3    2024-08-22   101.51        0.46\n",
       "4    2024-08-21   101.04       -0.40\n",
       "...         ...      ...         ...\n",
       "4293 2008-03-10    72.99       -0.05\n",
       "4294 2008-03-07    73.03        0.04\n",
       "4295 2008-03-06    73.00       -0.65\n",
       "4296 2008-03-05    73.48       -0.24\n",
       "4297 2008-03-04    73.66       -0.05\n",
       "\n",
       "[4298 rows x 3 columns]"
      ]
     },
     "execution_count": 19,
     "metadata": {},
     "output_type": "execute_result"
    }
   ],
   "source": [
    "usdindex['Date']=pd.to_datetime(usdindex['Date'])\n",
    "\n",
    "usdindex['diPrice']=usdindex['diPrice'].astype(str).str.replace(',','')\n",
    "usdindex['diPrice']=usdindex['diPrice'].astype(float)\n",
    "\n",
    "usdindex['diChange %']=usdindex['diChange %'].astype(str).str.replace(\"%\",\"\")\n",
    "usdindex['diChange %']=usdindex['diChange %'].astype(float)\n",
    "\n",
    "usdindex.info()\n",
    "usdindex"
   ]
  },
  {
   "cell_type": "markdown",
   "metadata": {},
   "source": [
    "Date is not accending"
   ]
  },
  {
   "cell_type": "code",
   "execution_count": 20,
   "metadata": {},
   "outputs": [
    {
     "data": {
      "text/html": [
       "<div>\n",
       "<style scoped>\n",
       "    .dataframe tbody tr th:only-of-type {\n",
       "        vertical-align: middle;\n",
       "    }\n",
       "\n",
       "    .dataframe tbody tr th {\n",
       "        vertical-align: top;\n",
       "    }\n",
       "\n",
       "    .dataframe thead th {\n",
       "        text-align: right;\n",
       "    }\n",
       "</style>\n",
       "<table border=\"1\" class=\"dataframe\">\n",
       "  <thead>\n",
       "    <tr style=\"text-align: right;\">\n",
       "      <th></th>\n",
       "      <th>Date</th>\n",
       "      <th>diPrice</th>\n",
       "      <th>diChange %</th>\n",
       "    </tr>\n",
       "  </thead>\n",
       "  <tbody>\n",
       "    <tr>\n",
       "      <th>0</th>\n",
       "      <td>2008-03-04</td>\n",
       "      <td>73.66</td>\n",
       "      <td>-0.05</td>\n",
       "    </tr>\n",
       "    <tr>\n",
       "      <th>1</th>\n",
       "      <td>2008-03-05</td>\n",
       "      <td>73.48</td>\n",
       "      <td>-0.24</td>\n",
       "    </tr>\n",
       "    <tr>\n",
       "      <th>2</th>\n",
       "      <td>2008-03-06</td>\n",
       "      <td>73.00</td>\n",
       "      <td>-0.65</td>\n",
       "    </tr>\n",
       "    <tr>\n",
       "      <th>3</th>\n",
       "      <td>2008-03-07</td>\n",
       "      <td>73.03</td>\n",
       "      <td>0.04</td>\n",
       "    </tr>\n",
       "    <tr>\n",
       "      <th>4</th>\n",
       "      <td>2008-03-10</td>\n",
       "      <td>72.99</td>\n",
       "      <td>-0.05</td>\n",
       "    </tr>\n",
       "  </tbody>\n",
       "</table>\n",
       "</div>"
      ],
      "text/plain": [
       "        Date  diPrice  diChange %\n",
       "0 2008-03-04    73.66       -0.05\n",
       "1 2008-03-05    73.48       -0.24\n",
       "2 2008-03-06    73.00       -0.65\n",
       "3 2008-03-07    73.03        0.04\n",
       "4 2008-03-10    72.99       -0.05"
      ]
     },
     "execution_count": 20,
     "metadata": {},
     "output_type": "execute_result"
    }
   ],
   "source": [
    "usdindex = usdindex.iloc[::-1].reset_index(drop=True)\n",
    "usdindex.head()"
   ]
  },
  {
   "cell_type": "markdown",
   "metadata": {},
   "source": [
    "---"
   ]
  },
  {
   "cell_type": "markdown",
   "metadata": {},
   "source": [
    "## **10-2year bond yeild**  "
   ]
  },
  {
   "cell_type": "code",
   "execution_count": 21,
   "metadata": {},
   "outputs": [],
   "source": [
    "df5 = pd.read_csv(\"MacroData/10-2year.csv\")"
   ]
  },
  {
   "cell_type": "code",
   "execution_count": 22,
   "metadata": {},
   "outputs": [
    {
     "name": "stdout",
     "output_type": "stream",
     "text": [
      "<class 'pandas.core.frame.DataFrame'>\n",
      "RangeIndex: 4301 entries, 0 to 4300\n",
      "Data columns (total 2 columns):\n",
      " #   Column  Non-Null Count  Dtype         \n",
      "---  ------  --------------  -----         \n",
      " 0   Date    4301 non-null   datetime64[ns]\n",
      " 1   T10Y2Y  4301 non-null   object        \n",
      "dtypes: datetime64[ns](1), object(1)\n",
      "memory usage: 67.3+ KB\n"
     ]
    },
    {
     "data": {
      "text/html": [
       "<div>\n",
       "<style scoped>\n",
       "    .dataframe tbody tr th:only-of-type {\n",
       "        vertical-align: middle;\n",
       "    }\n",
       "\n",
       "    .dataframe tbody tr th {\n",
       "        vertical-align: top;\n",
       "    }\n",
       "\n",
       "    .dataframe thead th {\n",
       "        text-align: right;\n",
       "    }\n",
       "</style>\n",
       "<table border=\"1\" class=\"dataframe\">\n",
       "  <thead>\n",
       "    <tr style=\"text-align: right;\">\n",
       "      <th></th>\n",
       "      <th>Date</th>\n",
       "      <th>T10Y2Y</th>\n",
       "    </tr>\n",
       "  </thead>\n",
       "  <tbody>\n",
       "    <tr>\n",
       "      <th>0</th>\n",
       "      <td>2008-03-04</td>\n",
       "      <td>1.98</td>\n",
       "    </tr>\n",
       "    <tr>\n",
       "      <th>1</th>\n",
       "      <td>2008-03-05</td>\n",
       "      <td>2.04</td>\n",
       "    </tr>\n",
       "    <tr>\n",
       "      <th>2</th>\n",
       "      <td>2008-03-06</td>\n",
       "      <td>2.09</td>\n",
       "    </tr>\n",
       "    <tr>\n",
       "      <th>3</th>\n",
       "      <td>2008-03-07</td>\n",
       "      <td>2.03</td>\n",
       "    </tr>\n",
       "    <tr>\n",
       "      <th>4</th>\n",
       "      <td>2008-03-10</td>\n",
       "      <td>1.99</td>\n",
       "    </tr>\n",
       "    <tr>\n",
       "      <th>5</th>\n",
       "      <td>2008-03-11</td>\n",
       "      <td>1.86</td>\n",
       "    </tr>\n",
       "    <tr>\n",
       "      <th>6</th>\n",
       "      <td>2008-03-12</td>\n",
       "      <td>1.86</td>\n",
       "    </tr>\n",
       "    <tr>\n",
       "      <th>7</th>\n",
       "      <td>2008-03-13</td>\n",
       "      <td>1.93</td>\n",
       "    </tr>\n",
       "    <tr>\n",
       "      <th>8</th>\n",
       "      <td>2008-03-14</td>\n",
       "      <td>1.97</td>\n",
       "    </tr>\n",
       "    <tr>\n",
       "      <th>9</th>\n",
       "      <td>2008-03-17</td>\n",
       "      <td>1.99</td>\n",
       "    </tr>\n",
       "    <tr>\n",
       "      <th>10</th>\n",
       "      <td>2008-03-18</td>\n",
       "      <td>1.90</td>\n",
       "    </tr>\n",
       "    <tr>\n",
       "      <th>11</th>\n",
       "      <td>2008-03-19</td>\n",
       "      <td>1.84</td>\n",
       "    </tr>\n",
       "    <tr>\n",
       "      <th>12</th>\n",
       "      <td>2008-03-20</td>\n",
       "      <td>1.75</td>\n",
       "    </tr>\n",
       "    <tr>\n",
       "      <th>13</th>\n",
       "      <td>2008-03-21</td>\n",
       "      <td>.</td>\n",
       "    </tr>\n",
       "    <tr>\n",
       "      <th>14</th>\n",
       "      <td>2008-03-24</td>\n",
       "      <td>1.72</td>\n",
       "    </tr>\n",
       "  </tbody>\n",
       "</table>\n",
       "</div>"
      ],
      "text/plain": [
       "         Date T10Y2Y\n",
       "0  2008-03-04   1.98\n",
       "1  2008-03-05   2.04\n",
       "2  2008-03-06   2.09\n",
       "3  2008-03-07   2.03\n",
       "4  2008-03-10   1.99\n",
       "5  2008-03-11   1.86\n",
       "6  2008-03-12   1.86\n",
       "7  2008-03-13   1.93\n",
       "8  2008-03-14   1.97\n",
       "9  2008-03-17   1.99\n",
       "10 2008-03-18   1.90\n",
       "11 2008-03-19   1.84\n",
       "12 2008-03-20   1.75\n",
       "13 2008-03-21      .\n",
       "14 2008-03-24   1.72"
      ]
     },
     "execution_count": 22,
     "metadata": {},
     "output_type": "execute_result"
    }
   ],
   "source": [
    "df5[\"Date\"] = pd.to_datetime(df5['Date'])\n",
    "df5.info()\n",
    "df5.head(15)"
   ]
  },
  {
   "cell_type": "markdown",
   "metadata": {},
   "source": [
    "converting **T10Y2Y** column from object type to float"
   ]
  },
  {
   "cell_type": "code",
   "execution_count": 23,
   "metadata": {},
   "outputs": [],
   "source": [
    "# df5[\"T10Y2Y\"] = df5['T10Y2Y'].astype(float)\n",
    "\n",
    "# df5.info()"
   ]
  },
  {
   "cell_type": "markdown",
   "metadata": {},
   "source": [
    "> it gives an error \n",
    "\n",
    "ValueError: could not convert string to float: \".\""
   ]
  },
  {
   "cell_type": "markdown",
   "metadata": {},
   "source": [
    "There may be multiple '.' values in the column let us convert them to NaN\n"
   ]
  },
  {
   "cell_type": "code",
   "execution_count": 24,
   "metadata": {},
   "outputs": [],
   "source": [
    "df5['T10Y2Y']=df5['T10Y2Y'].replace(\".\", np.nan)"
   ]
  },
  {
   "cell_type": "markdown",
   "metadata": {},
   "source": [
    "\".\" is converted to NaN successfully. \n",
    "\n"
   ]
  },
  {
   "cell_type": "code",
   "execution_count": 25,
   "metadata": {},
   "outputs": [
    {
     "data": {
      "text/html": [
       "<div>\n",
       "<style scoped>\n",
       "    .dataframe tbody tr th:only-of-type {\n",
       "        vertical-align: middle;\n",
       "    }\n",
       "\n",
       "    .dataframe tbody tr th {\n",
       "        vertical-align: top;\n",
       "    }\n",
       "\n",
       "    .dataframe thead th {\n",
       "        text-align: right;\n",
       "    }\n",
       "</style>\n",
       "<table border=\"1\" class=\"dataframe\">\n",
       "  <thead>\n",
       "    <tr style=\"text-align: right;\">\n",
       "      <th></th>\n",
       "      <th>Date</th>\n",
       "      <th>T10Y2Y</th>\n",
       "    </tr>\n",
       "  </thead>\n",
       "  <tbody>\n",
       "    <tr>\n",
       "      <th>12</th>\n",
       "      <td>2008-03-20</td>\n",
       "      <td>1.75</td>\n",
       "    </tr>\n",
       "    <tr>\n",
       "      <th>13</th>\n",
       "      <td>2008-03-21</td>\n",
       "      <td>NaN</td>\n",
       "    </tr>\n",
       "  </tbody>\n",
       "</table>\n",
       "</div>"
      ],
      "text/plain": [
       "         Date T10Y2Y\n",
       "12 2008-03-20   1.75\n",
       "13 2008-03-21    NaN"
      ]
     },
     "execution_count": 25,
     "metadata": {},
     "output_type": "execute_result"
    }
   ],
   "source": [
    "df5[12:14]"
   ]
  },
  {
   "cell_type": "markdown",
   "metadata": {},
   "source": [
    "Now we will fill the NaN values with preceding values and check if it's working"
   ]
  },
  {
   "cell_type": "code",
   "execution_count": 26,
   "metadata": {},
   "outputs": [
    {
     "name": "stderr",
     "output_type": "stream",
     "text": [
      "C:\\Users\\Asus\\AppData\\Local\\Temp\\ipykernel_26920\\1687390286.py:1: FutureWarning: Series.fillna with 'method' is deprecated and will raise in a future version. Use obj.ffill() or obj.bfill() instead.\n",
      "  df5['T10Y2Y'] = df5['T10Y2Y'].fillna(method='ffill')    # method = \"ffill\" fills NaN values with previous values\n"
     ]
    }
   ],
   "source": [
    "df5['T10Y2Y'] = df5['T10Y2Y'].fillna(method='ffill')    # method = \"ffill\" fills NaN values with previous values"
   ]
  },
  {
   "cell_type": "markdown",
   "metadata": {},
   "source": [
    "Checking if any NaN values are left"
   ]
  },
  {
   "cell_type": "code",
   "execution_count": 27,
   "metadata": {},
   "outputs": [
    {
     "name": "stdout",
     "output_type": "stream",
     "text": [
      "0\n"
     ]
    }
   ],
   "source": [
    "print(df5['T10Y2Y'].isna().sum())  \n"
   ]
  },
  {
   "cell_type": "markdown",
   "metadata": {},
   "source": [
    "All NaN values are filled with preceding values succcessfully"
   ]
  },
  {
   "cell_type": "code",
   "execution_count": 28,
   "metadata": {},
   "outputs": [],
   "source": [
    "df5[\"T10Y2Y\"] = df5['T10Y2Y'].astype(float)"
   ]
  },
  {
   "cell_type": "code",
   "execution_count": 29,
   "metadata": {},
   "outputs": [
    {
     "data": {
      "text/html": [
       "<div>\n",
       "<style scoped>\n",
       "    .dataframe tbody tr th:only-of-type {\n",
       "        vertical-align: middle;\n",
       "    }\n",
       "\n",
       "    .dataframe tbody tr th {\n",
       "        vertical-align: top;\n",
       "    }\n",
       "\n",
       "    .dataframe thead th {\n",
       "        text-align: right;\n",
       "    }\n",
       "</style>\n",
       "<table border=\"1\" class=\"dataframe\">\n",
       "  <thead>\n",
       "    <tr style=\"text-align: right;\">\n",
       "      <th></th>\n",
       "      <th>Date</th>\n",
       "      <th>T10Y2Y</th>\n",
       "    </tr>\n",
       "  </thead>\n",
       "  <tbody>\n",
       "    <tr>\n",
       "      <th>12</th>\n",
       "      <td>2008-03-20</td>\n",
       "      <td>1.75</td>\n",
       "    </tr>\n",
       "    <tr>\n",
       "      <th>13</th>\n",
       "      <td>2008-03-21</td>\n",
       "      <td>1.75</td>\n",
       "    </tr>\n",
       "  </tbody>\n",
       "</table>\n",
       "</div>"
      ],
      "text/plain": [
       "         Date  T10Y2Y\n",
       "12 2008-03-20    1.75\n",
       "13 2008-03-21    1.75"
      ]
     },
     "execution_count": 29,
     "metadata": {},
     "output_type": "execute_result"
    }
   ],
   "source": [
    "df5[12:14]"
   ]
  },
  {
   "cell_type": "markdown",
   "metadata": {},
   "source": [
    "Adding **\"percent change\"** as a feature"
   ]
  },
  {
   "cell_type": "code",
   "execution_count": 30,
   "metadata": {},
   "outputs": [
    {
     "name": "stdout",
     "output_type": "stream",
     "text": [
      "<class 'pandas.core.frame.DataFrame'>\n",
      "RangeIndex: 4301 entries, 0 to 4300\n",
      "Data columns (total 3 columns):\n",
      " #   Column       Non-Null Count  Dtype         \n",
      "---  ------       --------------  -----         \n",
      " 0   Date         4301 non-null   datetime64[ns]\n",
      " 1   T10Y2Y       4301 non-null   float64       \n",
      " 2   T10Y2Y%chng  4298 non-null   float64       \n",
      "dtypes: datetime64[ns](1), float64(2)\n",
      "memory usage: 100.9 KB\n"
     ]
    }
   ],
   "source": [
    "df5['T10Y2Y%chng'] = df5['T10Y2Y'].pct_change() * 100\n",
    "T10Y2Ydf = df5.copy()\n",
    "T10Y2Ydf['Date'] =  pd.to_datetime(T10Y2Ydf['Date'])\n",
    "T10Y2Ydf.info()\n"
   ]
  },
  {
   "cell_type": "code",
   "execution_count": 31,
   "metadata": {},
   "outputs": [
    {
     "data": {
      "text/html": [
       "<div>\n",
       "<style scoped>\n",
       "    .dataframe tbody tr th:only-of-type {\n",
       "        vertical-align: middle;\n",
       "    }\n",
       "\n",
       "    .dataframe tbody tr th {\n",
       "        vertical-align: top;\n",
       "    }\n",
       "\n",
       "    .dataframe thead th {\n",
       "        text-align: right;\n",
       "    }\n",
       "</style>\n",
       "<table border=\"1\" class=\"dataframe\">\n",
       "  <thead>\n",
       "    <tr style=\"text-align: right;\">\n",
       "      <th></th>\n",
       "      <th>Date</th>\n",
       "      <th>T10Y2Y</th>\n",
       "      <th>T10Y2Y%chng</th>\n",
       "    </tr>\n",
       "  </thead>\n",
       "  <tbody>\n",
       "    <tr>\n",
       "      <th>0</th>\n",
       "      <td>2008-03-04</td>\n",
       "      <td>1.98</td>\n",
       "      <td>NaN</td>\n",
       "    </tr>\n",
       "    <tr>\n",
       "      <th>1</th>\n",
       "      <td>2008-03-05</td>\n",
       "      <td>2.04</td>\n",
       "      <td>3.030303</td>\n",
       "    </tr>\n",
       "    <tr>\n",
       "      <th>2</th>\n",
       "      <td>2008-03-06</td>\n",
       "      <td>2.09</td>\n",
       "      <td>2.450980</td>\n",
       "    </tr>\n",
       "    <tr>\n",
       "      <th>3</th>\n",
       "      <td>2008-03-07</td>\n",
       "      <td>2.03</td>\n",
       "      <td>-2.870813</td>\n",
       "    </tr>\n",
       "    <tr>\n",
       "      <th>4</th>\n",
       "      <td>2008-03-10</td>\n",
       "      <td>1.99</td>\n",
       "      <td>-1.970443</td>\n",
       "    </tr>\n",
       "  </tbody>\n",
       "</table>\n",
       "</div>"
      ],
      "text/plain": [
       "        Date  T10Y2Y  T10Y2Y%chng\n",
       "0 2008-03-04    1.98          NaN\n",
       "1 2008-03-05    2.04     3.030303\n",
       "2 2008-03-06    2.09     2.450980\n",
       "3 2008-03-07    2.03    -2.870813\n",
       "4 2008-03-10    1.99    -1.970443"
      ]
     },
     "execution_count": 31,
     "metadata": {},
     "output_type": "execute_result"
    }
   ],
   "source": [
    "T10Y2Ydf.head()"
   ]
  },
  {
   "cell_type": "markdown",
   "metadata": {},
   "source": [
    "There is a NaN value in first row, we will make it zero"
   ]
  },
  {
   "cell_type": "code",
   "execution_count": 32,
   "metadata": {},
   "outputs": [
    {
     "data": {
      "text/html": [
       "<div>\n",
       "<style scoped>\n",
       "    .dataframe tbody tr th:only-of-type {\n",
       "        vertical-align: middle;\n",
       "    }\n",
       "\n",
       "    .dataframe tbody tr th {\n",
       "        vertical-align: top;\n",
       "    }\n",
       "\n",
       "    .dataframe thead th {\n",
       "        text-align: right;\n",
       "    }\n",
       "</style>\n",
       "<table border=\"1\" class=\"dataframe\">\n",
       "  <thead>\n",
       "    <tr style=\"text-align: right;\">\n",
       "      <th></th>\n",
       "      <th>Date</th>\n",
       "      <th>T10Y2Y</th>\n",
       "      <th>T10Y2Y%chng</th>\n",
       "    </tr>\n",
       "  </thead>\n",
       "  <tbody>\n",
       "    <tr>\n",
       "      <th>0</th>\n",
       "      <td>2008-03-04</td>\n",
       "      <td>1.98</td>\n",
       "      <td>0.000000</td>\n",
       "    </tr>\n",
       "    <tr>\n",
       "      <th>1</th>\n",
       "      <td>2008-03-05</td>\n",
       "      <td>2.04</td>\n",
       "      <td>3.030303</td>\n",
       "    </tr>\n",
       "    <tr>\n",
       "      <th>2</th>\n",
       "      <td>2008-03-06</td>\n",
       "      <td>2.09</td>\n",
       "      <td>2.450980</td>\n",
       "    </tr>\n",
       "    <tr>\n",
       "      <th>3</th>\n",
       "      <td>2008-03-07</td>\n",
       "      <td>2.03</td>\n",
       "      <td>-2.870813</td>\n",
       "    </tr>\n",
       "    <tr>\n",
       "      <th>4</th>\n",
       "      <td>2008-03-10</td>\n",
       "      <td>1.99</td>\n",
       "      <td>-1.970443</td>\n",
       "    </tr>\n",
       "    <tr>\n",
       "      <th>...</th>\n",
       "      <td>...</td>\n",
       "      <td>...</td>\n",
       "      <td>...</td>\n",
       "    </tr>\n",
       "    <tr>\n",
       "      <th>4296</th>\n",
       "      <td>2024-08-21</td>\n",
       "      <td>-0.13</td>\n",
       "      <td>-23.529412</td>\n",
       "    </tr>\n",
       "    <tr>\n",
       "      <th>4297</th>\n",
       "      <td>2024-08-22</td>\n",
       "      <td>-0.13</td>\n",
       "      <td>0.000000</td>\n",
       "    </tr>\n",
       "    <tr>\n",
       "      <th>4298</th>\n",
       "      <td>2024-08-23</td>\n",
       "      <td>-0.09</td>\n",
       "      <td>-30.769231</td>\n",
       "    </tr>\n",
       "    <tr>\n",
       "      <th>4299</th>\n",
       "      <td>2024-08-26</td>\n",
       "      <td>-0.09</td>\n",
       "      <td>0.000000</td>\n",
       "    </tr>\n",
       "    <tr>\n",
       "      <th>4300</th>\n",
       "      <td>2024-08-27</td>\n",
       "      <td>0.00</td>\n",
       "      <td>-100.000000</td>\n",
       "    </tr>\n",
       "  </tbody>\n",
       "</table>\n",
       "<p>4301 rows × 3 columns</p>\n",
       "</div>"
      ],
      "text/plain": [
       "           Date  T10Y2Y  T10Y2Y%chng\n",
       "0    2008-03-04    1.98     0.000000\n",
       "1    2008-03-05    2.04     3.030303\n",
       "2    2008-03-06    2.09     2.450980\n",
       "3    2008-03-07    2.03    -2.870813\n",
       "4    2008-03-10    1.99    -1.970443\n",
       "...         ...     ...          ...\n",
       "4296 2024-08-21   -0.13   -23.529412\n",
       "4297 2024-08-22   -0.13     0.000000\n",
       "4298 2024-08-23   -0.09   -30.769231\n",
       "4299 2024-08-26   -0.09     0.000000\n",
       "4300 2024-08-27    0.00  -100.000000\n",
       "\n",
       "[4301 rows x 3 columns]"
      ]
     },
     "execution_count": 32,
     "metadata": {},
     "output_type": "execute_result"
    }
   ],
   "source": [
    "T10Y2Ydf[\"T10Y2Y%chng\"] = T10Y2Ydf['T10Y2Y%chng'].fillna('0').astype(float)\n",
    "T10Y2Ydf"
   ]
  },
  {
   "cell_type": "code",
   "execution_count": 33,
   "metadata": {},
   "outputs": [
    {
     "name": "stdout",
     "output_type": "stream",
     "text": [
      "<class 'pandas.core.frame.DataFrame'>\n",
      "RangeIndex: 4301 entries, 0 to 4300\n",
      "Data columns (total 3 columns):\n",
      " #   Column       Non-Null Count  Dtype         \n",
      "---  ------       --------------  -----         \n",
      " 0   Date         4301 non-null   datetime64[ns]\n",
      " 1   T10Y2Y       4301 non-null   float64       \n",
      " 2   T10Y2Y%chng  4301 non-null   float64       \n",
      "dtypes: datetime64[ns](1), float64(2)\n",
      "memory usage: 100.9 KB\n"
     ]
    }
   ],
   "source": [
    "T10Y2Ydf.info()"
   ]
  },
  {
   "cell_type": "markdown",
   "metadata": {},
   "source": [
    "---\n",
    "---"
   ]
  },
  {
   "cell_type": "markdown",
   "metadata": {},
   "source": [
    "# Now we will join all the DFs togather priortising the Dates of \"niftyvix\" DataFrame"
   ]
  },
  {
   "cell_type": "markdown",
   "metadata": {},
   "source": [
    "Merge each DataFrame one by one, ensuring 'Date' index is maintained"
   ]
  },
  {
   "cell_type": "code",
   "execution_count": 34,
   "metadata": {},
   "outputs": [
    {
     "data": {
      "text/html": [
       "<div>\n",
       "<style scoped>\n",
       "    .dataframe tbody tr th:only-of-type {\n",
       "        vertical-align: middle;\n",
       "    }\n",
       "\n",
       "    .dataframe tbody tr th {\n",
       "        vertical-align: top;\n",
       "    }\n",
       "\n",
       "    .dataframe thead th {\n",
       "        text-align: right;\n",
       "    }\n",
       "</style>\n",
       "<table border=\"1\" class=\"dataframe\">\n",
       "  <thead>\n",
       "    <tr style=\"text-align: right;\">\n",
       "      <th></th>\n",
       "      <th>Date</th>\n",
       "      <th>vixPrice</th>\n",
       "      <th>vixChange%</th>\n",
       "      <th>niftyPrice</th>\n",
       "      <th>niftyChange %</th>\n",
       "      <th>DayOfWeek</th>\n",
       "      <th>month</th>\n",
       "      <th>Tuesday</th>\n",
       "      <th>Wednesday</th>\n",
       "      <th>Friday</th>\n",
       "      <th>...</th>\n",
       "      <th>July</th>\n",
       "      <th>August</th>\n",
       "      <th>September</th>\n",
       "      <th>October</th>\n",
       "      <th>November</th>\n",
       "      <th>December</th>\n",
       "      <th>January</th>\n",
       "      <th>February</th>\n",
       "      <th>cluster</th>\n",
       "      <th>Month</th>\n",
       "    </tr>\n",
       "  </thead>\n",
       "  <tbody>\n",
       "    <tr>\n",
       "      <th>0</th>\n",
       "      <td>2008-06-05</td>\n",
       "      <td>30.32</td>\n",
       "      <td>1.68</td>\n",
       "      <td>4676.95</td>\n",
       "      <td>1.99</td>\n",
       "      <td>Thursday</td>\n",
       "      <td>June</td>\n",
       "      <td>0</td>\n",
       "      <td>0</td>\n",
       "      <td>0</td>\n",
       "      <td>...</td>\n",
       "      <td>0</td>\n",
       "      <td>0</td>\n",
       "      <td>0</td>\n",
       "      <td>0</td>\n",
       "      <td>0</td>\n",
       "      <td>0</td>\n",
       "      <td>0</td>\n",
       "      <td>0</td>\n",
       "      <td>2</td>\n",
       "      <td>6</td>\n",
       "    </tr>\n",
       "    <tr>\n",
       "      <th>1</th>\n",
       "      <td>2008-06-06</td>\n",
       "      <td>30.32</td>\n",
       "      <td>0.00</td>\n",
       "      <td>4627.80</td>\n",
       "      <td>-1.05</td>\n",
       "      <td>Friday</td>\n",
       "      <td>June</td>\n",
       "      <td>0</td>\n",
       "      <td>0</td>\n",
       "      <td>1</td>\n",
       "      <td>...</td>\n",
       "      <td>0</td>\n",
       "      <td>0</td>\n",
       "      <td>0</td>\n",
       "      <td>0</td>\n",
       "      <td>0</td>\n",
       "      <td>0</td>\n",
       "      <td>0</td>\n",
       "      <td>0</td>\n",
       "      <td>2</td>\n",
       "      <td>6</td>\n",
       "    </tr>\n",
       "    <tr>\n",
       "      <th>2</th>\n",
       "      <td>2008-06-09</td>\n",
       "      <td>32.43</td>\n",
       "      <td>6.96</td>\n",
       "      <td>4500.95</td>\n",
       "      <td>-2.74</td>\n",
       "      <td>Monday</td>\n",
       "      <td>June</td>\n",
       "      <td>0</td>\n",
       "      <td>0</td>\n",
       "      <td>0</td>\n",
       "      <td>...</td>\n",
       "      <td>0</td>\n",
       "      <td>0</td>\n",
       "      <td>0</td>\n",
       "      <td>0</td>\n",
       "      <td>0</td>\n",
       "      <td>0</td>\n",
       "      <td>0</td>\n",
       "      <td>0</td>\n",
       "      <td>2</td>\n",
       "      <td>6</td>\n",
       "    </tr>\n",
       "    <tr>\n",
       "      <th>3</th>\n",
       "      <td>2008-06-10</td>\n",
       "      <td>30.23</td>\n",
       "      <td>-6.78</td>\n",
       "      <td>4449.80</td>\n",
       "      <td>-1.14</td>\n",
       "      <td>Tuesday</td>\n",
       "      <td>June</td>\n",
       "      <td>1</td>\n",
       "      <td>0</td>\n",
       "      <td>0</td>\n",
       "      <td>...</td>\n",
       "      <td>0</td>\n",
       "      <td>0</td>\n",
       "      <td>0</td>\n",
       "      <td>0</td>\n",
       "      <td>0</td>\n",
       "      <td>0</td>\n",
       "      <td>0</td>\n",
       "      <td>0</td>\n",
       "      <td>2</td>\n",
       "      <td>6</td>\n",
       "    </tr>\n",
       "    <tr>\n",
       "      <th>4</th>\n",
       "      <td>2008-06-11</td>\n",
       "      <td>29.64</td>\n",
       "      <td>-1.95</td>\n",
       "      <td>4523.60</td>\n",
       "      <td>1.66</td>\n",
       "      <td>Wednesday</td>\n",
       "      <td>June</td>\n",
       "      <td>0</td>\n",
       "      <td>1</td>\n",
       "      <td>0</td>\n",
       "      <td>...</td>\n",
       "      <td>0</td>\n",
       "      <td>0</td>\n",
       "      <td>0</td>\n",
       "      <td>0</td>\n",
       "      <td>0</td>\n",
       "      <td>0</td>\n",
       "      <td>0</td>\n",
       "      <td>0</td>\n",
       "      <td>2</td>\n",
       "      <td>6</td>\n",
       "    </tr>\n",
       "  </tbody>\n",
       "</table>\n",
       "<p>5 rows × 28 columns</p>\n",
       "</div>"
      ],
      "text/plain": [
       "        Date  vixPrice  vixChange%  niftyPrice  niftyChange %  DayOfWeek  \\\n",
       "0 2008-06-05     30.32        1.68     4676.95           1.99   Thursday   \n",
       "1 2008-06-06     30.32        0.00     4627.80          -1.05     Friday   \n",
       "2 2008-06-09     32.43        6.96     4500.95          -2.74     Monday   \n",
       "3 2008-06-10     30.23       -6.78     4449.80          -1.14    Tuesday   \n",
       "4 2008-06-11     29.64       -1.95     4523.60           1.66  Wednesday   \n",
       "\n",
       "  month  Tuesday  Wednesday  Friday  ...  July  August  September  October  \\\n",
       "0  June        0          0       0  ...     0       0          0        0   \n",
       "1  June        0          0       1  ...     0       0          0        0   \n",
       "2  June        0          0       0  ...     0       0          0        0   \n",
       "3  June        1          0       0  ...     0       0          0        0   \n",
       "4  June        0          1       0  ...     0       0          0        0   \n",
       "\n",
       "   November  December  January  February  cluster  Month  \n",
       "0         0         0        0         0        2      6  \n",
       "1         0         0        0         0        2      6  \n",
       "2         0         0        0         0        2      6  \n",
       "3         0         0        0         0        2      6  \n",
       "4         0         0        0         0        2      6  \n",
       "\n",
       "[5 rows x 28 columns]"
      ]
     },
     "execution_count": 34,
     "metadata": {},
     "output_type": "execute_result"
    }
   ],
   "source": [
    "daily_df = niftyvix\n",
    "daily_df.head()"
   ]
  },
  {
   "cell_type": "code",
   "execution_count": 35,
   "metadata": {},
   "outputs": [
    {
     "data": {
      "text/html": [
       "<div>\n",
       "<style scoped>\n",
       "    .dataframe tbody tr th:only-of-type {\n",
       "        vertical-align: middle;\n",
       "    }\n",
       "\n",
       "    .dataframe tbody tr th {\n",
       "        vertical-align: top;\n",
       "    }\n",
       "\n",
       "    .dataframe thead th {\n",
       "        text-align: right;\n",
       "    }\n",
       "</style>\n",
       "<table border=\"1\" class=\"dataframe\">\n",
       "  <thead>\n",
       "    <tr style=\"text-align: right;\">\n",
       "      <th></th>\n",
       "      <th>Date</th>\n",
       "      <th>vixPrice</th>\n",
       "      <th>vixChange%</th>\n",
       "      <th>niftyPrice</th>\n",
       "      <th>niftyChange %</th>\n",
       "      <th>DayOfWeek</th>\n",
       "      <th>month</th>\n",
       "      <th>Tuesday</th>\n",
       "      <th>Wednesday</th>\n",
       "      <th>Friday</th>\n",
       "      <th>...</th>\n",
       "      <th>September</th>\n",
       "      <th>October</th>\n",
       "      <th>November</th>\n",
       "      <th>December</th>\n",
       "      <th>January</th>\n",
       "      <th>February</th>\n",
       "      <th>cluster</th>\n",
       "      <th>Month</th>\n",
       "      <th>GoldPrice</th>\n",
       "      <th>GoldChange %</th>\n",
       "    </tr>\n",
       "  </thead>\n",
       "  <tbody>\n",
       "    <tr>\n",
       "      <th>0</th>\n",
       "      <td>2008-06-05</td>\n",
       "      <td>30.32</td>\n",
       "      <td>1.68</td>\n",
       "      <td>4676.95</td>\n",
       "      <td>1.99</td>\n",
       "      <td>Thursday</td>\n",
       "      <td>June</td>\n",
       "      <td>0</td>\n",
       "      <td>0</td>\n",
       "      <td>0</td>\n",
       "      <td>...</td>\n",
       "      <td>0</td>\n",
       "      <td>0</td>\n",
       "      <td>0</td>\n",
       "      <td>0</td>\n",
       "      <td>0</td>\n",
       "      <td>0</td>\n",
       "      <td>2</td>\n",
       "      <td>6</td>\n",
       "      <td>875.5</td>\n",
       "      <td>-0.94</td>\n",
       "    </tr>\n",
       "  </tbody>\n",
       "</table>\n",
       "<p>1 rows × 30 columns</p>\n",
       "</div>"
      ],
      "text/plain": [
       "        Date  vixPrice  vixChange%  niftyPrice  niftyChange % DayOfWeek month  \\\n",
       "0 2008-06-05     30.32        1.68     4676.95           1.99  Thursday  June   \n",
       "\n",
       "   Tuesday  Wednesday  Friday  ...  September  October  November  December  \\\n",
       "0        0          0       0  ...          0        0         0         0   \n",
       "\n",
       "   January  February  cluster  Month  GoldPrice  GoldChange %  \n",
       "0        0         0        2      6      875.5         -0.94  \n",
       "\n",
       "[1 rows x 30 columns]"
      ]
     },
     "execution_count": 35,
     "metadata": {},
     "output_type": "execute_result"
    }
   ],
   "source": [
    "daily_df = pd.merge(daily_df, gold, how='left', on='Date')\n",
    "daily_df.head(1)"
   ]
  },
  {
   "cell_type": "code",
   "execution_count": 36,
   "metadata": {},
   "outputs": [],
   "source": [
    "daily_df = pd.merge(daily_df, crude, how='left', on='Date')"
   ]
  },
  {
   "cell_type": "code",
   "execution_count": 37,
   "metadata": {},
   "outputs": [],
   "source": [
    "daily_df = pd.merge(daily_df, usdinr, how='left', on='Date')"
   ]
  },
  {
   "cell_type": "code",
   "execution_count": 38,
   "metadata": {},
   "outputs": [],
   "source": [
    "daily_df = pd.merge(daily_df, usdindex, how='left', on='Date')"
   ]
  },
  {
   "cell_type": "code",
   "execution_count": 39,
   "metadata": {},
   "outputs": [],
   "source": [
    "daily_df = pd.merge(daily_df, T10Y2Ydf, how='left', on='Date')"
   ]
  },
  {
   "cell_type": "code",
   "execution_count": 40,
   "metadata": {},
   "outputs": [
    {
     "data": {
      "text/html": [
       "<div>\n",
       "<style scoped>\n",
       "    .dataframe tbody tr th:only-of-type {\n",
       "        vertical-align: middle;\n",
       "    }\n",
       "\n",
       "    .dataframe tbody tr th {\n",
       "        vertical-align: top;\n",
       "    }\n",
       "\n",
       "    .dataframe thead th {\n",
       "        text-align: right;\n",
       "    }\n",
       "</style>\n",
       "<table border=\"1\" class=\"dataframe\">\n",
       "  <thead>\n",
       "    <tr style=\"text-align: right;\">\n",
       "      <th></th>\n",
       "      <th>Date</th>\n",
       "      <th>vixPrice</th>\n",
       "      <th>vixChange%</th>\n",
       "      <th>niftyPrice</th>\n",
       "      <th>niftyChange %</th>\n",
       "      <th>DayOfWeek</th>\n",
       "      <th>month</th>\n",
       "      <th>Tuesday</th>\n",
       "      <th>Wednesday</th>\n",
       "      <th>Friday</th>\n",
       "      <th>...</th>\n",
       "      <th>GoldPrice</th>\n",
       "      <th>GoldChange %</th>\n",
       "      <th>CrudePrice</th>\n",
       "      <th>CrudeChange %</th>\n",
       "      <th>inrPrice</th>\n",
       "      <th>inrChange %</th>\n",
       "      <th>diPrice</th>\n",
       "      <th>diChange %</th>\n",
       "      <th>T10Y2Y</th>\n",
       "      <th>T10Y2Y%chng</th>\n",
       "    </tr>\n",
       "  </thead>\n",
       "  <tbody>\n",
       "    <tr>\n",
       "      <th>0</th>\n",
       "      <td>2008-06-05</td>\n",
       "      <td>30.32</td>\n",
       "      <td>1.68</td>\n",
       "      <td>4676.95</td>\n",
       "      <td>1.99</td>\n",
       "      <td>Thursday</td>\n",
       "      <td>June</td>\n",
       "      <td>0</td>\n",
       "      <td>0</td>\n",
       "      <td>0</td>\n",
       "      <td>...</td>\n",
       "      <td>875.5</td>\n",
       "      <td>-0.94</td>\n",
       "      <td>127.79</td>\n",
       "      <td>4.49</td>\n",
       "      <td>42.835</td>\n",
       "      <td>0.53</td>\n",
       "      <td>73.04</td>\n",
       "      <td>-0.52</td>\n",
       "      <td>1.54</td>\n",
       "      <td>1.986755</td>\n",
       "    </tr>\n",
       "    <tr>\n",
       "      <th>1</th>\n",
       "      <td>2008-06-06</td>\n",
       "      <td>30.32</td>\n",
       "      <td>0.00</td>\n",
       "      <td>4627.80</td>\n",
       "      <td>-1.05</td>\n",
       "      <td>Friday</td>\n",
       "      <td>June</td>\n",
       "      <td>0</td>\n",
       "      <td>0</td>\n",
       "      <td>1</td>\n",
       "      <td>...</td>\n",
       "      <td>899.0</td>\n",
       "      <td>2.68</td>\n",
       "      <td>138.54</td>\n",
       "      <td>8.41</td>\n",
       "      <td>42.665</td>\n",
       "      <td>-0.40</td>\n",
       "      <td>72.39</td>\n",
       "      <td>-0.89</td>\n",
       "      <td>1.54</td>\n",
       "      <td>0.000000</td>\n",
       "    </tr>\n",
       "  </tbody>\n",
       "</table>\n",
       "<p>2 rows × 38 columns</p>\n",
       "</div>"
      ],
      "text/plain": [
       "        Date  vixPrice  vixChange%  niftyPrice  niftyChange % DayOfWeek month  \\\n",
       "0 2008-06-05     30.32        1.68     4676.95           1.99  Thursday  June   \n",
       "1 2008-06-06     30.32        0.00     4627.80          -1.05    Friday  June   \n",
       "\n",
       "   Tuesday  Wednesday  Friday  ...  GoldPrice  GoldChange %  CrudePrice  \\\n",
       "0        0          0       0  ...      875.5         -0.94      127.79   \n",
       "1        0          0       1  ...      899.0          2.68      138.54   \n",
       "\n",
       "   CrudeChange %  inrPrice  inrChange %  diPrice  diChange %  T10Y2Y  \\\n",
       "0           4.49    42.835         0.53    73.04       -0.52    1.54   \n",
       "1           8.41    42.665        -0.40    72.39       -0.89    1.54   \n",
       "\n",
       "   T10Y2Y%chng  \n",
       "0     1.986755  \n",
       "1     0.000000  \n",
       "\n",
       "[2 rows x 38 columns]"
      ]
     },
     "execution_count": 40,
     "metadata": {},
     "output_type": "execute_result"
    }
   ],
   "source": [
    "daily_df.head(2)"
   ]
  },
  {
   "cell_type": "markdown",
   "metadata": {},
   "source": [
    "There are null values in GOLD data so we will fix it "
   ]
  },
  {
   "cell_type": "code",
   "execution_count": 41,
   "metadata": {},
   "outputs": [],
   "source": [
    "daily_df.ffill(inplace=True)\n"
   ]
  },
  {
   "cell_type": "code",
   "execution_count": 42,
   "metadata": {},
   "outputs": [
    {
     "name": "stdout",
     "output_type": "stream",
     "text": [
      "<class 'pandas.core.frame.DataFrame'>\n",
      "RangeIndex: 4016 entries, 0 to 4015\n",
      "Data columns (total 38 columns):\n",
      " #   Column         Non-Null Count  Dtype         \n",
      "---  ------         --------------  -----         \n",
      " 0   Date           4016 non-null   datetime64[ns]\n",
      " 1   vixPrice       4016 non-null   float64       \n",
      " 2   vixChange%     4016 non-null   float64       \n",
      " 3   niftyPrice     4016 non-null   float64       \n",
      " 4   niftyChange %  4016 non-null   float64       \n",
      " 5   DayOfWeek      4016 non-null   object        \n",
      " 6   month          4016 non-null   object        \n",
      " 7   Tuesday        4016 non-null   int64         \n",
      " 8   Wednesday      4016 non-null   int64         \n",
      " 9   Friday         4016 non-null   int64         \n",
      " 10  Monday         4016 non-null   int64         \n",
      " 11  Thursday       4016 non-null   int64         \n",
      " 12  Saturday       4016 non-null   int64         \n",
      " 13  Sunday         4016 non-null   int64         \n",
      " 14  March          4016 non-null   int64         \n",
      " 15  April          4016 non-null   int64         \n",
      " 16  May            4016 non-null   int64         \n",
      " 17  June           4016 non-null   int64         \n",
      " 18  July           4016 non-null   int64         \n",
      " 19  August         4016 non-null   int64         \n",
      " 20  September      4016 non-null   int64         \n",
      " 21  October        4016 non-null   int64         \n",
      " 22  November       4016 non-null   int64         \n",
      " 23  December       4016 non-null   int64         \n",
      " 24  January        4016 non-null   int64         \n",
      " 25  February       4016 non-null   int64         \n",
      " 26  cluster        4016 non-null   int64         \n",
      " 27  Month          4016 non-null   int64         \n",
      " 28  GoldPrice      4016 non-null   float64       \n",
      " 29  GoldChange %   4016 non-null   float64       \n",
      " 30  CrudePrice     4016 non-null   float64       \n",
      " 31  CrudeChange %  4016 non-null   float64       \n",
      " 32  inrPrice       4016 non-null   float64       \n",
      " 33  inrChange %    4016 non-null   float64       \n",
      " 34  diPrice        4016 non-null   float64       \n",
      " 35  diChange %     4016 non-null   float64       \n",
      " 36  T10Y2Y         4016 non-null   float64       \n",
      " 37  T10Y2Y%chng    4016 non-null   float64       \n",
      "dtypes: datetime64[ns](1), float64(14), int64(21), object(2)\n",
      "memory usage: 1.2+ MB\n"
     ]
    }
   ],
   "source": [
    "daily_df.info()"
   ]
  },
  {
   "cell_type": "markdown",
   "metadata": {},
   "source": [
    "---"
   ]
  },
  {
   "cell_type": "markdown",
   "metadata": {},
   "source": [
    "all the DataFrames above were with daily frequency, Now below we will deal with the DataFrames that were not in daily frequency "
   ]
  },
  {
   "cell_type": "markdown",
   "metadata": {},
   "source": [
    "## **Fed Interest Rate**"
   ]
  },
  {
   "cell_type": "code",
   "execution_count": 43,
   "metadata": {},
   "outputs": [
    {
     "name": "stdout",
     "output_type": "stream",
     "text": [
      "<class 'pandas.core.frame.DataFrame'>\n",
      "RangeIndex: 69 entries, 0 to 68\n",
      "Data columns (total 3 columns):\n",
      " #   Column       Non-Null Count  Dtype         \n",
      "---  ------       --------------  -----         \n",
      " 0   Date         69 non-null     datetime64[ns]\n",
      " 1   Fedinterest  69 non-null     float64       \n",
      " 2   Fed%change   69 non-null     float64       \n",
      "dtypes: datetime64[ns](1), float64(2)\n",
      "memory usage: 1.7 KB\n"
     ]
    },
    {
     "data": {
      "text/html": [
       "<div>\n",
       "<style scoped>\n",
       "    .dataframe tbody tr th:only-of-type {\n",
       "        vertical-align: middle;\n",
       "    }\n",
       "\n",
       "    .dataframe tbody tr th {\n",
       "        vertical-align: top;\n",
       "    }\n",
       "\n",
       "    .dataframe thead th {\n",
       "        text-align: right;\n",
       "    }\n",
       "</style>\n",
       "<table border=\"1\" class=\"dataframe\">\n",
       "  <thead>\n",
       "    <tr style=\"text-align: right;\">\n",
       "      <th></th>\n",
       "      <th>Date</th>\n",
       "      <th>Fedinterest</th>\n",
       "      <th>Fed%change</th>\n",
       "    </tr>\n",
       "  </thead>\n",
       "  <tbody>\n",
       "    <tr>\n",
       "      <th>0</th>\n",
       "      <td>2008-06-12</td>\n",
       "      <td>8.0</td>\n",
       "      <td>0.00</td>\n",
       "    </tr>\n",
       "    <tr>\n",
       "      <th>1</th>\n",
       "      <td>2008-06-25</td>\n",
       "      <td>8.5</td>\n",
       "      <td>6.25</td>\n",
       "    </tr>\n",
       "  </tbody>\n",
       "</table>\n",
       "</div>"
      ],
      "text/plain": [
       "        Date  Fedinterest  Fed%change\n",
       "0 2008-06-12          8.0        0.00\n",
       "1 2008-06-25          8.5        6.25"
      ]
     },
     "execution_count": 43,
     "metadata": {},
     "output_type": "execute_result"
    }
   ],
   "source": [
    "df6 = pd.read_csv(\"MacroData/Fedinterest.csv\")\n",
    "fedinterest = df6.copy()\n",
    "fedinterest[\"Date\"] = pd.to_datetime(fedinterest['Date'])\n",
    "fedinterest.info()\n",
    "fedinterest.head(2)"
   ]
  },
  {
   "cell_type": "code",
   "execution_count": 44,
   "metadata": {},
   "outputs": [
    {
     "name": "stdout",
     "output_type": "stream",
     "text": [
      "<class 'pandas.core.frame.DataFrame'>\n",
      "RangeIndex: 4016 entries, 0 to 4015\n",
      "Data columns (total 40 columns):\n",
      " #   Column         Non-Null Count  Dtype         \n",
      "---  ------         --------------  -----         \n",
      " 0   Date           4016 non-null   datetime64[ns]\n",
      " 1   vixPrice       4016 non-null   float64       \n",
      " 2   vixChange%     4016 non-null   float64       \n",
      " 3   niftyPrice     4016 non-null   float64       \n",
      " 4   niftyChange %  4016 non-null   float64       \n",
      " 5   DayOfWeek      4016 non-null   object        \n",
      " 6   month          4016 non-null   object        \n",
      " 7   Tuesday        4016 non-null   int64         \n",
      " 8   Wednesday      4016 non-null   int64         \n",
      " 9   Friday         4016 non-null   int64         \n",
      " 10  Monday         4016 non-null   int64         \n",
      " 11  Thursday       4016 non-null   int64         \n",
      " 12  Saturday       4016 non-null   int64         \n",
      " 13  Sunday         4016 non-null   int64         \n",
      " 14  March          4016 non-null   int64         \n",
      " 15  April          4016 non-null   int64         \n",
      " 16  May            4016 non-null   int64         \n",
      " 17  June           4016 non-null   int64         \n",
      " 18  July           4016 non-null   int64         \n",
      " 19  August         4016 non-null   int64         \n",
      " 20  September      4016 non-null   int64         \n",
      " 21  October        4016 non-null   int64         \n",
      " 22  November       4016 non-null   int64         \n",
      " 23  December       4016 non-null   int64         \n",
      " 24  January        4016 non-null   int64         \n",
      " 25  February       4016 non-null   int64         \n",
      " 26  cluster        4016 non-null   int64         \n",
      " 27  Month          4016 non-null   int64         \n",
      " 28  GoldPrice      4016 non-null   float64       \n",
      " 29  GoldChange %   4016 non-null   float64       \n",
      " 30  CrudePrice     4016 non-null   float64       \n",
      " 31  CrudeChange %  4016 non-null   float64       \n",
      " 32  inrPrice       4016 non-null   float64       \n",
      " 33  inrChange %    4016 non-null   float64       \n",
      " 34  diPrice        4016 non-null   float64       \n",
      " 35  diChange %     4016 non-null   float64       \n",
      " 36  T10Y2Y         4016 non-null   float64       \n",
      " 37  T10Y2Y%chng    4016 non-null   float64       \n",
      " 38  Fedinterest    4011 non-null   float64       \n",
      " 39  Fed%change     4011 non-null   float64       \n",
      "dtypes: datetime64[ns](1), float64(16), int64(21), object(2)\n",
      "memory usage: 1.2+ MB\n"
     ]
    }
   ],
   "source": [
    "daily_df = pd.merge(daily_df, fedinterest, how='left', on='Date')\n",
    "daily_df.ffill(inplace=True)\n",
    "daily_df.info()"
   ]
  },
  {
   "cell_type": "markdown",
   "metadata": {},
   "source": [
    "---"
   ]
  },
  {
   "cell_type": "markdown",
   "metadata": {},
   "source": [
    "## **RBI Interest Rate**"
   ]
  },
  {
   "cell_type": "code",
   "execution_count": 45,
   "metadata": {},
   "outputs": [
    {
     "name": "stdout",
     "output_type": "stream",
     "text": [
      "<class 'pandas.core.frame.DataFrame'>\n",
      "RangeIndex: 69 entries, 0 to 68\n",
      "Data columns (total 3 columns):\n",
      " #   Column       Non-Null Count  Dtype         \n",
      "---  ------       --------------  -----         \n",
      " 0   Date         69 non-null     datetime64[ns]\n",
      " 1   Rbiinterest  69 non-null     float64       \n",
      " 2   Rbi%change   69 non-null     float64       \n",
      "dtypes: datetime64[ns](1), float64(2)\n",
      "memory usage: 1.7 KB\n"
     ]
    },
    {
     "data": {
      "text/html": [
       "<div>\n",
       "<style scoped>\n",
       "    .dataframe tbody tr th:only-of-type {\n",
       "        vertical-align: middle;\n",
       "    }\n",
       "\n",
       "    .dataframe tbody tr th {\n",
       "        vertical-align: top;\n",
       "    }\n",
       "\n",
       "    .dataframe thead th {\n",
       "        text-align: right;\n",
       "    }\n",
       "</style>\n",
       "<table border=\"1\" class=\"dataframe\">\n",
       "  <thead>\n",
       "    <tr style=\"text-align: right;\">\n",
       "      <th></th>\n",
       "      <th>Date</th>\n",
       "      <th>Rbiinterest</th>\n",
       "      <th>Rbi%change</th>\n",
       "    </tr>\n",
       "  </thead>\n",
       "  <tbody>\n",
       "    <tr>\n",
       "      <th>0</th>\n",
       "      <td>2008-06-12</td>\n",
       "      <td>8.0</td>\n",
       "      <td>0.00</td>\n",
       "    </tr>\n",
       "    <tr>\n",
       "      <th>1</th>\n",
       "      <td>2008-06-25</td>\n",
       "      <td>8.5</td>\n",
       "      <td>6.25</td>\n",
       "    </tr>\n",
       "  </tbody>\n",
       "</table>\n",
       "</div>"
      ],
      "text/plain": [
       "        Date  Rbiinterest  Rbi%change\n",
       "0 2008-06-12          8.0        0.00\n",
       "1 2008-06-25          8.5        6.25"
      ]
     },
     "execution_count": 45,
     "metadata": {},
     "output_type": "execute_result"
    }
   ],
   "source": [
    "df7 = pd.read_csv(\"MacroData/Rbiinterest.csv\")\n",
    "rbiinterest = df7.copy()\n",
    "rbiinterest[\"Date\"] = pd.to_datetime(rbiinterest['Date'])\n",
    "rbiinterest.info()\n",
    "rbiinterest.head(2)"
   ]
  },
  {
   "cell_type": "code",
   "execution_count": 46,
   "metadata": {},
   "outputs": [
    {
     "name": "stdout",
     "output_type": "stream",
     "text": [
      "<class 'pandas.core.frame.DataFrame'>\n",
      "RangeIndex: 4016 entries, 0 to 4015\n",
      "Data columns (total 42 columns):\n",
      " #   Column         Non-Null Count  Dtype         \n",
      "---  ------         --------------  -----         \n",
      " 0   Date           4016 non-null   datetime64[ns]\n",
      " 1   vixPrice       4016 non-null   float64       \n",
      " 2   vixChange%     4016 non-null   float64       \n",
      " 3   niftyPrice     4016 non-null   float64       \n",
      " 4   niftyChange %  4016 non-null   float64       \n",
      " 5   DayOfWeek      4016 non-null   object        \n",
      " 6   month          4016 non-null   object        \n",
      " 7   Tuesday        4016 non-null   int64         \n",
      " 8   Wednesday      4016 non-null   int64         \n",
      " 9   Friday         4016 non-null   int64         \n",
      " 10  Monday         4016 non-null   int64         \n",
      " 11  Thursday       4016 non-null   int64         \n",
      " 12  Saturday       4016 non-null   int64         \n",
      " 13  Sunday         4016 non-null   int64         \n",
      " 14  March          4016 non-null   int64         \n",
      " 15  April          4016 non-null   int64         \n",
      " 16  May            4016 non-null   int64         \n",
      " 17  June           4016 non-null   int64         \n",
      " 18  July           4016 non-null   int64         \n",
      " 19  August         4016 non-null   int64         \n",
      " 20  September      4016 non-null   int64         \n",
      " 21  October        4016 non-null   int64         \n",
      " 22  November       4016 non-null   int64         \n",
      " 23  December       4016 non-null   int64         \n",
      " 24  January        4016 non-null   int64         \n",
      " 25  February       4016 non-null   int64         \n",
      " 26  cluster        4016 non-null   int64         \n",
      " 27  Month          4016 non-null   int64         \n",
      " 28  GoldPrice      4016 non-null   float64       \n",
      " 29  GoldChange %   4016 non-null   float64       \n",
      " 30  CrudePrice     4016 non-null   float64       \n",
      " 31  CrudeChange %  4016 non-null   float64       \n",
      " 32  inrPrice       4016 non-null   float64       \n",
      " 33  inrChange %    4016 non-null   float64       \n",
      " 34  diPrice        4016 non-null   float64       \n",
      " 35  diChange %     4016 non-null   float64       \n",
      " 36  T10Y2Y         4016 non-null   float64       \n",
      " 37  T10Y2Y%chng    4016 non-null   float64       \n",
      " 38  Fedinterest    4011 non-null   float64       \n",
      " 39  Fed%change     4011 non-null   float64       \n",
      " 40  Rbiinterest    4011 non-null   float64       \n",
      " 41  Rbi%change     4011 non-null   float64       \n",
      "dtypes: datetime64[ns](1), float64(18), int64(21), object(2)\n",
      "memory usage: 1.3+ MB\n"
     ]
    }
   ],
   "source": [
    "daily_df = pd.merge(daily_df, rbiinterest, how='left', on='Date')\n",
    "daily_df.ffill(inplace=True)\n",
    "daily_df.info()"
   ]
  },
  {
   "cell_type": "markdown",
   "metadata": {},
   "source": [
    "---"
   ]
  },
  {
   "cell_type": "markdown",
   "metadata": {},
   "source": [
    "## **US Inflation**"
   ]
  },
  {
   "cell_type": "code",
   "execution_count": 47,
   "metadata": {},
   "outputs": [
    {
     "data": {
      "text/html": [
       "<div>\n",
       "<style scoped>\n",
       "    .dataframe tbody tr th:only-of-type {\n",
       "        vertical-align: middle;\n",
       "    }\n",
       "\n",
       "    .dataframe tbody tr th {\n",
       "        vertical-align: top;\n",
       "    }\n",
       "\n",
       "    .dataframe thead th {\n",
       "        text-align: right;\n",
       "    }\n",
       "</style>\n",
       "<table border=\"1\" class=\"dataframe\">\n",
       "  <thead>\n",
       "    <tr style=\"text-align: right;\">\n",
       "      <th></th>\n",
       "      <th>Date</th>\n",
       "      <th>USInflation Rate (%)</th>\n",
       "    </tr>\n",
       "  </thead>\n",
       "  <tbody>\n",
       "    <tr>\n",
       "      <th>0</th>\n",
       "      <td>2008-03-01</td>\n",
       "      <td>7.7</td>\n",
       "    </tr>\n",
       "    <tr>\n",
       "      <th>1</th>\n",
       "      <td>2008-04-01</td>\n",
       "      <td>8.0</td>\n",
       "    </tr>\n",
       "    <tr>\n",
       "      <th>2</th>\n",
       "      <td>2008-05-01</td>\n",
       "      <td>8.1</td>\n",
       "    </tr>\n",
       "    <tr>\n",
       "      <th>3</th>\n",
       "      <td>2008-06-01</td>\n",
       "      <td>8.6</td>\n",
       "    </tr>\n",
       "    <tr>\n",
       "      <th>4</th>\n",
       "      <td>2008-07-01</td>\n",
       "      <td>9.0</td>\n",
       "    </tr>\n",
       "  </tbody>\n",
       "</table>\n",
       "</div>"
      ],
      "text/plain": [
       "        Date  USInflation Rate (%)\n",
       "0 2008-03-01                   7.7\n",
       "1 2008-04-01                   8.0\n",
       "2 2008-05-01                   8.1\n",
       "3 2008-06-01                   8.6\n",
       "4 2008-07-01                   9.0"
      ]
     },
     "execution_count": 47,
     "metadata": {},
     "output_type": "execute_result"
    }
   ],
   "source": [
    "df8 = pd.read_csv(\"MacroData/USinflationdata.csv\")\n",
    "USinflation = df8.copy()\n",
    "USinflation[\"Date\"] = pd.to_datetime(USinflation['Date'])\n",
    "USinflation.head()"
   ]
  },
  {
   "cell_type": "markdown",
   "metadata": {},
   "source": [
    "adding a column that shows percentage change"
   ]
  },
  {
   "cell_type": "code",
   "execution_count": 48,
   "metadata": {},
   "outputs": [],
   "source": [
    "USinflation['USInflationRate%chng'] = USinflation['USInflation Rate (%)'].pct_change() * 100 "
   ]
  },
  {
   "cell_type": "code",
   "execution_count": 49,
   "metadata": {},
   "outputs": [],
   "source": [
    "USinflation['USInflationRate%chng']=USinflation['USInflationRate%chng'].fillna('0').astype(float)"
   ]
  },
  {
   "cell_type": "code",
   "execution_count": 50,
   "metadata": {},
   "outputs": [
    {
     "name": "stdout",
     "output_type": "stream",
     "text": [
      "<class 'pandas.core.frame.DataFrame'>\n",
      "RangeIndex: 198 entries, 0 to 197\n",
      "Data columns (total 3 columns):\n",
      " #   Column                Non-Null Count  Dtype         \n",
      "---  ------                --------------  -----         \n",
      " 0   Date                  198 non-null    datetime64[ns]\n",
      " 1   USInflation Rate (%)  198 non-null    float64       \n",
      " 2   USInflationRate%chng  198 non-null    float64       \n",
      "dtypes: datetime64[ns](1), float64(2)\n",
      "memory usage: 4.8 KB\n"
     ]
    },
    {
     "data": {
      "text/html": [
       "<div>\n",
       "<style scoped>\n",
       "    .dataframe tbody tr th:only-of-type {\n",
       "        vertical-align: middle;\n",
       "    }\n",
       "\n",
       "    .dataframe tbody tr th {\n",
       "        vertical-align: top;\n",
       "    }\n",
       "\n",
       "    .dataframe thead th {\n",
       "        text-align: right;\n",
       "    }\n",
       "</style>\n",
       "<table border=\"1\" class=\"dataframe\">\n",
       "  <thead>\n",
       "    <tr style=\"text-align: right;\">\n",
       "      <th></th>\n",
       "      <th>Date</th>\n",
       "      <th>USInflation Rate (%)</th>\n",
       "      <th>USInflationRate%chng</th>\n",
       "    </tr>\n",
       "  </thead>\n",
       "  <tbody>\n",
       "    <tr>\n",
       "      <th>0</th>\n",
       "      <td>2008-03-01</td>\n",
       "      <td>7.7</td>\n",
       "      <td>0.000000</td>\n",
       "    </tr>\n",
       "    <tr>\n",
       "      <th>1</th>\n",
       "      <td>2008-04-01</td>\n",
       "      <td>8.0</td>\n",
       "      <td>3.896104</td>\n",
       "    </tr>\n",
       "  </tbody>\n",
       "</table>\n",
       "</div>"
      ],
      "text/plain": [
       "        Date  USInflation Rate (%)  USInflationRate%chng\n",
       "0 2008-03-01                   7.7              0.000000\n",
       "1 2008-04-01                   8.0              3.896104"
      ]
     },
     "execution_count": 50,
     "metadata": {},
     "output_type": "execute_result"
    }
   ],
   "source": [
    "USinflation.info()\n",
    "USinflation.head(2)"
   ]
  },
  {
   "cell_type": "markdown",
   "metadata": {},
   "source": [
    "---"
   ]
  },
  {
   "cell_type": "markdown",
   "metadata": {},
   "source": [
    "## **India Inflation Rate**"
   ]
  },
  {
   "cell_type": "code",
   "execution_count": 51,
   "metadata": {},
   "outputs": [
    {
     "data": {
      "text/html": [
       "<div>\n",
       "<style scoped>\n",
       "    .dataframe tbody tr th:only-of-type {\n",
       "        vertical-align: middle;\n",
       "    }\n",
       "\n",
       "    .dataframe tbody tr th {\n",
       "        vertical-align: top;\n",
       "    }\n",
       "\n",
       "    .dataframe thead th {\n",
       "        text-align: right;\n",
       "    }\n",
       "</style>\n",
       "<table border=\"1\" class=\"dataframe\">\n",
       "  <thead>\n",
       "    <tr style=\"text-align: right;\">\n",
       "      <th></th>\n",
       "      <th>Date</th>\n",
       "      <th>IndiaInflationRate(%)</th>\n",
       "    </tr>\n",
       "  </thead>\n",
       "  <tbody>\n",
       "    <tr>\n",
       "      <th>0</th>\n",
       "      <td>2008-03-01</td>\n",
       "      <td>7.9</td>\n",
       "    </tr>\n",
       "    <tr>\n",
       "      <th>1</th>\n",
       "      <td>2008-04-01</td>\n",
       "      <td>8.0</td>\n",
       "    </tr>\n",
       "    <tr>\n",
       "      <th>2</th>\n",
       "      <td>2008-05-01</td>\n",
       "      <td>9.1</td>\n",
       "    </tr>\n",
       "    <tr>\n",
       "      <th>3</th>\n",
       "      <td>2008-06-01</td>\n",
       "      <td>9.3</td>\n",
       "    </tr>\n",
       "    <tr>\n",
       "      <th>4</th>\n",
       "      <td>2008-07-01</td>\n",
       "      <td>11.8</td>\n",
       "    </tr>\n",
       "  </tbody>\n",
       "</table>\n",
       "</div>"
      ],
      "text/plain": [
       "        Date  IndiaInflationRate(%)\n",
       "0 2008-03-01                    7.9\n",
       "1 2008-04-01                    8.0\n",
       "2 2008-05-01                    9.1\n",
       "3 2008-06-01                    9.3\n",
       "4 2008-07-01                   11.8"
      ]
     },
     "execution_count": 51,
     "metadata": {},
     "output_type": "execute_result"
    }
   ],
   "source": [
    "df9 = pd.read_csv(\"MacroData/IndiaInflation.csv\")\n",
    "IndiaInflation = df9.copy()\n",
    "IndiaInflation[\"Date\"] = pd.to_datetime(IndiaInflation['Date'])\n",
    "IndiaInflation.head()"
   ]
  },
  {
   "cell_type": "markdown",
   "metadata": {},
   "source": []
  },
  {
   "cell_type": "code",
   "execution_count": 52,
   "metadata": {},
   "outputs": [],
   "source": [
    "IndiaInflation['IndiaInflationRate(%)chng'] = IndiaInflation['IndiaInflationRate(%)'].pct_change() * 100 "
   ]
  },
  {
   "cell_type": "code",
   "execution_count": 53,
   "metadata": {},
   "outputs": [],
   "source": [
    "IndiaInflation['IndiaInflationRate(%)chng']=IndiaInflation['IndiaInflationRate(%)chng'].fillna('0').astype(float)"
   ]
  },
  {
   "cell_type": "code",
   "execution_count": 54,
   "metadata": {},
   "outputs": [
    {
     "name": "stdout",
     "output_type": "stream",
     "text": [
      "<class 'pandas.core.frame.DataFrame'>\n",
      "RangeIndex: 198 entries, 0 to 197\n",
      "Data columns (total 3 columns):\n",
      " #   Column                     Non-Null Count  Dtype         \n",
      "---  ------                     --------------  -----         \n",
      " 0   Date                       198 non-null    datetime64[ns]\n",
      " 1   IndiaInflationRate(%)      198 non-null    float64       \n",
      " 2   IndiaInflationRate(%)chng  198 non-null    float64       \n",
      "dtypes: datetime64[ns](1), float64(2)\n",
      "memory usage: 4.8 KB\n"
     ]
    },
    {
     "data": {
      "text/html": [
       "<div>\n",
       "<style scoped>\n",
       "    .dataframe tbody tr th:only-of-type {\n",
       "        vertical-align: middle;\n",
       "    }\n",
       "\n",
       "    .dataframe tbody tr th {\n",
       "        vertical-align: top;\n",
       "    }\n",
       "\n",
       "    .dataframe thead th {\n",
       "        text-align: right;\n",
       "    }\n",
       "</style>\n",
       "<table border=\"1\" class=\"dataframe\">\n",
       "  <thead>\n",
       "    <tr style=\"text-align: right;\">\n",
       "      <th></th>\n",
       "      <th>Date</th>\n",
       "      <th>IndiaInflationRate(%)</th>\n",
       "      <th>IndiaInflationRate(%)chng</th>\n",
       "    </tr>\n",
       "  </thead>\n",
       "  <tbody>\n",
       "    <tr>\n",
       "      <th>0</th>\n",
       "      <td>2008-03-01</td>\n",
       "      <td>7.9</td>\n",
       "      <td>0.000000</td>\n",
       "    </tr>\n",
       "    <tr>\n",
       "      <th>1</th>\n",
       "      <td>2008-04-01</td>\n",
       "      <td>8.0</td>\n",
       "      <td>1.265823</td>\n",
       "    </tr>\n",
       "  </tbody>\n",
       "</table>\n",
       "</div>"
      ],
      "text/plain": [
       "        Date  IndiaInflationRate(%)  IndiaInflationRate(%)chng\n",
       "0 2008-03-01                    7.9                   0.000000\n",
       "1 2008-04-01                    8.0                   1.265823"
      ]
     },
     "execution_count": 54,
     "metadata": {},
     "output_type": "execute_result"
    }
   ],
   "source": [
    "IndiaInflation.info()\n",
    "IndiaInflation.head(2)"
   ]
  },
  {
   "cell_type": "code",
   "execution_count": null,
   "metadata": {},
   "outputs": [],
   "source": []
  }
 ],
 "metadata": {
  "kernelspec": {
   "display_name": "Python 3",
   "language": "python",
   "name": "python3"
  },
  "language_info": {
   "codemirror_mode": {
    "name": "ipython",
    "version": 3
   },
   "file_extension": ".py",
   "mimetype": "text/x-python",
   "name": "python",
   "nbconvert_exporter": "python",
   "pygments_lexer": "ipython3",
   "version": "3.11.5"
  }
 },
 "nbformat": 4,
 "nbformat_minor": 2
}
